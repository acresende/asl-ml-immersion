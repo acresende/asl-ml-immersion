{
 "cells": [
  {
   "cell_type": "markdown",
   "metadata": {},
   "source": [
    "# Training a model with `traffic_last_5min` feature\n",
    "\n",
    "\n",
    "## Introduction\n",
    "\n",
    "In this notebook, we'll train a taxifare prediction model but this time with an additional feature of `traffic_last_5min`."
   ]
  },
  {
   "cell_type": "code",
   "execution_count": 1,
   "metadata": {},
   "outputs": [
    {
     "name": "stdout",
     "output_type": "stream",
     "text": [
      "2.3.4\n"
     ]
    }
   ],
   "source": [
    "import os\n",
    "import shutil\n",
    "\n",
    "import pandas as pd\n",
    "import tensorflow as tf\n",
    "\n",
    "from datetime import datetime\n",
    "from matplotlib import pyplot as plt\n",
    "from tensorflow import keras\n",
    "\n",
    "from google.cloud import aiplatform\n",
    "from tensorflow.keras.models import Sequential\n",
    "from tensorflow.keras.layers import Dense, DenseFeatures\n",
    "from tensorflow.keras.callbacks import TensorBoard\n",
    "\n",
    "print(tf.__version__)\n",
    "%matplotlib inline"
   ]
  },
  {
   "cell_type": "code",
   "execution_count": 2,
   "metadata": {},
   "outputs": [
    {
     "name": "stdout",
     "output_type": "stream",
     "text": [
      "env: PROJECT=qwiklabs-gcp-00-eeb852ce8ccb\n",
      "env: BUCKET=qwiklabs-gcp-00-eeb852ce8ccb\n",
      "env: REGION=us-central1\n"
     ]
    }
   ],
   "source": [
    "# Change below if necessary\n",
    "PROJECT = !gcloud config get-value project  # noqa: E999\n",
    "PROJECT = PROJECT[0]\n",
    "BUCKET = PROJECT\n",
    "REGION = \"us-central1\"\n",
    "\n",
    "%env PROJECT=$PROJECT\n",
    "%env BUCKET=$BUCKET\n",
    "%env REGION=$REGION"
   ]
  },
  {
   "cell_type": "code",
   "execution_count": 3,
   "metadata": {},
   "outputs": [
    {
     "name": "stderr",
     "output_type": "stream",
     "text": [
      "Updated property [core/project].\n",
      "Updated property [ai/region].\n"
     ]
    }
   ],
   "source": [
    "%%bash\n",
    "gcloud config set project $PROJECT\n",
    "gcloud config set ai/region $REGION"
   ]
  },
  {
   "cell_type": "markdown",
   "metadata": {},
   "source": [
    "## Load raw data"
   ]
  },
  {
   "cell_type": "code",
   "execution_count": 4,
   "metadata": {},
   "outputs": [
    {
     "name": "stdout",
     "output_type": "stream",
     "text": [
      "-rw-r--r-- 1 jupyter jupyter 2186310 Oct  4 18:39 ../data/taxi-traffic-test.csv\n",
      "-rw-r--r-- 1 jupyter jupyter 9713118 Oct  4 18:39 ../data/taxi-traffic-train.csv\n",
      "-rw-r--r-- 1 jupyter jupyter 2036826 Oct  4 18:39 ../data/taxi-traffic-valid.csv\n"
     ]
    }
   ],
   "source": [
    "!ls -l ../data/taxi-traffic*"
   ]
  },
  {
   "cell_type": "code",
   "execution_count": 5,
   "metadata": {},
   "outputs": [
    {
     "name": "stdout",
     "output_type": "stream",
     "text": [
      "==> ../data/taxi-traffic-test.csv <==\n",
      "15.7,6,12,-73.990072,40.758199,-73.974686,40.742004,2089\n",
      "6.1,7,2,-73.95647,40.771226,-73.971845,40.750089,1738\n",
      "4.1,6,18,-73.987871,40.759855,-73.996375,40.763728,2971\n",
      "5.7,2,18,-73.974177,40.761154,-73.980953,40.769357,2320\n",
      "7.4,4,23,-73.924908,40.741879,-73.897524,40.747867,1491\n",
      "20.5,1,15,-73.957528,40.766847,-73.870813,40.774044,1794\n",
      "6.5,6,9,-73.996553,40.725558,-73.992503,40.737248,2341\n",
      "4.1,4,11,-73.98353,40.746821000000004,-73.976831,40.751082000000004,2329\n",
      "10.5,3,18,-73.863998,40.770439,-73.91671099999999,40.773011,2318\n",
      "10.1,6,1,-73.979685,40.727247999999996,-73.952508,40.772492,1455\n",
      "\n",
      "==> ../data/taxi-traffic-train.csv <==\n",
      "6.1,2,0,-73.98689499999999,40.729723,-74.00631,40.739407,1129\n",
      "9.7,7,0,-73.94578299999999,40.777807,-73.97539,40.757712,2876\n",
      "5.3,6,0,-74.00644,40.739349,-73.999379,40.731804,3950\n",
      "7.3,5,0,-73.96611800000001,40.753983000000005,-73.945605,40.782802000000004,1334\n",
      "6.5,7,0,-73.974153,40.762767,-73.989152,40.742727,2623\n",
      "22.9,1,0,-73.977188,40.774063,-73.962647,40.654768,2833\n",
      "22.9,2,0,-74.00188,40.745946999999994,-73.968497,40.639375,2002\n",
      "6.1,3,0,-73.994051,40.751077,-73.977333,40.778875,661\n",
      "5.3,5,0,-73.980898,40.744515,-73.973383,40.753496999999996,1938\n",
      "6.5,7,0,-74.00540600000001,40.708533,-74.005498,40.725617,2781\n",
      "\n",
      "==> ../data/taxi-traffic-valid.csv <==\n",
      "7.7,2,11,-73.97463,40.742118,-73.98544,40.760585999999996,1059\n",
      "30.1,7,1,-73.956921,40.777588,-73.965109,40.673271,2225\n",
      "7.7,6,13,-73.98073199999999,40.742109,-73.96415400000001,40.764891999999996,1994\n",
      "24.67,4,4,-73.953387,40.822733,-73.878697,40.755373,321\n",
      "7.7,2,1,-73.982304,40.723572,-73.972778,40.74928,1115\n",
      "8.1,5,18,-73.98474300000001,40.749171999999994,-74.00232,40.72825,2697\n",
      "6.1,4,1,-73.983588,40.72224,-73.997302,40.720786,868\n",
      "19.07,3,1,-73.94446500000001,40.807284,-73.876339,40.763073999999996,711\n",
      "12.5,4,10,-73.98696899999999,40.722343,-74.01621,40.715067,1990\n",
      "5.7,7,18,-74.007972,40.738759,-73.991973,40.73704,2048\n"
     ]
    }
   ],
   "source": [
    "!head ../data/taxi-traffic*"
   ]
  },
  {
   "cell_type": "markdown",
   "metadata": {},
   "source": [
    "## Use tf.data to read the CSV files\n",
    "\n",
    "These functions for reading data from the csv files are similar to what we used in the Introduction to Tensorflow module. Note that here we have an addtional feature `traffic_last_5min`."
   ]
  },
  {
   "cell_type": "code",
   "execution_count": 6,
   "metadata": {},
   "outputs": [],
   "source": [
    "CSV_COLUMNS = [\n",
    "    \"fare_amount\",\n",
    "    \"dayofweek\",\n",
    "    \"hourofday\",\n",
    "    \"pickup_longitude\",\n",
    "    \"pickup_latitude\",\n",
    "    \"dropoff_longitude\",\n",
    "    \"dropoff_latitude\",\n",
    "    \"traffic_last_5min\",\n",
    "]\n",
    "LABEL_COLUMN = \"fare_amount\"\n",
    "DEFAULTS = [[0.0], [0.0], [0.0], [0.0], [0.0], [0.0], [0.0], [0.0]]\n",
    "\n",
    "\n",
    "def features_and_labels(row_data):\n",
    "    label = row_data.pop(LABEL_COLUMN)\n",
    "    features = row_data\n",
    "\n",
    "    return features, label\n",
    "\n",
    "\n",
    "def create_dataset(pattern, batch_size=1, mode=tf.estimator.ModeKeys.EVAL):\n",
    "    dataset = tf.data.experimental.make_csv_dataset(\n",
    "        pattern, batch_size, CSV_COLUMNS, DEFAULTS\n",
    "    )\n",
    "\n",
    "    dataset = dataset.map(features_and_labels)\n",
    "\n",
    "    if mode == tf.estimator.ModeKeys.TRAIN:\n",
    "        dataset = dataset.shuffle(buffer_size=1000).repeat()\n",
    "\n",
    "    # take advantage of multi-threading; 1=AUTOTUNE\n",
    "    dataset = dataset.prefetch(1)\n",
    "    return dataset"
   ]
  },
  {
   "cell_type": "code",
   "execution_count": 7,
   "metadata": {},
   "outputs": [],
   "source": [
    "INPUT_COLS = [\n",
    "    \"dayofweek\",\n",
    "    \"hourofday\",\n",
    "    \"pickup_longitude\",\n",
    "    \"pickup_latitude\",\n",
    "    \"dropoff_longitude\",\n",
    "    \"dropoff_latitude\",\n",
    "    \"traffic_last_5min\",\n",
    "]\n",
    "\n",
    "# Create input layer of feature columns\n",
    "feature_columns = {\n",
    "    colname: tf.feature_column.numeric_column(colname)\n",
    "    for colname in INPUT_COLS\n",
    "}"
   ]
  },
  {
   "cell_type": "markdown",
   "metadata": {},
   "source": [
    "## Build a simple keras DNN model"
   ]
  },
  {
   "cell_type": "code",
   "execution_count": 8,
   "metadata": {},
   "outputs": [],
   "source": [
    "# Build a keras DNN model using Sequential API\n",
    "def build_model(dnn_hidden_units):\n",
    "    model = Sequential(DenseFeatures(feature_columns=feature_columns.values()))\n",
    "\n",
    "    for num_nodes in dnn_hidden_units:\n",
    "        model.add(Dense(units=num_nodes, activation=\"relu\"))\n",
    "\n",
    "    model.add(Dense(units=1, activation=\"linear\"))\n",
    "\n",
    "    # Create a custom evaluation metric\n",
    "    def rmse(y_true, y_pred):\n",
    "        return tf.sqrt(tf.reduce_mean(tf.square(y_pred - y_true)))\n",
    "\n",
    "    # Compile the keras model\n",
    "    model.compile(optimizer=\"adam\", loss=\"mse\", metrics=[rmse, \"mse\"])\n",
    "\n",
    "    return model"
   ]
  },
  {
   "cell_type": "markdown",
   "metadata": {},
   "source": [
    "Next, we can call the `build_model` to create the model. Here we'll have two hidden layers before our final output layer. And we'll train with the same parameters we used before."
   ]
  },
  {
   "cell_type": "code",
   "execution_count": 9,
   "metadata": {},
   "outputs": [
    {
     "name": "stderr",
     "output_type": "stream",
     "text": [
      "2021-10-11 17:47:18.503616: I tensorflow/core/platform/profile_utils/cpu_utils.cc:104] CPU Frequency: 2200205000 Hz\n",
      "2021-10-11 17:47:18.504352: I tensorflow/compiler/xla/service/service.cc:168] XLA service 0x555a6bb1f840 initialized for platform Host (this does not guarantee that XLA will be used). Devices:\n",
      "2021-10-11 17:47:18.504433: I tensorflow/compiler/xla/service/service.cc:176]   StreamExecutor device (0): Host, Default Version\n",
      "2021-10-11 17:47:18.504824: I tensorflow/core/common_runtime/process_util.cc:146] Creating new thread pool with default inter op setting: 2. Tune using inter_op_parallelism_threads for best performance.\n"
     ]
    }
   ],
   "source": [
    "HIDDEN_UNITS = [32, 8]\n",
    "\n",
    "model = build_model(dnn_hidden_units=HIDDEN_UNITS)"
   ]
  },
  {
   "cell_type": "code",
   "execution_count": 10,
   "metadata": {},
   "outputs": [],
   "source": [
    "BATCH_SIZE = 1000\n",
    "NUM_TRAIN_EXAMPLES = 10000 * 6  # training dataset will repeat, wrap around\n",
    "NUM_EVALS = 60  # how many times to evaluate\n",
    "NUM_EVAL_EXAMPLES = 10000  # enough to get a reasonable sample\n",
    "\n",
    "trainds = create_dataset(\n",
    "    pattern=\"../data/taxi-traffic-train*\",\n",
    "    batch_size=BATCH_SIZE,\n",
    "    mode=tf.estimator.ModeKeys.TRAIN,\n",
    ")\n",
    "\n",
    "evalds = create_dataset(\n",
    "    pattern=\"../data/taxi-traffic-valid*\",\n",
    "    batch_size=BATCH_SIZE,\n",
    "    mode=tf.estimator.ModeKeys.EVAL,\n",
    ").take(NUM_EVAL_EXAMPLES // 1000)"
   ]
  },
  {
   "cell_type": "code",
   "execution_count": 11,
   "metadata": {},
   "outputs": [
    {
     "name": "stdout",
     "output_type": "stream",
     "text": [
      "Epoch 1/60\n",
      "WARNING:tensorflow:Layers in a Sequential model should only have a single input tensor, but we receive a <class 'collections.OrderedDict'> input: OrderedDict([('dayofweek', <tf.Tensor 'ExpandDims:0' shape=(1000, 1) dtype=float32>), ('hourofday', <tf.Tensor 'ExpandDims_3:0' shape=(1000, 1) dtype=float32>), ('pickup_longitude', <tf.Tensor 'ExpandDims_5:0' shape=(1000, 1) dtype=float32>), ('pickup_latitude', <tf.Tensor 'ExpandDims_4:0' shape=(1000, 1) dtype=float32>), ('dropoff_longitude', <tf.Tensor 'ExpandDims_2:0' shape=(1000, 1) dtype=float32>), ('dropoff_latitude', <tf.Tensor 'ExpandDims_1:0' shape=(1000, 1) dtype=float32>), ('traffic_last_5min', <tf.Tensor 'ExpandDims_6:0' shape=(1000, 1) dtype=float32>)])\n",
      "Consider rewriting this model with the Functional API.\n",
      "WARNING:tensorflow:Layers in a Sequential model should only have a single input tensor, but we receive a <class 'collections.OrderedDict'> input: OrderedDict([('dayofweek', <tf.Tensor 'ExpandDims:0' shape=(1000, 1) dtype=float32>), ('hourofday', <tf.Tensor 'ExpandDims_3:0' shape=(1000, 1) dtype=float32>), ('pickup_longitude', <tf.Tensor 'ExpandDims_5:0' shape=(1000, 1) dtype=float32>), ('pickup_latitude', <tf.Tensor 'ExpandDims_4:0' shape=(1000, 1) dtype=float32>), ('dropoff_longitude', <tf.Tensor 'ExpandDims_2:0' shape=(1000, 1) dtype=float32>), ('dropoff_latitude', <tf.Tensor 'ExpandDims_1:0' shape=(1000, 1) dtype=float32>), ('traffic_last_5min', <tf.Tensor 'ExpandDims_6:0' shape=(1000, 1) dtype=float32>)])\n",
      "Consider rewriting this model with the Functional API.\n"
     ]
    },
    {
     "name": "stderr",
     "output_type": "stream",
     "text": [
      "2021-10-11 17:51:31.366316: I tensorflow/core/profiler/lib/profiler_session.cc:164] Profiler session started.\n"
     ]
    },
    {
     "name": "stdout",
     "output_type": "stream",
     "text": [
      "WARNING:tensorflow:Layers in a Sequential model should only have a single input tensor, but we receive a <class 'collections.OrderedDict'> input: OrderedDict([('dayofweek', <tf.Tensor 'ExpandDims:0' shape=(1000, 1) dtype=float32>), ('hourofday', <tf.Tensor 'ExpandDims_3:0' shape=(1000, 1) dtype=float32>), ('pickup_longitude', <tf.Tensor 'ExpandDims_5:0' shape=(1000, 1) dtype=float32>), ('pickup_latitude', <tf.Tensor 'ExpandDims_4:0' shape=(1000, 1) dtype=float32>), ('dropoff_longitude', <tf.Tensor 'ExpandDims_2:0' shape=(1000, 1) dtype=float32>), ('dropoff_latitude', <tf.Tensor 'ExpandDims_1:0' shape=(1000, 1) dtype=float32>), ('traffic_last_5min', <tf.Tensor 'ExpandDims_6:0' shape=(1000, 1) dtype=float32>)])\n",
      "Consider rewriting this model with the Functional API.\n",
      "WARNING:tensorflow:Layers in a Sequential model should only have a single input tensor, but we receive a <class 'collections.OrderedDict'> input: OrderedDict([('dayofweek', <tf.Tensor 'ExpandDims:0' shape=(1000, 1) dtype=float32>), ('hourofday', <tf.Tensor 'ExpandDims_3:0' shape=(1000, 1) dtype=float32>), ('pickup_longitude', <tf.Tensor 'ExpandDims_5:0' shape=(1000, 1) dtype=float32>), ('pickup_latitude', <tf.Tensor 'ExpandDims_4:0' shape=(1000, 1) dtype=float32>), ('dropoff_longitude', <tf.Tensor 'ExpandDims_2:0' shape=(1000, 1) dtype=float32>), ('dropoff_latitude', <tf.Tensor 'ExpandDims_1:0' shape=(1000, 1) dtype=float32>), ('traffic_last_5min', <tf.Tensor 'ExpandDims_6:0' shape=(1000, 1) dtype=float32>)])\n",
      "Consider rewriting this model with the Functional API.\n"
     ]
    },
    {
     "name": "stderr",
     "output_type": "stream",
     "text": [
      "2021-10-11 17:51:42.396557: I tensorflow/core/kernels/data/shuffle_dataset_op.cc:172] Filling up shuffle buffer (this may take a while): 362 of 1000\n",
      "2021-10-11 17:51:52.399534: I tensorflow/core/kernels/data/shuffle_dataset_op.cc:172] Filling up shuffle buffer (this may take a while): 793 of 1000\n"
     ]
    },
    {
     "name": "stdout",
     "output_type": "stream",
     "text": [
      "1/1 [==============================] - ETA: 0s - loss: 182795.1719 - rmse: 427.5455 - mse: 182795.1719"
     ]
    },
    {
     "name": "stderr",
     "output_type": "stream",
     "text": [
      "2021-10-11 17:51:57.550425: I tensorflow/core/kernels/data/shuffle_dataset_op.cc:221] Shuffle buffer filled.\n"
     ]
    },
    {
     "name": "stdout",
     "output_type": "stream",
     "text": [
      "WARNING:tensorflow:Layers in a Sequential model should only have a single input tensor, but we receive a <class 'collections.OrderedDict'> input: OrderedDict([('dayofweek', <tf.Tensor 'ExpandDims:0' shape=(1000, 1) dtype=float32>), ('hourofday', <tf.Tensor 'ExpandDims_3:0' shape=(1000, 1) dtype=float32>), ('pickup_longitude', <tf.Tensor 'ExpandDims_5:0' shape=(1000, 1) dtype=float32>), ('pickup_latitude', <tf.Tensor 'ExpandDims_4:0' shape=(1000, 1) dtype=float32>), ('dropoff_longitude', <tf.Tensor 'ExpandDims_2:0' shape=(1000, 1) dtype=float32>), ('dropoff_latitude', <tf.Tensor 'ExpandDims_1:0' shape=(1000, 1) dtype=float32>), ('traffic_last_5min', <tf.Tensor 'ExpandDims_6:0' shape=(1000, 1) dtype=float32>)])\n",
      "Consider rewriting this model with the Functional API.\n",
      "WARNING:tensorflow:Layers in a Sequential model should only have a single input tensor, but we receive a <class 'collections.OrderedDict'> input: OrderedDict([('dayofweek', <tf.Tensor 'ExpandDims:0' shape=(1000, 1) dtype=float32>), ('hourofday', <tf.Tensor 'ExpandDims_3:0' shape=(1000, 1) dtype=float32>), ('pickup_longitude', <tf.Tensor 'ExpandDims_5:0' shape=(1000, 1) dtype=float32>), ('pickup_latitude', <tf.Tensor 'ExpandDims_4:0' shape=(1000, 1) dtype=float32>), ('dropoff_longitude', <tf.Tensor 'ExpandDims_2:0' shape=(1000, 1) dtype=float32>), ('dropoff_latitude', <tf.Tensor 'ExpandDims_1:0' shape=(1000, 1) dtype=float32>), ('traffic_last_5min', <tf.Tensor 'ExpandDims_6:0' shape=(1000, 1) dtype=float32>)])\n",
      "Consider rewriting this model with the Functional API.\n",
      "1/1 [==============================] - 2s 2s/step - loss: 182795.1719 - rmse: 427.5455 - mse: 182795.1719 - val_loss: 127701.5312 - val_rmse: 357.2911 - val_mse: 127701.5312\n",
      "Epoch 2/60\n",
      "WARNING:tensorflow:From /opt/conda/lib/python3.7/site-packages/tensorflow/python/ops/summary_ops_v2.py:1277: stop (from tensorflow.python.eager.profiler) is deprecated and will be removed after 2020-07-01.\n",
      "Instructions for updating:\n",
      "use `tf.profiler.experimental.stop` instead.\n",
      "WARNING:tensorflow:From /opt/conda/lib/python3.7/site-packages/tensorflow/python/ops/summary_ops_v2.py:1277: stop (from tensorflow.python.eager.profiler) is deprecated and will be removed after 2020-07-01.\n",
      "Instructions for updating:\n",
      "use `tf.profiler.experimental.stop` instead.\n"
     ]
    },
    {
     "name": "stderr",
     "output_type": "stream",
     "text": [
      "2021-10-11 17:51:59.423884: I tensorflow/core/profiler/lib/profiler_session.cc:164] Profiler session started.\n"
     ]
    },
    {
     "name": "stdout",
     "output_type": "stream",
     "text": [
      "1/1 [==============================] - ETA: 0s - loss: 185756.5156 - rmse: 430.9948 - mse: 185756.5156"
     ]
    },
    {
     "name": "stderr",
     "output_type": "stream",
     "text": [
      "2021-10-11 17:51:59.730933: I tensorflow/core/profiler/rpc/client/save_profile.cc:176] Creating directory: ./taxi_trained/train/plugins/profile/2021_10_11_17_51_59\n",
      "2021-10-11 17:51:59.732332: I tensorflow/core/profiler/rpc/client/save_profile.cc:182] Dumped gzipped tool data for trace.json.gz to ./taxi_trained/train/plugins/profile/2021_10_11_17_51_59/asl.trace.json.gz\n",
      "2021-10-11 17:51:59.738304: I tensorflow/core/profiler/rpc/client/save_profile.cc:176] Creating directory: ./taxi_trained/train/plugins/profile/2021_10_11_17_51_59\n",
      "2021-10-11 17:51:59.738582: I tensorflow/core/profiler/rpc/client/save_profile.cc:182] Dumped gzipped tool data for memory_profile.json.gz to ./taxi_trained/train/plugins/profile/2021_10_11_17_51_59/asl.memory_profile.json.gz\n",
      "2021-10-11 17:51:59.739187: I tensorflow/python/profiler/internal/profiler_wrapper.cc:111] Creating directory: ./taxi_trained/train/plugins/profile/2021_10_11_17_51_59Dumped tool data for xplane.pb to ./taxi_trained/train/plugins/profile/2021_10_11_17_51_59/asl.xplane.pb\n",
      "Dumped tool data for overview_page.pb to ./taxi_trained/train/plugins/profile/2021_10_11_17_51_59/asl.overview_page.pb\n",
      "Dumped tool data for input_pipeline.pb to ./taxi_trained/train/plugins/profile/2021_10_11_17_51_59/asl.input_pipeline.pb\n",
      "Dumped tool data for tensorflow_stats.pb to ./taxi_trained/train/plugins/profile/2021_10_11_17_51_59/asl.tensorflow_stats.pb\n",
      "Dumped tool data for kernel_stats.pb to ./taxi_trained/train/plugins/profile/2021_10_11_17_51_59/asl.kernel_stats.pb\n",
      "\n"
     ]
    },
    {
     "name": "stdout",
     "output_type": "stream",
     "text": [
      "1/1 [==============================] - 1s 1s/step - loss: 185756.5156 - rmse: 430.9948 - mse: 185756.5156 - val_loss: 111503.9141 - val_rmse: 333.8880 - val_mse: 111503.9141\n",
      "Epoch 3/60\n",
      "1/1 [==============================] - 2s 2s/step - loss: 112307.3750 - rmse: 335.1229 - mse: 112307.3750 - val_loss: 96502.5938 - val_rmse: 310.6206 - val_mse: 96502.5938\n",
      "Epoch 4/60\n",
      "1/1 [==============================] - 1s 1s/step - loss: 70722.9453 - rmse: 265.9379 - mse: 70722.9453 - val_loss: 83986.0234 - val_rmse: 289.7795 - val_mse: 83986.0234\n",
      "Epoch 5/60\n",
      "1/1 [==============================] - 1s 1s/step - loss: 122573.6484 - rmse: 350.1052 - mse: 122573.6484 - val_loss: 71586.4922 - val_rmse: 267.5207 - val_mse: 71586.4922\n",
      "Epoch 6/60\n",
      "1/1 [==============================] - 1s 1s/step - loss: 74065.6484 - rmse: 272.1501 - mse: 74065.6484 - val_loss: 60578.9688 - val_rmse: 246.0974 - val_mse: 60578.9688\n",
      "Epoch 7/60\n",
      "1/1 [==============================] - 1s 1s/step - loss: 58750.9766 - rmse: 242.3860 - mse: 58750.9766 - val_loss: 50858.2930 - val_rmse: 225.4890 - val_mse: 50858.2930\n",
      "Epoch 8/60\n",
      "1/1 [==============================] - 1s 1s/step - loss: 60242.1680 - rmse: 245.4428 - mse: 60242.1680 - val_loss: 42334.1523 - val_rmse: 205.7350 - val_mse: 42334.1523\n",
      "Epoch 9/60\n",
      "1/1 [==============================] - 1s 1s/step - loss: 60105.5273 - rmse: 245.1643 - mse: 60105.5273 - val_loss: 34148.7812 - val_rmse: 184.7524 - val_mse: 34148.7812\n",
      "Epoch 10/60\n",
      "1/1 [==============================] - 1s 1s/step - loss: 56193.3438 - rmse: 237.0513 - mse: 56193.3438 - val_loss: 27455.1230 - val_rmse: 165.6682 - val_mse: 27455.1230\n",
      "Epoch 11/60\n",
      "1/1 [==============================] - 1s 1s/step - loss: 28704.4961 - rmse: 169.4240 - mse: 28704.4961 - val_loss: 22714.5469 - val_rmse: 150.6921 - val_mse: 22714.5469\n",
      "Epoch 12/60\n",
      "1/1 [==============================] - 1s 1s/step - loss: 39336.8945 - rmse: 198.3353 - mse: 39336.8945 - val_loss: 18430.4609 - val_rmse: 135.7367 - val_mse: 18430.4609\n",
      "Epoch 13/60\n",
      "1/1 [==============================] - 1s 1s/step - loss: 29122.8438 - rmse: 170.6542 - mse: 29122.8438 - val_loss: 14735.7852 - val_rmse: 121.3749 - val_mse: 14735.7852\n",
      "Epoch 14/60\n",
      "1/1 [==============================] - 1s 844ms/step - loss: 15227.9570 - rmse: 123.4016 - mse: 15227.9570 - val_loss: 11608.3691 - val_rmse: 107.7148 - val_mse: 11608.3691\n",
      "Epoch 15/60\n",
      "1/1 [==============================] - 1s 1s/step - loss: 6680.8130 - rmse: 81.7362 - mse: 6680.8130 - val_loss: 8989.0762 - val_rmse: 94.7964 - val_mse: 8989.0762\n",
      "Epoch 16/60\n",
      "1/1 [==============================] - 1s 1s/step - loss: 8478.5498 - rmse: 92.0790 - mse: 8478.5498 - val_loss: 6834.8345 - val_rmse: 82.6611 - val_mse: 6834.8345\n",
      "Epoch 17/60\n",
      "1/1 [==============================] - 1s 1s/step - loss: 11614.3096 - rmse: 107.7697 - mse: 11614.3096 - val_loss: 4992.8442 - val_rmse: 70.6488 - val_mse: 4992.8442\n",
      "Epoch 18/60\n",
      "1/1 [==============================] - 1s 1s/step - loss: 4873.0381 - rmse: 69.8072 - mse: 4873.0381 - val_loss: 3471.5532 - val_rmse: 58.9083 - val_mse: 3471.5532\n",
      "Epoch 19/60\n",
      "1/1 [==============================] - 1s 1s/step - loss: 5806.9531 - rmse: 76.2034 - mse: 5806.9531 - val_loss: 2314.4438 - val_rmse: 48.1000 - val_mse: 2314.4438\n",
      "Epoch 20/60\n",
      "1/1 [==============================] - 1s 1s/step - loss: 2353.5820 - rmse: 48.5137 - mse: 2353.5820 - val_loss: 1465.6512 - val_rmse: 38.2774 - val_mse: 1465.6512\n",
      "Epoch 21/60\n",
      "1/1 [==============================] - 1s 1s/step - loss: 1616.8578 - rmse: 40.2102 - mse: 1616.8578 - val_loss: 838.9298 - val_rmse: 28.9577 - val_mse: 838.9298\n",
      "Epoch 22/60\n",
      "1/1 [==============================] - 1s 1s/step - loss: 811.1196 - rmse: 28.4802 - mse: 811.1196 - val_loss: 447.9962 - val_rmse: 21.1593 - val_mse: 447.9962\n",
      "Epoch 23/60\n",
      "1/1 [==============================] - 1s 917ms/step - loss: 395.8287 - rmse: 19.8954 - mse: 395.8287 - val_loss: 236.7807 - val_rmse: 15.3809 - val_mse: 236.7807\n",
      "Epoch 24/60\n",
      "1/1 [==============================] - 1s 978ms/step - loss: 183.0764 - rmse: 13.5306 - mse: 183.0764 - val_loss: 170.2748 - val_rmse: 13.0351 - val_mse: 170.2748\n",
      "Epoch 25/60\n",
      "1/1 [==============================] - 1s 765ms/step - loss: 129.2523 - rmse: 11.3689 - mse: 129.2523 - val_loss: 205.3821 - val_rmse: 14.3216 - val_mse: 205.3821\n",
      "Epoch 26/60\n",
      "1/1 [==============================] - 1s 860ms/step - loss: 201.8162 - rmse: 14.2062 - mse: 201.8162 - val_loss: 329.5942 - val_rmse: 18.1476 - val_mse: 329.5942\n",
      "Epoch 27/60\n",
      "1/1 [==============================] - 1s 912ms/step - loss: 300.2361 - rmse: 17.3273 - mse: 300.2361 - val_loss: 517.5001 - val_rmse: 22.7466 - val_mse: 517.5001\n",
      "Epoch 28/60\n",
      "1/1 [==============================] - 1s 845ms/step - loss: 448.7128 - rmse: 21.1828 - mse: 448.7128 - val_loss: 736.4244 - val_rmse: 27.1340 - val_mse: 736.4244\n",
      "Epoch 29/60\n",
      "1/1 [==============================] - 1s 1s/step - loss: 576.7869 - rmse: 24.0164 - mse: 576.7869 - val_loss: 975.6583 - val_rmse: 31.2340 - val_mse: 975.6583\n",
      "Epoch 30/60\n",
      "1/1 [==============================] - 1s 1s/step - loss: 711.9475 - rmse: 26.6823 - mse: 711.9475 - val_loss: 1199.5948 - val_rmse: 34.6324 - val_mse: 1199.5948\n",
      "Epoch 31/60\n",
      "1/1 [==============================] - 1s 1s/step - loss: 1106.2113 - rmse: 33.2598 - mse: 1106.2113 - val_loss: 1429.8199 - val_rmse: 37.8102 - val_mse: 1429.8199\n",
      "Epoch 32/60\n",
      "1/1 [==============================] - 1s 1s/step - loss: 1700.9905 - rmse: 41.2431 - mse: 1700.9905 - val_loss: 1621.9302 - val_rmse: 40.2720 - val_mse: 1621.9302\n",
      "Epoch 33/60\n",
      "1/1 [==============================] - 1s 1s/step - loss: 1546.3817 - rmse: 39.3241 - mse: 1546.3817 - val_loss: 1766.4344 - val_rmse: 42.0278 - val_mse: 1766.4344\n",
      "Epoch 34/60\n",
      "1/1 [==============================] - 1s 847ms/step - loss: 1497.6074 - rmse: 38.6989 - mse: 1497.6074 - val_loss: 1886.1882 - val_rmse: 43.4278 - val_mse: 1886.1882\n",
      "Epoch 35/60\n",
      "1/1 [==============================] - 1s 988ms/step - loss: 1428.3123 - rmse: 37.7930 - mse: 1428.3123 - val_loss: 1968.6429 - val_rmse: 44.3676 - val_mse: 1968.6429\n",
      "Epoch 36/60\n",
      "1/1 [==============================] - 1s 925ms/step - loss: 2505.3091 - rmse: 50.0531 - mse: 2505.3091 - val_loss: 2018.6945 - val_rmse: 44.9260 - val_mse: 2018.6945\n",
      "Epoch 37/60\n",
      "1/1 [==============================] - 1s 1s/step - loss: 2129.7539 - rmse: 46.1493 - mse: 2129.7539 - val_loss: 2006.7928 - val_rmse: 44.7931 - val_mse: 2006.7928\n",
      "Epoch 38/60\n",
      "1/1 [==============================] - 1s 985ms/step - loss: 2643.8059 - rmse: 51.4180 - mse: 2643.8059 - val_loss: 1961.3632 - val_rmse: 44.2851 - val_mse: 1961.3632\n",
      "Epoch 39/60\n",
      "1/1 [==============================] - 1s 1s/step - loss: 1905.3335 - rmse: 43.6501 - mse: 1905.3335 - val_loss: 1873.7072 - val_rmse: 43.2827 - val_mse: 1873.7072\n",
      "Epoch 40/60\n",
      "1/1 [==============================] - 1s 1s/step - loss: 2029.8022 - rmse: 45.0533 - mse: 2029.8022 - val_loss: 1758.0063 - val_rmse: 41.9270 - val_mse: 1758.0063\n",
      "Epoch 41/60\n",
      "1/1 [==============================] - 1s 1s/step - loss: 1763.3153 - rmse: 41.9918 - mse: 1763.3153 - val_loss: 1641.3190 - val_rmse: 40.5112 - val_mse: 1641.3190\n",
      "Epoch 42/60\n",
      "1/1 [==============================] - 1s 878ms/step - loss: 1881.1632 - rmse: 43.3724 - mse: 1881.1632 - val_loss: 1498.8541 - val_rmse: 38.7123 - val_mse: 1498.8541\n",
      "Epoch 43/60\n",
      "1/1 [==============================] - 1s 1s/step - loss: 1152.0743 - rmse: 33.9422 - mse: 1152.0743 - val_loss: 1360.7087 - val_rmse: 36.8864 - val_mse: 1360.7087\n",
      "Epoch 44/60\n",
      "1/1 [==============================] - 1s 1s/step - loss: 1198.7938 - rmse: 34.6236 - mse: 1198.7938 - val_loss: 1211.2653 - val_rmse: 34.8013 - val_mse: 1211.2653\n",
      "Epoch 45/60\n",
      "1/1 [==============================] - 1s 1s/step - loss: 1492.6530 - rmse: 38.6349 - mse: 1492.6530 - val_loss: 1058.0884 - val_rmse: 32.5227 - val_mse: 1058.0884\n",
      "Epoch 46/60\n",
      "1/1 [==============================] - 1s 798ms/step - loss: 1229.1407 - rmse: 35.0591 - mse: 1229.1407 - val_loss: 908.4136 - val_rmse: 30.1360 - val_mse: 908.4136\n",
      "Epoch 47/60\n",
      "1/1 [==============================] - 1s 1s/step - loss: 852.5544 - rmse: 29.1985 - mse: 852.5544 - val_loss: 775.6108 - val_rmse: 27.8466 - val_mse: 775.6108\n",
      "Epoch 48/60\n",
      "1/1 [==============================] - 1s 1s/step - loss: 828.8291 - rmse: 28.7894 - mse: 828.8291 - val_loss: 645.0176 - val_rmse: 25.3930 - val_mse: 645.0176\n",
      "Epoch 49/60\n",
      "1/1 [==============================] - 1s 1s/step - loss: 712.8680 - rmse: 26.6996 - mse: 712.8680 - val_loss: 544.1351 - val_rmse: 23.3181 - val_mse: 544.1351\n",
      "Epoch 50/60\n",
      "1/1 [==============================] - 1s 1s/step - loss: 365.5890 - rmse: 19.1204 - mse: 365.5890 - val_loss: 442.4311 - val_rmse: 21.0240 - val_mse: 442.4311\n",
      "Epoch 51/60\n",
      "1/1 [==============================] - 1s 1s/step - loss: 444.3436 - rmse: 21.0795 - mse: 444.3436 - val_loss: 360.0707 - val_rmse: 18.9653 - val_mse: 360.0707\n",
      "Epoch 52/60\n",
      "1/1 [==============================] - 2s 2s/step - loss: 328.0283 - rmse: 18.1116 - mse: 328.0283 - val_loss: 298.0123 - val_rmse: 17.2579 - val_mse: 298.0123\n",
      "Epoch 53/60\n",
      "1/1 [==============================] - 1s 1s/step - loss: 207.7389 - rmse: 14.4131 - mse: 207.7389 - val_loss: 244.7331 - val_rmse: 15.6264 - val_mse: 244.7331\n",
      "Epoch 54/60\n",
      "1/1 [==============================] - 1s 957ms/step - loss: 197.5155 - rmse: 14.0540 - mse: 197.5155 - val_loss: 210.3017 - val_rmse: 14.4956 - val_mse: 210.3017\n",
      "Epoch 55/60\n",
      "1/1 [==============================] - 1s 1s/step - loss: 119.8655 - rmse: 10.9483 - mse: 119.8655 - val_loss: 178.5757 - val_rmse: 13.3445 - val_mse: 178.5757\n",
      "Epoch 56/60\n",
      "1/1 [==============================] - 1s 1s/step - loss: 207.9326 - rmse: 14.4199 - mse: 207.9326 - val_loss: 165.8022 - val_rmse: 12.8618 - val_mse: 165.8022\n",
      "Epoch 57/60\n",
      "1/1 [==============================] - 1s 1s/step - loss: 113.6646 - rmse: 10.6614 - mse: 113.6646 - val_loss: 151.9939 - val_rmse: 12.3222 - val_mse: 151.9939\n",
      "Epoch 58/60\n",
      "1/1 [==============================] - 1s 1s/step - loss: 185.5261 - rmse: 13.6208 - mse: 185.5261 - val_loss: 154.1387 - val_rmse: 12.4006 - val_mse: 154.1387\n",
      "Epoch 59/60\n",
      "1/1 [==============================] - 1s 1s/step - loss: 133.9850 - rmse: 11.5752 - mse: 133.9850 - val_loss: 160.5724 - val_rmse: 12.6598 - val_mse: 160.5724\n",
      "Epoch 60/60\n",
      "1/1 [==============================] - 1s 949ms/step - loss: 113.4558 - rmse: 10.6516 - mse: 113.4558 - val_loss: 157.5322 - val_rmse: 12.5478 - val_mse: 157.5322\n",
      "CPU times: user 2min 22s, sys: 1min 34s, total: 3min 56s\n",
      "Wall time: 1min 38s\n"
     ]
    }
   ],
   "source": [
    "%%time\n",
    "steps_per_epoch = NUM_TRAIN_EXAMPLES // (BATCH_SIZE * NUM_EVALS)\n",
    "\n",
    "LOGDIR = \"./taxi_trained\"\n",
    "history = model.fit(\n",
    "    x=trainds,\n",
    "    steps_per_epoch=steps_per_epoch,\n",
    "    epochs=NUM_EVALS,\n",
    "    validation_data=evalds,\n",
    "    callbacks=[TensorBoard(LOGDIR)],\n",
    ")"
   ]
  },
  {
   "cell_type": "code",
   "execution_count": 12,
   "metadata": {},
   "outputs": [
    {
     "data": {
      "text/plain": [
       "<AxesSubplot:>"
      ]
     },
     "execution_count": 12,
     "metadata": {},
     "output_type": "execute_result"
    },
    {
     "data": {
      "image/png": "[encoded data removed]",
      "text/plain": [
       "<Figure size 432x288 with 1 Axes>"
      ]
     },
     "metadata": {
      "needs_background": "light"
     },
     "output_type": "display_data"
    }
   ],
   "source": [
    "RMSE_COLS = [\"rmse\", \"val_rmse\"]\n",
    "\n",
    "pd.DataFrame(history.history)[RMSE_COLS].plot()"
   ]
  },
  {
   "cell_type": "code",
   "execution_count": 13,
   "metadata": {},
   "outputs": [
    {
     "name": "stdout",
     "output_type": "stream",
     "text": [
      "WARNING:tensorflow:Layers in a Sequential model should only have a single input tensor, but we receive a <class 'dict'> input: {'dayofweek': <tf.Tensor 'ExpandDims:0' shape=(1, 1) dtype=int32>, 'hourofday': <tf.Tensor 'ExpandDims_3:0' shape=(1, 1) dtype=int32>, 'pickup_longitude': <tf.Tensor 'ExpandDims_5:0' shape=(1, 1) dtype=float32>, 'pickup_latitude': <tf.Tensor 'ExpandDims_4:0' shape=(1, 1) dtype=float32>, 'dropoff_longitude': <tf.Tensor 'ExpandDims_2:0' shape=(1, 1) dtype=float32>, 'dropoff_latitude': <tf.Tensor 'ExpandDims_1:0' shape=(1, 1) dtype=float32>, 'traffic_last_5min': <tf.Tensor 'ExpandDims_6:0' shape=(1, 1) dtype=int32>}\n",
      "Consider rewriting this model with the Functional API.\n",
      "WARNING:tensorflow:Layers in a Sequential model should only have a single input tensor, but we receive a <class 'dict'> input: {'dayofweek': <tf.Tensor 'ExpandDims:0' shape=(1, 1) dtype=int32>, 'hourofday': <tf.Tensor 'ExpandDims_3:0' shape=(1, 1) dtype=int32>, 'pickup_longitude': <tf.Tensor 'ExpandDims_5:0' shape=(1, 1) dtype=float32>, 'pickup_latitude': <tf.Tensor 'ExpandDims_4:0' shape=(1, 1) dtype=float32>, 'dropoff_longitude': <tf.Tensor 'ExpandDims_2:0' shape=(1, 1) dtype=float32>, 'dropoff_latitude': <tf.Tensor 'ExpandDims_1:0' shape=(1, 1) dtype=float32>, 'traffic_last_5min': <tf.Tensor 'ExpandDims_6:0' shape=(1, 1) dtype=int32>}\n",
      "Consider rewriting this model with the Functional API.\n"
     ]
    },
    {
     "data": {
      "text/plain": [
       "array([[-7.959366]], dtype=float32)"
      ]
     },
     "execution_count": 13,
     "metadata": {},
     "output_type": "execute_result"
    }
   ],
   "source": [
    "model.predict(\n",
    "    x={\n",
    "        \"dayofweek\": tf.convert_to_tensor([6]),\n",
    "        \"hourofday\": tf.convert_to_tensor([17]),\n",
    "        \"pickup_longitude\": tf.convert_to_tensor([-73.982683]),\n",
    "        \"pickup_latitude\": tf.convert_to_tensor([40.742104]),\n",
    "        \"dropoff_longitude\": tf.convert_to_tensor([-73.983766]),\n",
    "        \"dropoff_latitude\": tf.convert_to_tensor([40.755174]),\n",
    "        \"traffic_last_5min\": tf.convert_to_tensor([114]),\n",
    "    },\n",
    "    steps=1,\n",
    ")"
   ]
  },
  {
   "cell_type": "markdown",
   "metadata": {},
   "source": [
    "## Export and deploy model"
   ]
  },
  {
   "cell_type": "code",
   "execution_count": 14,
   "metadata": {},
   "outputs": [
    {
     "name": "stdout",
     "output_type": "stream",
     "text": [
      "WARNING:tensorflow:Layers in a Sequential model should only have a single input tensor, but we receive a <class 'collections.OrderedDict'> input: OrderedDict([('dayofweek', <tf.Tensor 'dayofweek:0' shape=(None, 1) dtype=float32>), ('hourofday', <tf.Tensor 'hourofday:0' shape=(None, 1) dtype=float32>), ('pickup_longitude', <tf.Tensor 'pickup_longitude:0' shape=(None, 1) dtype=float32>), ('pickup_latitude', <tf.Tensor 'pickup_latitude:0' shape=(None, 1) dtype=float32>), ('dropoff_longitude', <tf.Tensor 'dropoff_longitude:0' shape=(None, 1) dtype=float32>), ('dropoff_latitude', <tf.Tensor 'dropoff_latitude:0' shape=(None, 1) dtype=float32>), ('traffic_last_5min', <tf.Tensor 'traffic_last_5min:0' shape=(None, 1) dtype=float32>)])\n",
      "Consider rewriting this model with the Functional API.\n",
      "WARNING:tensorflow:Layers in a Sequential model should only have a single input tensor, but we receive a <class 'collections.OrderedDict'> input: OrderedDict([('dayofweek', <tf.Tensor 'dayofweek:0' shape=(None, 1) dtype=float32>), ('hourofday', <tf.Tensor 'hourofday:0' shape=(None, 1) dtype=float32>), ('pickup_longitude', <tf.Tensor 'pickup_longitude:0' shape=(None, 1) dtype=float32>), ('pickup_latitude', <tf.Tensor 'pickup_latitude:0' shape=(None, 1) dtype=float32>), ('dropoff_longitude', <tf.Tensor 'dropoff_longitude:0' shape=(None, 1) dtype=float32>), ('dropoff_latitude', <tf.Tensor 'dropoff_latitude:0' shape=(None, 1) dtype=float32>), ('traffic_last_5min', <tf.Tensor 'traffic_last_5min:0' shape=(None, 1) dtype=float32>)])\n",
      "Consider rewriting this model with the Functional API.\n",
      "WARNING:tensorflow:Layers in a Sequential model should only have a single input tensor, but we receive a <class 'collections.OrderedDict'> input: OrderedDict([('dayofweek', <tf.Tensor 'dayofweek:0' shape=(None, 1) dtype=float32>), ('hourofday', <tf.Tensor 'hourofday:0' shape=(None, 1) dtype=float32>), ('pickup_longitude', <tf.Tensor 'pickup_longitude:0' shape=(None, 1) dtype=float32>), ('pickup_latitude', <tf.Tensor 'pickup_latitude:0' shape=(None, 1) dtype=float32>), ('dropoff_longitude', <tf.Tensor 'dropoff_longitude:0' shape=(None, 1) dtype=float32>), ('dropoff_latitude', <tf.Tensor 'dropoff_latitude:0' shape=(None, 1) dtype=float32>), ('traffic_last_5min', <tf.Tensor 'traffic_last_5min:0' shape=(None, 1) dtype=float32>)])\n",
      "Consider rewriting this model with the Functional API.\n",
      "WARNING:tensorflow:Layers in a Sequential model should only have a single input tensor, but we receive a <class 'collections.OrderedDict'> input: OrderedDict([('dayofweek', <tf.Tensor 'dayofweek:0' shape=(None, 1) dtype=float32>), ('hourofday', <tf.Tensor 'hourofday:0' shape=(None, 1) dtype=float32>), ('pickup_longitude', <tf.Tensor 'pickup_longitude:0' shape=(None, 1) dtype=float32>), ('pickup_latitude', <tf.Tensor 'pickup_latitude:0' shape=(None, 1) dtype=float32>), ('dropoff_longitude', <tf.Tensor 'dropoff_longitude:0' shape=(None, 1) dtype=float32>), ('dropoff_latitude', <tf.Tensor 'dropoff_latitude:0' shape=(None, 1) dtype=float32>), ('traffic_last_5min', <tf.Tensor 'traffic_last_5min:0' shape=(None, 1) dtype=float32>)])\n",
      "Consider rewriting this model with the Functional API.\n",
      "WARNING:tensorflow:Layers in a Sequential model should only have a single input tensor, but we receive a <class 'collections.OrderedDict'> input: OrderedDict([('dayofweek', <tf.Tensor 'dayofweek:0' shape=(None, 1) dtype=float32>), ('hourofday', <tf.Tensor 'hourofday:0' shape=(None, 1) dtype=float32>), ('pickup_longitude', <tf.Tensor 'pickup_longitude:0' shape=(None, 1) dtype=float32>), ('pickup_latitude', <tf.Tensor 'pickup_latitude:0' shape=(None, 1) dtype=float32>), ('dropoff_longitude', <tf.Tensor 'dropoff_longitude:0' shape=(None, 1) dtype=float32>), ('dropoff_latitude', <tf.Tensor 'dropoff_latitude:0' shape=(None, 1) dtype=float32>), ('traffic_last_5min', <tf.Tensor 'traffic_last_5min:0' shape=(None, 1) dtype=float32>)])\n",
      "Consider rewriting this model with the Functional API.\n",
      "WARNING:tensorflow:Layers in a Sequential model should only have a single input tensor, but we receive a <class 'collections.OrderedDict'> input: OrderedDict([('dayofweek', <tf.Tensor 'dayofweek:0' shape=(None, 1) dtype=float32>), ('hourofday', <tf.Tensor 'hourofday:0' shape=(None, 1) dtype=float32>), ('pickup_longitude', <tf.Tensor 'pickup_longitude:0' shape=(None, 1) dtype=float32>), ('pickup_latitude', <tf.Tensor 'pickup_latitude:0' shape=(None, 1) dtype=float32>), ('dropoff_longitude', <tf.Tensor 'dropoff_longitude:0' shape=(None, 1) dtype=float32>), ('dropoff_latitude', <tf.Tensor 'dropoff_latitude:0' shape=(None, 1) dtype=float32>), ('traffic_last_5min', <tf.Tensor 'traffic_last_5min:0' shape=(None, 1) dtype=float32>)])\n",
      "Consider rewriting this model with the Functional API.\n",
      "WARNING:tensorflow:Layers in a Sequential model should only have a single input tensor, but we receive a <class 'collections.OrderedDict'> input: OrderedDict([('dayofweek', <tf.Tensor 'inputs:0' shape=(None, 1) dtype=float32>), ('hourofday', <tf.Tensor 'inputs_3:0' shape=(None, 1) dtype=float32>), ('pickup_longitude', <tf.Tensor 'inputs_5:0' shape=(None, 1) dtype=float32>), ('pickup_latitude', <tf.Tensor 'inputs_4:0' shape=(None, 1) dtype=float32>), ('dropoff_longitude', <tf.Tensor 'inputs_2:0' shape=(None, 1) dtype=float32>), ('dropoff_latitude', <tf.Tensor 'inputs_1:0' shape=(None, 1) dtype=float32>), ('traffic_last_5min', <tf.Tensor 'inputs_6:0' shape=(None, 1) dtype=float32>)])\n",
      "Consider rewriting this model with the Functional API.\n",
      "WARNING:tensorflow:Layers in a Sequential model should only have a single input tensor, but we receive a <class 'collections.OrderedDict'> input: OrderedDict([('dayofweek', <tf.Tensor 'inputs:0' shape=(None, 1) dtype=float32>), ('hourofday', <tf.Tensor 'inputs_3:0' shape=(None, 1) dtype=float32>), ('pickup_longitude', <tf.Tensor 'inputs_5:0' shape=(None, 1) dtype=float32>), ('pickup_latitude', <tf.Tensor 'inputs_4:0' shape=(None, 1) dtype=float32>), ('dropoff_longitude', <tf.Tensor 'inputs_2:0' shape=(None, 1) dtype=float32>), ('dropoff_latitude', <tf.Tensor 'inputs_1:0' shape=(None, 1) dtype=float32>), ('traffic_last_5min', <tf.Tensor 'inputs_6:0' shape=(None, 1) dtype=float32>)])\n",
      "Consider rewriting this model with the Functional API.\n",
      "WARNING:tensorflow:Layers in a Sequential model should only have a single input tensor, but we receive a <class 'collections.OrderedDict'> input: OrderedDict([('dayofweek', <tf.Tensor 'inputs:0' shape=(None, 1) dtype=float32>), ('hourofday', <tf.Tensor 'inputs_3:0' shape=(None, 1) dtype=float32>), ('pickup_longitude', <tf.Tensor 'inputs_5:0' shape=(None, 1) dtype=float32>), ('pickup_latitude', <tf.Tensor 'inputs_4:0' shape=(None, 1) dtype=float32>), ('dropoff_longitude', <tf.Tensor 'inputs_2:0' shape=(None, 1) dtype=float32>), ('dropoff_latitude', <tf.Tensor 'inputs_1:0' shape=(None, 1) dtype=float32>), ('traffic_last_5min', <tf.Tensor 'inputs_6:0' shape=(None, 1) dtype=float32>)])\n",
      "Consider rewriting this model with the Functional API.\n",
      "WARNING:tensorflow:Layers in a Sequential model should only have a single input tensor, but we receive a <class 'collections.OrderedDict'> input: OrderedDict([('dayofweek', <tf.Tensor 'inputs:0' shape=(None, 1) dtype=float32>), ('hourofday', <tf.Tensor 'inputs_3:0' shape=(None, 1) dtype=float32>), ('pickup_longitude', <tf.Tensor 'inputs_5:0' shape=(None, 1) dtype=float32>), ('pickup_latitude', <tf.Tensor 'inputs_4:0' shape=(None, 1) dtype=float32>), ('dropoff_longitude', <tf.Tensor 'inputs_2:0' shape=(None, 1) dtype=float32>), ('dropoff_latitude', <tf.Tensor 'inputs_1:0' shape=(None, 1) dtype=float32>), ('traffic_last_5min', <tf.Tensor 'inputs_6:0' shape=(None, 1) dtype=float32>)])\n",
      "Consider rewriting this model with the Functional API.\n",
      "WARNING:tensorflow:From /opt/conda/lib/python3.7/site-packages/tensorflow/python/training/tracking/tracking.py:111: Model.state_updates (from tensorflow.python.keras.engine.training) is deprecated and will be removed in a future version.\n",
      "Instructions for updating:\n",
      "This property should not be used in TensorFlow 2.0, as updates are applied automatically.\n",
      "WARNING:tensorflow:From /opt/conda/lib/python3.7/site-packages/tensorflow/python/training/tracking/tracking.py:111: Model.state_updates (from tensorflow.python.keras.engine.training) is deprecated and will be removed in a future version.\n",
      "Instructions for updating:\n",
      "This property should not be used in TensorFlow 2.0, as updates are applied automatically.\n",
      "WARNING:tensorflow:From /opt/conda/lib/python3.7/site-packages/tensorflow/python/training/tracking/tracking.py:111: Layer.updates (from tensorflow.python.keras.engine.base_layer) is deprecated and will be removed in a future version.\n",
      "Instructions for updating:\n",
      "This property should not be used in TensorFlow 2.0, as updates are applied automatically.\n",
      "WARNING:tensorflow:From /opt/conda/lib/python3.7/site-packages/tensorflow/python/training/tracking/tracking.py:111: Layer.updates (from tensorflow.python.keras.engine.base_layer) is deprecated and will be removed in a future version.\n",
      "Instructions for updating:\n",
      "This property should not be used in TensorFlow 2.0, as updates are applied automatically.\n",
      "WARNING:tensorflow:Layers in a Sequential model should only have a single input tensor, but we receive a <class 'collections.OrderedDict'> input: OrderedDict([('dayofweek', <tf.Tensor 'dayofweek:0' shape=(None, 1) dtype=float32>), ('hourofday', <tf.Tensor 'hourofday:0' shape=(None, 1) dtype=float32>), ('pickup_longitude', <tf.Tensor 'pickup_longitude:0' shape=(None, 1) dtype=float32>), ('pickup_latitude', <tf.Tensor 'pickup_latitude:0' shape=(None, 1) dtype=float32>), ('dropoff_longitude', <tf.Tensor 'dropoff_longitude:0' shape=(None, 1) dtype=float32>), ('dropoff_latitude', <tf.Tensor 'dropoff_latitude:0' shape=(None, 1) dtype=float32>), ('traffic_last_5min', <tf.Tensor 'traffic_last_5min:0' shape=(None, 1) dtype=float32>)])\n",
      "Consider rewriting this model with the Functional API.\n",
      "WARNING:tensorflow:Layers in a Sequential model should only have a single input tensor, but we receive a <class 'collections.OrderedDict'> input: OrderedDict([('dayofweek', <tf.Tensor 'dayofweek:0' shape=(None, 1) dtype=float32>), ('hourofday', <tf.Tensor 'hourofday:0' shape=(None, 1) dtype=float32>), ('pickup_longitude', <tf.Tensor 'pickup_longitude:0' shape=(None, 1) dtype=float32>), ('pickup_latitude', <tf.Tensor 'pickup_latitude:0' shape=(None, 1) dtype=float32>), ('dropoff_longitude', <tf.Tensor 'dropoff_longitude:0' shape=(None, 1) dtype=float32>), ('dropoff_latitude', <tf.Tensor 'dropoff_latitude:0' shape=(None, 1) dtype=float32>), ('traffic_last_5min', <tf.Tensor 'traffic_last_5min:0' shape=(None, 1) dtype=float32>)])\n",
      "Consider rewriting this model with the Functional API.\n",
      "WARNING:tensorflow:Layers in a Sequential model should only have a single input tensor, but we receive a <class 'collections.OrderedDict'> input: OrderedDict([('dayofweek', <tf.Tensor 'dayofweek:0' shape=(None, 1) dtype=float32>), ('hourofday', <tf.Tensor 'hourofday:0' shape=(None, 1) dtype=float32>), ('pickup_longitude', <tf.Tensor 'pickup_longitude:0' shape=(None, 1) dtype=float32>), ('pickup_latitude', <tf.Tensor 'pickup_latitude:0' shape=(None, 1) dtype=float32>), ('dropoff_longitude', <tf.Tensor 'dropoff_longitude:0' shape=(None, 1) dtype=float32>), ('dropoff_latitude', <tf.Tensor 'dropoff_latitude:0' shape=(None, 1) dtype=float32>), ('traffic_last_5min', <tf.Tensor 'traffic_last_5min:0' shape=(None, 1) dtype=float32>)])\n",
      "Consider rewriting this model with the Functional API.\n",
      "WARNING:tensorflow:Layers in a Sequential model should only have a single input tensor, but we receive a <class 'collections.OrderedDict'> input: OrderedDict([('dayofweek', <tf.Tensor 'dayofweek:0' shape=(None, 1) dtype=float32>), ('hourofday', <tf.Tensor 'hourofday:0' shape=(None, 1) dtype=float32>), ('pickup_longitude', <tf.Tensor 'pickup_longitude:0' shape=(None, 1) dtype=float32>), ('pickup_latitude', <tf.Tensor 'pickup_latitude:0' shape=(None, 1) dtype=float32>), ('dropoff_longitude', <tf.Tensor 'dropoff_longitude:0' shape=(None, 1) dtype=float32>), ('dropoff_latitude', <tf.Tensor 'dropoff_latitude:0' shape=(None, 1) dtype=float32>), ('traffic_last_5min', <tf.Tensor 'traffic_last_5min:0' shape=(None, 1) dtype=float32>)])\n",
      "Consider rewriting this model with the Functional API.\n"
     ]
    },
    {
     "name": "stderr",
     "output_type": "stream",
     "text": [
      "2021-10-11 17:56:31.330223: W tensorflow/python/util/util.cc:348] Sets are not currently considered sequences, but this may change in the future, so consider avoiding using them.\n"
     ]
    },
    {
     "name": "stdout",
     "output_type": "stream",
     "text": [
      "WARNING:tensorflow:Layers in a Sequential model should only have a single input tensor, but we receive a <class 'collections.OrderedDict'> input: OrderedDict([('dayofweek', <tf.Tensor 'inputs/dayofweek:0' shape=(None, 1) dtype=float32>), ('hourofday', <tf.Tensor 'inputs/hourofday:0' shape=(None, 1) dtype=float32>), ('pickup_longitude', <tf.Tensor 'inputs/pickup_longitude:0' shape=(None, 1) dtype=float32>), ('pickup_latitude', <tf.Tensor 'inputs/pickup_latitude:0' shape=(None, 1) dtype=float32>), ('dropoff_longitude', <tf.Tensor 'inputs/dropoff_longitude:0' shape=(None, 1) dtype=float32>), ('dropoff_latitude', <tf.Tensor 'inputs/dropoff_latitude:0' shape=(None, 1) dtype=float32>), ('traffic_last_5min', <tf.Tensor 'inputs/traffic_last_5min:0' shape=(None, 1) dtype=float32>)])\n",
      "Consider rewriting this model with the Functional API.\n",
      "WARNING:tensorflow:Layers in a Sequential model should only have a single input tensor, but we receive a <class 'collections.OrderedDict'> input: OrderedDict([('dayofweek', <tf.Tensor 'inputs/dayofweek:0' shape=(None, 1) dtype=float32>), ('hourofday', <tf.Tensor 'inputs/hourofday:0' shape=(None, 1) dtype=float32>), ('pickup_longitude', <tf.Tensor 'inputs/pickup_longitude:0' shape=(None, 1) dtype=float32>), ('pickup_latitude', <tf.Tensor 'inputs/pickup_latitude:0' shape=(None, 1) dtype=float32>), ('dropoff_longitude', <tf.Tensor 'inputs/dropoff_longitude:0' shape=(None, 1) dtype=float32>), ('dropoff_latitude', <tf.Tensor 'inputs/dropoff_latitude:0' shape=(None, 1) dtype=float32>), ('traffic_last_5min', <tf.Tensor 'inputs/traffic_last_5min:0' shape=(None, 1) dtype=float32>)])\n",
      "Consider rewriting this model with the Functional API.\n",
      "WARNING:tensorflow:Layers in a Sequential model should only have a single input tensor, but we receive a <class 'collections.OrderedDict'> input: OrderedDict([('dayofweek', <tf.Tensor 'inputs/dayofweek:0' shape=(None, 1) dtype=float32>), ('hourofday', <tf.Tensor 'inputs/hourofday:0' shape=(None, 1) dtype=float32>), ('pickup_longitude', <tf.Tensor 'inputs/pickup_longitude:0' shape=(None, 1) dtype=float32>), ('pickup_latitude', <tf.Tensor 'inputs/pickup_latitude:0' shape=(None, 1) dtype=float32>), ('dropoff_longitude', <tf.Tensor 'inputs/dropoff_longitude:0' shape=(None, 1) dtype=float32>), ('dropoff_latitude', <tf.Tensor 'inputs/dropoff_latitude:0' shape=(None, 1) dtype=float32>), ('traffic_last_5min', <tf.Tensor 'inputs/traffic_last_5min:0' shape=(None, 1) dtype=float32>)])\n",
      "Consider rewriting this model with the Functional API.\n",
      "WARNING:tensorflow:Layers in a Sequential model should only have a single input tensor, but we receive a <class 'collections.OrderedDict'> input: OrderedDict([('dayofweek', <tf.Tensor 'inputs/dayofweek:0' shape=(None, 1) dtype=float32>), ('hourofday', <tf.Tensor 'inputs/hourofday:0' shape=(None, 1) dtype=float32>), ('pickup_longitude', <tf.Tensor 'inputs/pickup_longitude:0' shape=(None, 1) dtype=float32>), ('pickup_latitude', <tf.Tensor 'inputs/pickup_latitude:0' shape=(None, 1) dtype=float32>), ('dropoff_longitude', <tf.Tensor 'inputs/dropoff_longitude:0' shape=(None, 1) dtype=float32>), ('dropoff_latitude', <tf.Tensor 'inputs/dropoff_latitude:0' shape=(None, 1) dtype=float32>), ('traffic_last_5min', <tf.Tensor 'inputs/traffic_last_5min:0' shape=(None, 1) dtype=float32>)])\n",
      "Consider rewriting this model with the Functional API.\n",
      "INFO:tensorflow:Assets written to: ./export/savedmodel/20211011175630/assets\n",
      "INFO:tensorflow:Assets written to: ./export/savedmodel/20211011175630/assets\n"
     ]
    }
   ],
   "source": [
    "OUTPUT_DIR = \"./export/savedmodel\"\n",
    "shutil.rmtree(OUTPUT_DIR, ignore_errors=True)\n",
    "EXPORT_PATH = os.path.join(OUTPUT_DIR, datetime.now().strftime(\"%Y%m%d%H%M%S\"))\n",
    "model.save(EXPORT_PATH)  # with default serving function\n",
    "os.environ[\"EXPORT_PATH\"] = EXPORT_PATH"
   ]
  },
  {
   "cell_type": "markdown",
   "metadata": {},
   "source": [
    "Note that the last `gcloud` call below, which deploys the mode, can take a few minutes, and you might not see the earlier `echo` outputs while that job is still running. If you want to make sure that your notebook is not stalled and your model is actually getting deployed, view your models in the console at https://console.cloud.google.com/vertex-ai/models, click on your model, and you should see your endpoint listed with an \"in progress\" icon next to it."
   ]
  },
  {
   "cell_type": "code",
   "execution_count": 15,
   "metadata": {
    "tags": [
     "flake8-noqa-cell"
    ]
   },
   "outputs": [
    {
     "name": "stdout",
     "output_type": "stream",
     "text": [
      "gs://qwiklabs-gcp-00-eeb852ce8ccb/taxifare_20211011_175855/\n",
      "MODEL_DISPLAYNAME=taxifare_20211011_175855\n",
      "MODEL_RESOURCENAME=projects/432069008306/locations/us-central1/models/8415248582625460224\n",
      "MODEL_ID=8415248582625460224\n",
      "ENDPOINT_DISPLAYNAME=taxifare_endpoint_20211011_175855\n",
      "ENDPOINT_RESOURCENAME=projects/432069008306/locations/us-central1/endpoints/5048517590096281600\n",
      "ENDPOINT_ID=5048517590096281600\n"
     ]
    },
    {
     "name": "stderr",
     "output_type": "stream",
     "text": [
      "Copying file://./export/savedmodel/20211011175630/saved_model.pb [Content-Type=application/octet-stream]...\n",
      "Copying file://./export/savedmodel/20211011175630/variables/variables.index [Content-Type=application/octet-stream]...\n",
      "Copying file://./export/savedmodel/20211011175630/variables/variables.data-00000-of-00001 [Content-Type=application/octet-stream]...\n",
      "- [3 files][241.6 KiB/241.6 KiB]                                                \n",
      "Operation completed over 3 objects/241.6 KiB.                                    \n",
      "Using endpoint [https://us-central1-aiplatform.googleapis.com/]\n",
      "Waiting for operation [4138737826248261632]...\n",
      ".......................done.\n",
      "Using endpoint [https://us-central1-aiplatform.googleapis.com/]\n",
      "Waiting for operation [6248674251671339008]...\n",
      ".......................done.\n",
      "Created Vertex AI endpoint: projects/432069008306/locations/us-central1/endpoints/5048517590096281600.\n",
      "Using endpoint [https://us-central1-aiplatform.googleapis.com/]\n",
      "Waiting for operation [6777847207887372288]...\n",
      "..............................................................................................................................................................................................................................................................................................................................................................................................................................................................................................................................................................................................................................................................................................................................................................................................................................................................................................................................................................................................................................................................................................................................................................................................................................................................................................................................................................................................................................................................................................................................................................................................................................................................................................................................................................................................................................................................................................................................................................................................................................................................................................done.\n",
      "Deployed a model to the endpoint 5048517590096281600. Id of the deployed model: 4559551575084761088.\n"
     ]
    }
   ],
   "source": [
    "%%bash\n",
    "TIMESTAMP=$(date -u +%Y%m%d_%H%M%S)\n",
    "MODEL_DISPLAYNAME=taxifare_$TIMESTAMP\n",
    "ENDPOINT_DISPLAYNAME=taxifare_endpoint_$TIMESTAMP\n",
    "IMAGE_URI=\"us-docker.pkg.dev/vertex-ai/prediction/tf2-cpu.2-5:latest\"\n",
    "ARTIFACT_DIRECTORY=gs://${BUCKET}/${MODEL_DISPLAYNAME}/\n",
    "echo $ARTIFACT_DIRECTORY\n",
    "\n",
    "gsutil cp -r ${EXPORT_PATH}/* ${ARTIFACT_DIRECTORY}\n",
    "\n",
    "# Model\n",
    "MODEL_RESOURCENAME=$(gcloud ai models upload \\\n",
    "    --region=$REGION \\\n",
    "    --display-name=$MODEL_DISPLAYNAME \\\n",
    "    --container-image-uri=$IMAGE_URI \\\n",
    "    --artifact-uri=$ARTIFACT_DIRECTORY \\\n",
    "    --format=\"value(model)\")\n",
    "\n",
    "MODEL_ID=$(echo $MODEL_RESOURCENAME | cut -d\"/\" -f6)\n",
    "\n",
    "echo \"MODEL_DISPLAYNAME=${MODEL_DISPLAYNAME}\"\n",
    "echo \"MODEL_RESOURCENAME=${MODEL_RESOURCENAME}\"\n",
    "echo \"MODEL_ID=${MODEL_ID}\"\n",
    "\n",
    "# Endpoint\n",
    "ENDPOINT_RESOURCENAME=$(gcloud ai endpoints create \\\n",
    "  --region=$REGION \\\n",
    "  --display-name=$ENDPOINT_DISPLAYNAME \\\n",
    "  --format=\"value(name)\")\n",
    "\n",
    "ENDPOINT_ID=$(echo $ENDPOINT_RESOURCENAME | cut -d\"/\" -f6)\n",
    "\n",
    "echo \"ENDPOINT_DISPLAYNAME=${ENDPOINT_DISPLAYNAME}\"\n",
    "echo \"ENDPOINT_RESOURCENAME=${ENDPOINT_RESOURCENAME}\"\n",
    "echo \"ENDPOINT_ID=${ENDPOINT_ID}\"\n",
    "\n",
    "# Deployment\n",
    "DEPLOYEDMODEL_DISPLAYNAME=${MODEL_DISPLAYNAME}_deployment\n",
    "MACHINE_TYPE=n1-standard-2\n",
    "MIN_REPLICA_COUNT=1\n",
    "MAX_REPLICA_COUNT=3\n",
    "\n",
    "gcloud ai endpoints deploy-model $ENDPOINT_RESOURCENAME \\\n",
    "  --region=$REGION \\\n",
    "  --model=$MODEL_RESOURCENAME \\\n",
    "  --display-name=$DEPLOYEDMODEL_DISPLAYNAME \\\n",
    "  --machine-type=$MACHINE_TYPE \\\n",
    "  --min-replica-count=$MIN_REPLICA_COUNT \\\n",
    "  --max-replica-count=$MAX_REPLICA_COUNT \\\n",
    "  --traffic-split=0=100"
   ]
  },
  {
   "cell_type": "markdown",
   "metadata": {},
   "source": [
    "Take note of the `ENDPOINT_RESOURCENAME` printed above, as you will need it in the next lab."
   ]
  },
  {
   "cell_type": "markdown",
   "metadata": {},
   "source": [
    "The above model deployment can be initiated from the Vertex AI Python SDK as well, as seen below. In this case, we do not need to create the Endpoint ourselves (we could though), but it is implicitly created during the `model.deploy()` call."
   ]
  },
  {
   "cell_type": "raw",
   "metadata": {},
   "source": [
    "TIMESTAMP = datetime.strftime(datetime.now(), \"%Y%m%d_%H%M%S\")\n",
    "MODEL_DISPLAYNAME = f\"taxifare_{TIMESTAMP}\"\n",
    "ENDPOINT_NAME = f\"taxifare_endpoint_{TIMESTAMP}\"\n",
    "ARTIFACT_DIRECTORY = f\"gs://{BUCKET}/{MODEL_DISPLAYNAME}/\"\n",
    "print(ARTIFACT_DIRECTORY)\n",
    "IMAGE_URI = \"us-docker.pkg.dev/vertex-ai/prediction/tf2-cpu.2-5:latest\"\n",
    "\n",
    "!gsutil cp -r $EXPORT_PATH/* $ARTIFACT_DIRECTORY\n",
    "\n",
    "aiplatform.init(project=PROJECT, location=REGION)\n",
    "\n",
    "# Model\n",
    "model = aiplatform.Model.upload(\n",
    "    display_name=MODEL_DISPLAYNAME,\n",
    "    artifact_uri=ARTIFACT_DIRECTORY,\n",
    "    serving_container_image_uri=IMAGE_URI,\n",
    ")\n",
    "\n",
    "model.wait()\n",
    "\n",
    "print(model.display_name)\n",
    "print(model.resource_name)\n",
    "\n",
    "# Deployment\n",
    "DEPLOYED_MODEL_NAME = f\"{MODEL_DISPLAYNAME}_deployment\"\n",
    "MACHINE_TYPE = \"n1-standard-2\"\n",
    "MIN_REPLICA_COUNT = 1\n",
    "MAX_REPLICA_COUNT = 3\n",
    "\n",
    "model = aiplatform.Model(model_name=model.resource_name)\n",
    "\n",
    "endpoint = model.deploy(\n",
    "    deployed_model_display_name=DEPLOYED_MODEL_NAME,\n",
    "    traffic_split={\"0\": 100},\n",
    "    machine_type=MACHINE_TYPE,\n",
    "    min_replica_count=MIN_REPLICA_COUNT,\n",
    "    max_replica_count=MAX_REPLICA_COUNT,\n",
    ")\n",
    "\n",
    "model.wait()\n",
    "\n",
    "print(endpoint.display_name)\n",
    "print(endpoint.resource_name)\n",
    "print(f\"Model {model.display_name} deployed to Endpoint {endpoint.display_name}.\")\n",
    "print(f\"ENDPOINT_ID={endpoint.resource_name.split('/')[-1]}\")"
   ]
  },
  {
   "cell_type": "markdown",
   "metadata": {},
   "source": [
    "Copyright 2021 Google Inc. Licensed under the Apache License, Version 2.0 (the \"License\"); you may not use this file except in compliance with the License. You may obtain a copy of the License at http://www.apache.org/licenses/LICENSE-2.0 Unless required by applicable law or agreed to in writing, software distributed under the License is distributed on an \"AS IS\" BASIS, WITHOUT WARRANTIES OR CONDITIONS OF ANY KIND, either express or implied. See the License for the specific language governing permissions and limitations under the License"
   ]
  }
 ],
 "metadata": {
  "environment": {
   "name": "tf2-gpu.2-3.m80",
   "type": "gcloud",
   "uri": "gcr.io/deeplearning-platform-release/tf2-gpu.2-3:m80"
  },
  "kernelspec": {
   "display_name": "Python 3",
   "language": "python",
   "name": "python3"
  },
  "language_info": {
   "codemirror_mode": {
    "name": "ipython",
    "version": 3
   },
   "file_extension": ".py",
   "mimetype": "text/x-python",
   "name": "python",
   "nbconvert_exporter": "python",
   "pygments_lexer": "ipython3",
   "version": "3.7.10"
  }
 },
 "nbformat": 4,
 "nbformat_minor": 4
}
