{
 "cells": [
  {
   "cell_type": "markdown",
   "metadata": {},
   "source": [
    "# Introducing the Keras Functional API\n",
    "\n",
    "**Learning Objectives**\n",
    "  1. Understand embeddings and how to create them with the feature column API\n",
    "  1. Understand Deep and Wide models and when to use them\n",
    "  1. Understand the Keras functional API and how to build a deep and wide model with it\n",
    "\n",
    "## Introduction\n",
    "\n",
    "In the last notebook, we learned about the Keras Sequential API. The [Keras Functional API](https://www.tensorflow.org/guide/keras#functional_api) provides an alternate way of building models which is more flexible. With the Functional API, we can build models with more complex topologies, multiple input or output layers, shared layers or non-sequential data flows (e.g. residual layers).\n",
    "\n",
    "In this notebook we'll use what we learned about feature columns to build a Wide & Deep model. Recall, that the idea behind Wide & Deep models is to join the two methods of learning through memorization and generalization by making a wide linear model and a deep learning model to accommodate both. You can have a look at the original research paper here: [Wide & Deep Learning for Recommender Systems](https://arxiv.org/abs/1606.07792).\n",
    "\n",
    "<img src='assets/wide_deep.png' width='80%'>\n",
    "<sup>(image: https://ai.googleblog.com/2016/06/wide-deep-learning-better-together-with.html)</sup>\n",
    "\n",
    "The Wide part of the model is associated with the memory element. In this case, we train a linear model with a wide set of crossed features and learn the correlation of this related data with the assigned label. The Deep part of the model is associated with the generalization element where we use embedding vectors for features. The best embeddings are then learned through the training process. While both of these methods can work well alone, Wide & Deep models excel by combining these techniques together. "
   ]
  },
  {
   "cell_type": "markdown",
   "metadata": {},
   "source": [
    "Start by importing the necessary libraries for this lab."
   ]
  },
  {
   "cell_type": "code",
   "execution_count": 1,
   "metadata": {},
   "outputs": [
    {
     "name": "stdout",
     "output_type": "stream",
     "text": [
      "2.3.4\n"
     ]
    }
   ],
   "source": [
    "import datetime\n",
    "import os\n",
    "import shutil\n",
    "\n",
    "import numpy as np\n",
    "import pandas as pd\n",
    "import tensorflow as tf\n",
    "\n",
    "from matplotlib import pyplot as plt\n",
    "from tensorflow import keras\n",
    "\n",
    "from tensorflow import feature_column as fc\n",
    "\n",
    "from tensorflow.keras import Model\n",
    "from tensorflow.keras.layers import (\n",
    "    Input, Dense, DenseFeatures, concatenate)\n",
    "from tensorflow.keras.callbacks import TensorBoard\n",
    "\n",
    "print(tf.__version__)"
   ]
  },
  {
   "cell_type": "code",
   "execution_count": 2,
   "metadata": {},
   "outputs": [],
   "source": [
    "%matplotlib inline"
   ]
  },
  {
   "cell_type": "markdown",
   "metadata": {},
   "source": [
    "## Load raw data \n",
    "\n",
    "We will use the taxifare dataset, using the CSV files that we created in the first notebook of this sequence. Those files have been saved into `../data`."
   ]
  },
  {
   "cell_type": "code",
   "execution_count": 3,
   "metadata": {},
   "outputs": [
    {
     "name": "stdout",
     "output_type": "stream",
     "text": [
      "-rw-r--r-- 1 jupyter jupyter 123590 Oct  4 18:39 ../data/taxi-test.csv\n",
      "-rw-r--r-- 1 jupyter jupyter 579055 Oct  4 18:39 ../data/taxi-train.csv\n",
      "-rw-r--r-- 1 jupyter jupyter 123114 Oct  4 18:39 ../data/taxi-valid.csv\n"
     ]
    }
   ],
   "source": [
    "!ls -l ../data/*.csv"
   ]
  },
  {
   "cell_type": "markdown",
   "metadata": {},
   "source": [
    "## Use tf.data to read the CSV files\n",
    "\n",
    "We wrote these functions for reading data from the csv files above in the [previous notebook](2_dataset_api.ipynb). For this lab we will also include some additional engineered features in our model. In particular, we will compute the difference in latitude and longitude, as well as the Euclidean distance between the pick-up and drop-off locations. We can accomplish this by adding these new features to the features dictionary with the function `add_engineered_features` below. \n",
    "\n",
    "Note that we include a call to this function when collecting our features dict and labels in the `features_and_labels` function below as well. "
   ]
  },
  {
   "cell_type": "code",
   "execution_count": 4,
   "metadata": {},
   "outputs": [],
   "source": [
    "CSV_COLUMNS = [\n",
    "    'fare_amount',\n",
    "    'pickup_datetime',\n",
    "    'pickup_longitude',\n",
    "    'pickup_latitude',\n",
    "    'dropoff_longitude',\n",
    "    'dropoff_latitude',\n",
    "    'passenger_count',\n",
    "    'key'\n",
    "]\n",
    "LABEL_COLUMN = 'fare_amount'\n",
    "DEFAULTS = [[0.0], ['na'], [0.0], [0.0], [0.0], [0.0], [0.0], ['na']]\n",
    "UNWANTED_COLS = ['pickup_datetime', 'key']\n",
    "\n",
    "\n",
    "def features_and_labels(row_data):\n",
    "    label = row_data.pop(LABEL_COLUMN)\n",
    "    features = row_data\n",
    "        \n",
    "    for unwanted_col in UNWANTED_COLS:\n",
    "        features.pop(unwanted_col)\n",
    "\n",
    "    return features, label\n",
    "\n",
    "\n",
    "def create_dataset(pattern, batch_size=1, mode='eval'):\n",
    "    dataset = tf.data.experimental.make_csv_dataset(\n",
    "        pattern, batch_size, CSV_COLUMNS, DEFAULTS)\n",
    "\n",
    "    dataset = dataset.map(features_and_labels)\n",
    "    \n",
    "    if mode == 'train':\n",
    "        dataset = dataset.shuffle(buffer_size=1000).repeat()\n",
    "\n",
    "    # take advantage of multi-threading; 1=AUTOTUNE\n",
    "    dataset = dataset.prefetch(1)\n",
    "    return dataset"
   ]
  },
  {
   "cell_type": "markdown",
   "metadata": {},
   "source": [
    "## Feature columns for Wide and Deep model\n",
    "\n",
    "For the Wide columns, we will create feature columns of crossed features. To do this, we'll create a collection of Tensorflow feature columns to pass to the `tf.feature_column.crossed_column` constructor. The Deep columns will consist of numeric columns and the embedding columns we want to create. "
   ]
  },
  {
   "cell_type": "markdown",
   "metadata": {},
   "source": [
    "**Exercise.** In the cell below, create feature columns for our wide-and-deep model. You'll need to build \n",
    "1. bucketized columns using [tf.feature_column.bucketized_column](https://www.tensorflow.org/api_docs/python/tf/feature_column/bucketized_column) for the pickup and dropoff latitude and longitude,\n",
    "2. crossed columns using [tf.feature_column.crossed_column](https://www.tensorflow.org/api_docs/python/tf/feature_column/crossed_column) for those bucketized columns, and \n",
    "3. embedding columns using [tf.feature_column.embedding_column](https://www.tensorflow.org/api_docs/python/tf/feature_column/embedding_column) for the crossed columns."
   ]
  },
  {
   "cell_type": "code",
   "execution_count": 16,
   "metadata": {},
   "outputs": [],
   "source": [
    "# 1. Bucketize latitudes and longitudes\n",
    "NBUCKETS = 16\n",
    "latbuckets = np.linspace(start=38.0, stop=42.0, num=NBUCKETS).tolist()\n",
    "lonbuckets = np.linspace(start=-76.0, stop=-72.0, num=NBUCKETS).tolist()\n",
    "\n",
    "fc_bucketized_plat = fc.bucketized_column(source_column=fc.numeric_column(\"pickup_latitude\"), boundaries=latbuckets)\n",
    "fc_bucketized_plon =  fc.bucketized_column(source_column=fc.numeric_column(\"pickup_longitude\"), boundaries=lonbuckets)\n",
    "fc_bucketized_dlat = fc.bucketized_column(source_column=fc.numeric_column(\"dropoff_latitude\"), boundaries=latbuckets)\n",
    "fc_bucketized_dlon = fc.bucketized_column(source_column=fc.numeric_column(\"dropoff_longitude\"), boundaries=lonbuckets)\n",
    "\n",
    "# 2. Cross features for locations\n",
    "fc_crossed_dloc =  fc.crossed_column([fc_bucketized_dlat, fc_bucketized_dlon], hash_bucket_size=NBUCKETS * NBUCKETS)\n",
    "fc_crossed_ploc = fc.crossed_column([fc_bucketized_plat, fc_bucketized_plon], hash_bucket_size=NBUCKETS * NBUCKETS)\n",
    "fc_crossed_pd_pair = fc.crossed_column([fc_crossed_dloc, fc_crossed_ploc], hash_bucket_size=NBUCKETS ** 4)\n",
    "\n",
    "# 3. Create embedding columns for the crossed columns\n",
    "fc_pd_pair = fc.embedding_column(fc_crossed_pd_pair, dimension=3)\n",
    "fc_dloc = fc.embedding_column(fc_crossed_dloc, dimension=3)\n",
    "fc_ploc = fc.embedding_column(fc_crossed_pd_pair, dimension=3)"
   ]
  },
  {
   "cell_type": "markdown",
   "metadata": {},
   "source": [
    "### Gather list of feature columns\n",
    "\n",
    "Next we gather the list of wide and deep feature columns we'll pass to our Wide & Deep model in Tensorflow. Recall, wide columns are sparse, have linear relationship with the output while continuous columns are deep, have a complex relationship with the output. We will use our previously bucketized columns to collect crossed feature columns and sparse feature columns for our wide columns, and embedding feature columns and numeric features columns for the deep columns."
   ]
  },
  {
   "cell_type": "markdown",
   "metadata": {},
   "source": [
    "**Exercise.** Collect the wide and deep columns into two separate lists. You'll have two lists: One called `wide_columns` containing the one-hot encoded features from the crossed features and one called `deep_columns` which contains numeric and embedding feature columns."
   ]
  },
  {
   "cell_type": "code",
   "execution_count": 25,
   "metadata": {},
   "outputs": [],
   "source": [
    "# TODO 2\n",
    "wide_columns = [\n",
    "    # One-hot encoded feature crosses\n",
    "    fc.indicator_column(fc_crossed_dloc), \n",
    "    fc.indicator_column(fc_crossed_ploc),\n",
    "    fc.indicator_column(fc_crossed_pd_pair),\n",
    "]\n",
    "\n",
    "deep_columns = [\n",
    "    # Embedding_column to \"group\" together ...\n",
    "    fc_pd_pair,\n",
    "\n",
    "    # Numeric columns\n",
    "    fc.numeric_column(\"pickup_latitude\"),\n",
    "    fc.numeric_column(\"pickup_longitude\"),\n",
    "    fc.numeric_column(\"dropoff_longitude\"),\n",
    "    fc.numeric_column(\"dropoff_latitude\")\n",
    "    \n",
    "]"
   ]
  },
  {
   "cell_type": "markdown",
   "metadata": {},
   "source": [
    "## Build a Wide and Deep model in Keras\n",
    "\n",
    "To build a wide-and-deep network, we connect the sparse (i.e. wide) features directly to the output node, but pass the dense (i.e. deep) features through a set of fully connected layers. Here’s that model architecture looks using the Functional API.\n",
    "\n",
    "First, we'll create our input columns using [tf.keras.layers.Input](https://www.tensorflow.org/versions/r2.0/api_docs/python/tf/keras/Input)."
   ]
  },
  {
   "cell_type": "code",
   "execution_count": 26,
   "metadata": {},
   "outputs": [],
   "source": [
    "INPUT_COLS = [\n",
    "    'pickup_longitude',\n",
    "    'pickup_latitude',\n",
    "    'dropoff_longitude',\n",
    "    'dropoff_latitude',\n",
    "    'passenger_count'\n",
    "]\n",
    "\n",
    "inputs = {colname : Input(name=colname, shape=(), dtype='float32')\n",
    "          for colname in INPUT_COLS\n",
    "}"
   ]
  },
  {
   "cell_type": "markdown",
   "metadata": {},
   "source": [
    "Then, we'll define our custom RMSE evaluation metric and build our wide and deep model."
   ]
  },
  {
   "cell_type": "markdown",
   "metadata": {},
   "source": [
    "**Exercise.** Complete the code in the function `build_model` below so that it returns a compiled Keras model. The argument `dnn_hidden_units` should represent the number of units in each layer of your network. Use the Functional API to build a wide-and-deep model. Use the `deep_columns` you created above to build the deep layers and the `wide_columns` to create the wide layers. Once you have the wide and deep components, you will combine them to feed to a final fully connected layer. "
   ]
  },
  {
   "cell_type": "code",
   "execution_count": 19,
   "metadata": {},
   "outputs": [],
   "source": [
    "def rmse(y_true, y_pred):\n",
    "    return tf.sqrt(tf.reduce_mean(tf.square(y_pred - y_true)))\n",
    "\n",
    "\n",
    "def build_model(dnn_hidden_units):\n",
    "    # Create the deep part of model\n",
    "    deep = DenseFeatures(deep_columns, name='deep_inputs')(inputs)\n",
    "    for num_nodes in dnn_hidden_units:\n",
    "        deep = Dense(num_nodes, activation='relu')(deep) \n",
    "    \n",
    "    # Create the wide part of model\n",
    "    wide = DenseFeatures(wide_columns, name='wide_inputs')(inputs)\n",
    "\n",
    "    # Combine deep and wide parts of the model\n",
    "    combined =  concatenate(inputs=[deep, wide], name='combined')\n",
    "\n",
    "    # Map the combined outputs into a single prediction value\n",
    "    output =  Dense(units=1, activation=None, name='prediction')(combined)\n",
    "    \n",
    "    # Finalize the model\n",
    "    model = Model(inputs=list(inputs.values()), outputs=output)\n",
    "\n",
    "    # Compile the keras model\n",
    "    model.compile(optimizer=\"adam\", loss=\"mse\", metrics=[rmse, \"mse\"])\n",
    "    \n",
    "    return model"
   ]
  },
  {
   "cell_type": "markdown",
   "metadata": {},
   "source": [
    "Next, we can call the `build_model` to create the model. Here we'll have two hidden layers, each with 10 neurons, for the deep part of our model. We can also use `plot_model` to see a diagram of the model we've created."
   ]
  },
  {
   "cell_type": "code",
   "execution_count": 20,
   "metadata": {},
   "outputs": [
    {
     "data": {
      "image/png": "[encoded data removed]",
      "text/plain": [
       "<IPython.core.display.Image object>"
      ]
     },
     "execution_count": 28,
     "metadata": {},
     "output_type": "execute_result"
    }
   ],
   "source": [
    "HIDDEN_UNITS = [10,10]\n",
    "\n",
    "model = build_model(dnn_hidden_units=HIDDEN_UNITS)\n",
    "\n",
    "tf.keras.utils.plot_model(model, show_shapes=False, rankdir='LR')"
   ]
  },
  {
   "cell_type": "markdown",
   "metadata": {},
   "source": [
    "Next, we'll set up our training variables, create our datasets for training and validation, and train our model.\n",
    "\n",
    "(We refer you the the blog post [ML Design Pattern #3: Virtual Epochs](https://medium.com/google-cloud/ml-design-pattern-3-virtual-epochs-f842296de730) for further details on why express the training in terms of `NUM_TRAIN_EXAMPLES` and `NUM_EVALS` and why, in this training code, the number of epochs is really equal to the number of evaluations we perform.)"
   ]
  },
  {
   "cell_type": "code",
   "execution_count": 29,
   "metadata": {},
   "outputs": [],
   "source": [
    "BATCH_SIZE = 1000\n",
    "NUM_TRAIN_EXAMPLES = 10000 * 5  # training dataset will repeat, wrap around\n",
    "NUM_EVALS = 50  # how many times to evaluate\n",
    "NUM_EVAL_EXAMPLES = 10000  # enough to get a reasonable sample\n",
    "\n",
    "trainds = create_dataset(\n",
    "    pattern='../data/taxi-train*',\n",
    "    batch_size=BATCH_SIZE,\n",
    "    mode='train')\n",
    "\n",
    "evalds = create_dataset(\n",
    "    pattern='../data/taxi-valid*',\n",
    "    batch_size=BATCH_SIZE,\n",
    "    mode='eval').take(NUM_EVAL_EXAMPLES//1000)"
   ]
  },
  {
   "cell_type": "code",
   "execution_count": 30,
   "metadata": {},
   "outputs": [
    {
     "name": "stderr",
     "output_type": "stream",
     "text": [
      "2021-10-06 22:05:14.278399: I tensorflow/core/profiler/lib/profiler_session.cc:164] Profiler session started.\n"
     ]
    },
    {
     "name": "stdout",
     "output_type": "stream",
     "text": [
      "Epoch 1/50\n"
     ]
    },
    {
     "name": "stderr",
     "output_type": "stream",
     "text": [
      "2021-10-06 22:05:26.049764: I tensorflow/core/kernels/data/shuffle_dataset_op.cc:172] Filling up shuffle buffer (this may take a while): 610 of 1000\n",
      "2021-10-06 22:05:32.161368: I tensorflow/core/kernels/data/shuffle_dataset_op.cc:221] Shuffle buffer filled.\n"
     ]
    },
    {
     "name": "stdout",
     "output_type": "stream",
     "text": [
      "1/1 [==============================] - 2s 2s/step - loss: 210.6063 - rmse: 14.5123 - mse: 210.6063 - val_loss: 243.7100 - val_rmse: 15.6090 - val_mse: 243.7100\n",
      "Epoch 2/50\n"
     ]
    },
    {
     "name": "stderr",
     "output_type": "stream",
     "text": [
      "2021-10-06 22:05:34.878582: I tensorflow/core/profiler/lib/profiler_session.cc:164] Profiler session started.\n"
     ]
    },
    {
     "name": "stdout",
     "output_type": "stream",
     "text": [
      "WARNING:tensorflow:From /opt/conda/lib/python3.7/site-packages/tensorflow/python/ops/summary_ops_v2.py:1277: stop (from tensorflow.python.eager.profiler) is deprecated and will be removed after 2020-07-01.\n",
      "Instructions for updating:\n",
      "use `tf.profiler.experimental.stop` instead.\n",
      "1/1 [==============================] - ETA: 0s - loss: 217.9167 - rmse: 14.7620 - mse: 217.9167"
     ]
    },
    {
     "name": "stderr",
     "output_type": "stream",
     "text": [
      "2021-10-06 22:05:35.178235: I tensorflow/core/profiler/rpc/client/save_profile.cc:176] Creating directory: ./taxi_trained/train/plugins/profile/2021_10_06_22_05_35\n",
      "2021-10-06 22:05:35.220855: I tensorflow/core/profiler/rpc/client/save_profile.cc:182] Dumped gzipped tool data for trace.json.gz to ./taxi_trained/train/plugins/profile/2021_10_06_22_05_35/asl.trace.json.gz\n",
      "2021-10-06 22:05:35.242282: I tensorflow/core/profiler/rpc/client/save_profile.cc:176] Creating directory: ./taxi_trained/train/plugins/profile/2021_10_06_22_05_35\n",
      "2021-10-06 22:05:35.242983: I tensorflow/core/profiler/rpc/client/save_profile.cc:182] Dumped gzipped tool data for memory_profile.json.gz to ./taxi_trained/train/plugins/profile/2021_10_06_22_05_35/asl.memory_profile.json.gz\n",
      "2021-10-06 22:05:35.243757: I tensorflow/python/profiler/internal/profiler_wrapper.cc:111] Creating directory: ./taxi_trained/train/plugins/profile/2021_10_06_22_05_35Dumped tool data for xplane.pb to ./taxi_trained/train/plugins/profile/2021_10_06_22_05_35/asl.xplane.pb\n",
      "Dumped tool data for overview_page.pb to ./taxi_trained/train/plugins/profile/2021_10_06_22_05_35/asl.overview_page.pb\n",
      "Dumped tool data for input_pipeline.pb to ./taxi_trained/train/plugins/profile/2021_10_06_22_05_35/asl.input_pipeline.pb\n",
      "Dumped tool data for tensorflow_stats.pb to ./taxi_trained/train/plugins/profile/2021_10_06_22_05_35/asl.tensorflow_stats.pb\n",
      "Dumped tool data for kernel_stats.pb to ./taxi_trained/train/plugins/profile/2021_10_06_22_05_35/asl.kernel_stats.pb\n",
      "\n"
     ]
    },
    {
     "name": "stdout",
     "output_type": "stream",
     "text": [
      "1/1 [==============================] - 2s 2s/step - loss: 217.9167 - rmse: 14.7620 - mse: 217.9167 - val_loss: 242.1570 - val_rmse: 15.5527 - val_mse: 242.1570\n",
      "Epoch 3/50\n",
      "1/1 [==============================] - 2s 2s/step - loss: 198.4778 - rmse: 14.0882 - mse: 198.4778 - val_loss: 234.4059 - val_rmse: 15.2902 - val_mse: 234.4059\n",
      "Epoch 4/50\n",
      "1/1 [==============================] - 1s 1s/step - loss: 234.2517 - rmse: 15.3053 - mse: 234.2517 - val_loss: 232.4819 - val_rmse: 15.2432 - val_mse: 232.4819\n",
      "Epoch 5/50\n",
      "1/1 [==============================] - 2s 2s/step - loss: 175.2329 - rmse: 13.2376 - mse: 175.2329 - val_loss: 229.6310 - val_rmse: 15.1501 - val_mse: 229.6310\n",
      "Epoch 6/50\n",
      "1/1 [==============================] - 1s 1s/step - loss: 186.7245 - rmse: 13.6647 - mse: 186.7245 - val_loss: 226.1993 - val_rmse: 15.0331 - val_mse: 226.1993\n",
      "Epoch 7/50\n",
      "1/1 [==============================] - 2s 2s/step - loss: 184.7089 - rmse: 13.5908 - mse: 184.7089 - val_loss: 224.7580 - val_rmse: 14.9849 - val_mse: 224.7580\n",
      "Epoch 8/50\n",
      "1/1 [==============================] - 2s 2s/step - loss: 187.2988 - rmse: 13.6857 - mse: 187.2988 - val_loss: 220.2690 - val_rmse: 14.8333 - val_mse: 220.2690\n",
      "Epoch 9/50\n",
      "1/1 [==============================] - 2s 2s/step - loss: 189.2642 - rmse: 13.7573 - mse: 189.2642 - val_loss: 218.5468 - val_rmse: 14.7759 - val_mse: 218.5468\n",
      "Epoch 10/50\n",
      "1/1 [==============================] - 1s 1s/step - loss: 189.7843 - rmse: 13.7762 - mse: 189.7843 - val_loss: 216.3852 - val_rmse: 14.7055 - val_mse: 216.3852\n",
      "Epoch 11/50\n",
      "1/1 [==============================] - 2s 2s/step - loss: 210.5775 - rmse: 14.5113 - mse: 210.5775 - val_loss: 214.6008 - val_rmse: 14.6399 - val_mse: 214.6008\n",
      "Epoch 12/50\n",
      "1/1 [==============================] - 2s 2s/step - loss: 206.1264 - rmse: 14.3571 - mse: 206.1264 - val_loss: 206.4466 - val_rmse: 14.3541 - val_mse: 206.4466\n",
      "Epoch 13/50\n",
      "1/1 [==============================] - 2s 2s/step - loss: 179.8371 - rmse: 13.4103 - mse: 179.8371 - val_loss: 202.3344 - val_rmse: 14.2103 - val_mse: 202.3344\n",
      "Epoch 14/50\n",
      "1/1 [==============================] - 1s 1s/step - loss: 196.4335 - rmse: 14.0155 - mse: 196.4335 - val_loss: 200.7255 - val_rmse: 14.1553 - val_mse: 200.7255\n",
      "Epoch 15/50\n",
      "1/1 [==============================] - 2s 2s/step - loss: 169.3123 - rmse: 13.0120 - mse: 169.3123 - val_loss: 198.9266 - val_rmse: 14.0804 - val_mse: 198.9266\n",
      "Epoch 16/50\n",
      "1/1 [==============================] - 2s 2s/step - loss: 163.1232 - rmse: 12.7720 - mse: 163.1232 - val_loss: 196.9219 - val_rmse: 14.0288 - val_mse: 196.9219\n",
      "Epoch 17/50\n",
      "1/1 [==============================] - 2s 2s/step - loss: 129.5334 - rmse: 11.3813 - mse: 129.5334 - val_loss: 193.9340 - val_rmse: 13.9168 - val_mse: 193.9340\n",
      "Epoch 18/50\n",
      "1/1 [==============================] - 1s 1s/step - loss: 178.1324 - rmse: 13.3466 - mse: 178.1324 - val_loss: 190.5891 - val_rmse: 13.7939 - val_mse: 190.5891\n",
      "Epoch 19/50\n",
      "1/1 [==============================] - 2s 2s/step - loss: 190.0959 - rmse: 13.7875 - mse: 190.0959 - val_loss: 185.9307 - val_rmse: 13.6135 - val_mse: 185.9307\n",
      "Epoch 20/50\n",
      "1/1 [==============================] - 2s 2s/step - loss: 153.1907 - rmse: 12.3770 - mse: 153.1907 - val_loss: 182.3639 - val_rmse: 13.4942 - val_mse: 182.3639\n",
      "Epoch 21/50\n",
      "1/1 [==============================] - 2s 2s/step - loss: 142.9245 - rmse: 11.9551 - mse: 142.9245 - val_loss: 179.4183 - val_rmse: 13.3811 - val_mse: 179.4183\n",
      "Epoch 22/50\n",
      "1/1 [==============================] - 2s 2s/step - loss: 144.0392 - rmse: 12.0016 - mse: 144.0392 - val_loss: 179.2475 - val_rmse: 13.3761 - val_mse: 179.2475\n",
      "Epoch 23/50\n",
      "1/1 [==============================] - 1s 1s/step - loss: 147.5180 - rmse: 12.1457 - mse: 147.5180 - val_loss: 171.0007 - val_rmse: 13.0584 - val_mse: 171.0007\n",
      "Epoch 24/50\n",
      "1/1 [==============================] - 2s 2s/step - loss: 140.0522 - rmse: 11.8344 - mse: 140.0522 - val_loss: 169.9871 - val_rmse: 13.0287 - val_mse: 169.9871\n",
      "Epoch 25/50\n",
      "1/1 [==============================] - 2s 2s/step - loss: 151.8960 - rmse: 12.3246 - mse: 151.8960 - val_loss: 165.7316 - val_rmse: 12.8634 - val_mse: 165.7316\n",
      "Epoch 26/50\n",
      "1/1 [==============================] - 2s 2s/step - loss: 130.8712 - rmse: 11.4399 - mse: 130.8712 - val_loss: 164.6608 - val_rmse: 12.8114 - val_mse: 164.6608\n",
      "Epoch 27/50\n",
      "1/1 [==============================] - 2s 2s/step - loss: 133.0229 - rmse: 11.5336 - mse: 133.0229 - val_loss: 160.8615 - val_rmse: 12.6763 - val_mse: 160.8615\n",
      "Epoch 28/50\n",
      "1/1 [==============================] - 2s 2s/step - loss: 134.5534 - rmse: 11.5997 - mse: 134.5534 - val_loss: 157.0112 - val_rmse: 12.5174 - val_mse: 157.0112\n",
      "Epoch 29/50\n",
      "1/1 [==============================] - 2s 2s/step - loss: 129.5075 - rmse: 11.3801 - mse: 129.5075 - val_loss: 154.0692 - val_rmse: 12.3977 - val_mse: 154.0692\n",
      "Epoch 30/50\n",
      "1/1 [==============================] - 2s 2s/step - loss: 199.3007 - rmse: 14.1174 - mse: 199.3007 - val_loss: 150.6245 - val_rmse: 12.2674 - val_mse: 150.6245\n",
      "Epoch 31/50\n",
      "1/1 [==============================] - 2s 2s/step - loss: 134.9150 - rmse: 11.6153 - mse: 134.9150 - val_loss: 148.2445 - val_rmse: 12.1673 - val_mse: 148.2445\n",
      "Epoch 32/50\n",
      "1/1 [==============================] - 2s 2s/step - loss: 98.6557 - rmse: 9.9326 - mse: 98.6557 - val_loss: 147.3013 - val_rmse: 12.1241 - val_mse: 147.3013\n",
      "Epoch 33/50\n",
      "1/1 [==============================] - 2s 2s/step - loss: 137.9043 - rmse: 11.7433 - mse: 137.9043 - val_loss: 142.8207 - val_rmse: 11.9268 - val_mse: 142.8207\n",
      "Epoch 34/50\n",
      "1/1 [==============================] - 2s 2s/step - loss: 120.0661 - rmse: 10.9575 - mse: 120.0661 - val_loss: 138.4221 - val_rmse: 11.7493 - val_mse: 138.4221\n",
      "Epoch 35/50\n",
      "1/1 [==============================] - 2s 2s/step - loss: 119.9645 - rmse: 10.9528 - mse: 119.9645 - val_loss: 138.5164 - val_rmse: 11.7605 - val_mse: 138.5164\n",
      "Epoch 36/50\n",
      "1/1 [==============================] - 2s 2s/step - loss: 118.4207 - rmse: 10.8821 - mse: 118.4207 - val_loss: 137.9619 - val_rmse: 11.7341 - val_mse: 137.9619\n",
      "Epoch 37/50\n",
      "1/1 [==============================] - 2s 2s/step - loss: 157.6505 - rmse: 12.5559 - mse: 157.6505 - val_loss: 134.7066 - val_rmse: 11.5808 - val_mse: 134.7066\n",
      "Epoch 38/50\n",
      "1/1 [==============================] - 2s 2s/step - loss: 139.6960 - rmse: 11.8193 - mse: 139.6960 - val_loss: 129.2149 - val_rmse: 11.3505 - val_mse: 129.2149\n",
      "Epoch 39/50\n",
      "1/1 [==============================] - 2s 2s/step - loss: 94.5689 - rmse: 9.7247 - mse: 94.5689 - val_loss: 128.5156 - val_rmse: 11.3242 - val_mse: 128.5156\n",
      "Epoch 40/50\n",
      "1/1 [==============================] - 2s 2s/step - loss: 96.2603 - rmse: 9.8112 - mse: 96.2603 - val_loss: 127.0922 - val_rmse: 11.2558 - val_mse: 127.0922\n",
      "Epoch 41/50\n",
      "1/1 [==============================] - 1s 1s/step - loss: 107.8892 - rmse: 10.3870 - mse: 107.8892 - val_loss: 124.9487 - val_rmse: 11.1626 - val_mse: 124.9487\n",
      "Epoch 42/50\n",
      "1/1 [==============================] - 2s 2s/step - loss: 105.5024 - rmse: 10.2714 - mse: 105.5024 - val_loss: 122.6034 - val_rmse: 11.0309 - val_mse: 122.6034\n",
      "Epoch 43/50\n",
      "1/1 [==============================] - 2s 2s/step - loss: 109.0706 - rmse: 10.4437 - mse: 109.0706 - val_loss: 122.2638 - val_rmse: 11.0342 - val_mse: 122.2638\n",
      "Epoch 44/50\n",
      "1/1 [==============================] - 2s 2s/step - loss: 120.8110 - rmse: 10.9914 - mse: 120.8110 - val_loss: 120.1896 - val_rmse: 10.9465 - val_mse: 120.1896\n",
      "Epoch 45/50\n",
      "1/1 [==============================] - 2s 2s/step - loss: 113.6518 - rmse: 10.6608 - mse: 113.6518 - val_loss: 121.0581 - val_rmse: 10.9728 - val_mse: 121.0581\n",
      "Epoch 46/50\n",
      "1/1 [==============================] - 2s 2s/step - loss: 80.4526 - rmse: 8.9695 - mse: 80.4526 - val_loss: 117.1553 - val_rmse: 10.8059 - val_mse: 117.1553\n",
      "Epoch 47/50\n",
      "1/1 [==============================] - 2s 2s/step - loss: 95.8043 - rmse: 9.7880 - mse: 95.8043 - val_loss: 116.8785 - val_rmse: 10.8069 - val_mse: 116.8785\n",
      "Epoch 48/50\n",
      "1/1 [==============================] - 2s 2s/step - loss: 101.5098 - rmse: 10.0752 - mse: 101.5098 - val_loss: 115.4573 - val_rmse: 10.7102 - val_mse: 115.4573\n",
      "Epoch 49/50\n",
      "1/1 [==============================] - 2s 2s/step - loss: 86.4632 - rmse: 9.2986 - mse: 86.4632 - val_loss: 115.6097 - val_rmse: 10.7376 - val_mse: 115.6097\n",
      "Epoch 50/50\n",
      "1/1 [==============================] - 2s 2s/step - loss: 93.3333 - rmse: 9.6609 - mse: 93.3333 - val_loss: 112.9028 - val_rmse: 10.6178 - val_mse: 112.9028\n",
      "CPU times: user 4min 15s, sys: 1min 49s, total: 6min 4s\n",
      "Wall time: 1min 50s\n"
     ]
    }
   ],
   "source": [
    "%%time\n",
    "steps_per_epoch = NUM_TRAIN_EXAMPLES // (BATCH_SIZE * NUM_EVALS)\n",
    "\n",
    "OUTDIR = \"./taxi_trained\"\n",
    "shutil.rmtree(path=OUTDIR, ignore_errors=True) # start fresh each time\n",
    "\n",
    "history = model.fit(x=trainds,\n",
    "                    steps_per_epoch=steps_per_epoch,\n",
    "                    epochs=NUM_EVALS,\n",
    "                    validation_data=evalds,\n",
    "                    callbacks=[TensorBoard(OUTDIR)])"
   ]
  },
  {
   "cell_type": "markdown",
   "metadata": {},
   "source": [
    "Just as before, we can examine the history to see how the RMSE changes through training on the train set and validation set. "
   ]
  },
  {
   "cell_type": "code",
   "execution_count": 31,
   "metadata": {},
   "outputs": [
    {
     "data": {
      "text/plain": [
       "<AxesSubplot:>"
      ]
     },
     "execution_count": 31,
     "metadata": {},
     "output_type": "execute_result"
    },
    {
     "data": {
      "image/png": "[encoded data removed]",
      "text/plain": [
       "<Figure size 432x288 with 1 Axes>"
      ]
     },
     "metadata": {
      "needs_background": "light"
     },
     "output_type": "display_data"
    }
   ],
   "source": [
    "RMSE_COLS = ['rmse', 'val_rmse']\n",
    "\n",
    "pd.DataFrame(history.history)[RMSE_COLS].plot()"
   ]
  },
  {
   "cell_type": "markdown",
   "metadata": {},
   "source": [
    "Copyright 2021 Google Inc. Licensed under the Apache License, Version 2.0 (the \"License\"); you may not use this file except in compliance with the License. You may obtain a copy of the License at http://www.apache.org/licenses/LICENSE-2.0 Unless required by applicable law or agreed to in writing, software distributed under the License is distributed on an \"AS IS\" BASIS, WITHOUT WARRANTIES OR CONDITIONS OF ANY KIND, either express or implied. See the License for the specific language governing permissions and limitations under the License"
   ]
  }
 ],
 "metadata": {
  "environment": {
   "name": "tf2-gpu.2-3.m80",
   "type": "gcloud",
   "uri": "gcr.io/deeplearning-platform-release/tf2-gpu.2-3:m80"
  },
  "kernelspec": {
   "display_name": "Python 3",
   "language": "python",
   "name": "python3"
  },
  "language_info": {
   "codemirror_mode": {
    "name": "ipython",
    "version": 3
   },
   "file_extension": ".py",
   "mimetype": "text/x-python",
   "name": "python",
   "nbconvert_exporter": "python",
   "pygments_lexer": "ipython3",
   "version": "3.7.10"
  }
 },
 "nbformat": 4,
 "nbformat_minor": 4
}
