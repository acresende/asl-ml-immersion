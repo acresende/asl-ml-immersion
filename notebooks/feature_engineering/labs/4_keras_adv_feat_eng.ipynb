{
 "cells": [
  {
   "cell_type": "markdown",
   "metadata": {},
   "source": [
    "# Advanced Feature Engineering in Keras \n",
    "\n",
    "**Learning Objectives**\n",
    "\n",
    "1. Process temporal feature columns in Keras\n",
    "2. Use Lambda layers to perform feature engineering on geolocation features \n",
    "3. Create bucketized and crossed feature columns\n",
    " \n",
    "\n",
    "## Overview \n",
    "\n",
    "In this notebook, we use Keras to build a taxifare price prediction model and utilize feature engineering to improve the fare amount prediction for NYC taxi cab rides. "
   ]
  },
  {
   "cell_type": "markdown",
   "metadata": {},
   "source": [
    "We will start by importing the necessary libraries for this lab."
   ]
  },
  {
   "cell_type": "code",
   "execution_count": 1,
   "metadata": {},
   "outputs": [
    {
     "name": "stdout",
     "output_type": "stream",
     "text": [
      "2.3.4\n"
     ]
    }
   ],
   "source": [
    "import datetime\n",
    "import logging\n",
    "import os\n",
    "\n",
    "import matplotlib.pyplot as plt\n",
    "import numpy as np\n",
    "import tensorflow as tf\n",
    "\n",
    "from tensorflow import feature_column as fc\n",
    "from tensorflow.keras import layers\n",
    "from tensorflow.keras import models\n",
    "\n",
    "# set TF error log verbosity\n",
    "logging.getLogger(\"tensorflow\").setLevel(logging.ERROR)\n",
    "\n",
    "print(tf.version.VERSION)"
   ]
  },
  {
   "cell_type": "markdown",
   "metadata": {},
   "source": [
    "## Load taxifare dataset\n",
    "\n",
    "The Taxi Fare dataset for this lab is 106,545 rows and has been pre-processed and split for use in this lab.  Note that the dataset is the same as used in the Big Query feature engineering labs.  The fare_amount is the target, the continuous value we’ll train a model to predict.  \n",
    "\n",
    "First, let's download the  .csv data by copying the data from a cloud storage bucket."
   ]
  },
  {
   "cell_type": "code",
   "execution_count": 2,
   "metadata": {},
   "outputs": [],
   "source": [
    "if not os.path.isdir(\"../data\"):\n",
    "    os.makedirs(\"../data\")"
   ]
  },
  {
   "cell_type": "code",
   "execution_count": 3,
   "metadata": {},
   "outputs": [
    {
     "name": "stdout",
     "output_type": "stream",
     "text": [
      "Copying gs://cloud-training-demos/feat_eng/data/Advertising.csv...\n",
      "Copying gs://cloud-training-demos/feat_eng/data/USA_Housing.csv...\n",
      "Copying gs://cloud-training-demos/feat_eng/data/advertising.csv...              \n",
      "Copying gs://cloud-training-demos/feat_eng/data/california_housing_train.csv... \n",
      "Copying gs://cloud-training-demos/feat_eng/data/churn_data.csv...               \n",
      "Copying gs://cloud-training-demos/feat_eng/data/customer_data.csv...            \n",
      "Copying gs://cloud-training-demos/feat_eng/data/internet_data.csv...            \n",
      "Copying gs://cloud-training-demos/feat_eng/data/taxi-test.csv...                \n",
      "Copying gs://cloud-training-demos/feat_eng/data/kyphosis_ETT - 10.4.2021.csv...\n",
      "Copying gs://cloud-training-demos/feat_eng/data/taxi-valid.csv...               \n",
      "Copying gs://cloud-training-demos/feat_eng/data/sell_prices.csv...\n",
      "Copying gs://cloud-training-demos/feat_eng/data/credit_risk.csv...              \n",
      "Copying gs://cloud-training-demos/feat_eng/data/data_USA_Housing.csv...         \n",
      "Copying gs://cloud-training-demos/feat_eng/data/consumer_spend.csv...           \n",
      "Copying gs://cloud-training-demos/feat_eng/data/insurance.csv...                \n",
      "Copying gs://cloud-training-demos/feat_eng/data/kyphosis_ETT.csv...             \n",
      "Copying gs://cloud-training-demos/feat_eng/data/taxi-train.csv...               \n",
      "Copying gs://cloud-training-demos/feat_eng/data/kyphosis.csv...\n",
      "Copying gs://cloud-training-demos/feat_eng/data/telco_customer_churn.csv...\n",
      "Copying gs://cloud-training-demos/feat_eng/data/insurance_tidy.csv...\n",
      "Copying gs://cloud-training-demos/feat_eng/data/tidyAdvertising.csv...          \n",
      "Copying gs://cloud-training-demos/feat_eng/data/tidyadvertising_ETT.csv...      \n",
      "Copying gs://cloud-training-demos/feat_eng/data/water_potability.csv...         \n",
      "Copying gs://cloud-training-demos/feat_eng/data/water_potability_ETT.csv...     \n",
      "- [24/24 files][205.9 MiB/205.9 MiB] 100% Done                                  \n",
      "Operation completed over 24 objects/205.9 MiB.                                   \n"
     ]
    }
   ],
   "source": [
    "!gsutil -m cp gs://cloud-training-demos/feat_eng/data/*.csv ../data"
   ]
  },
  {
   "cell_type": "markdown",
   "metadata": {},
   "source": [
    "Let's check that the files were copied correctly and look like we expect them to."
   ]
  },
  {
   "cell_type": "code",
   "execution_count": 4,
   "metadata": {},
   "outputs": [
    {
     "name": "stdout",
     "output_type": "stream",
     "text": [
      "-rw-r--r-- 1 jupyter jupyter      4555 Oct  7 19:56  ../data/Advertising.csv\n",
      "-rw-r--r-- 1 jupyter jupyter    726205 Oct  7 19:56  ../data/USA_Housing.csv\n",
      "-rw-r--r-- 1 jupyter jupyter    107424 Oct  7 19:56  ../data/advertising.csv\n",
      "-rw-r--r-- 1 jupyter jupyter   1706430 Oct  7 19:56  ../data/california_housing_train.csv\n",
      "-rw-r--r-- 1 jupyter jupyter    491383 Oct  7 19:56  ../data/churn_data.csv\n",
      "-rw-r--r-- 1 jupyter jupyter    204270 Oct  7 19:56  ../data/consumer_spend.csv\n",
      "-rw-r--r-- 1 jupyter jupyter    119807 Oct  7 19:56  ../data/credit_risk.csv\n",
      "-rw-r--r-- 1 jupyter jupyter    188590 Oct  7 19:56  ../data/customer_data.csv\n",
      "-rw-r--r-- 1 jupyter jupyter    726209 Oct  7 19:56  ../data/data_USA_Housing.csv\n",
      "-rw-r--r-- 1 jupyter jupyter     55628 Oct  7 19:56  ../data/insurance.csv\n",
      "-rw-r--r-- 1 jupyter jupyter     37761 Oct  7 19:56  ../data/insurance_tidy.csv\n",
      "-rw-r--r-- 1 jupyter jupyter    466434 Oct  7 19:56  ../data/internet_data.csv\n",
      "-rw-r--r-- 1 jupyter jupyter      1829 Oct  7 19:56  ../data/kyphosis.csv\n",
      "-rw-r--r-- 1 jupyter jupyter     17541 Oct  7 19:56 '../data/kyphosis_ETT - 10.4.2021.csv'\n",
      "-rw-r--r-- 1 jupyter jupyter     23916 Oct  7 19:56  ../data/kyphosis_ETT.csv\n",
      "-rw-r--r-- 1 jupyter jupyter 203395785 Oct  7 19:56  ../data/sell_prices.csv\n",
      "-rw-r--r-- 1 jupyter jupyter   1113292 Oct  7 19:56  ../data/taxi-test.csv\n",
      "-rw-r--r-- 1 jupyter jupyter   3551735 Oct  7 19:56  ../data/taxi-train.csv\n",
      "-rw-r--r-- 1 jupyter jupyter    888648 Oct  7 19:56  ../data/taxi-valid.csv\n",
      "-rw-r--r-- 1 jupyter jupyter    977501 Oct  7 19:56  ../data/telco_customer_churn.csv\n",
      "-rw-r--r-- 1 jupyter jupyter     24246 Oct  7 19:56  ../data/tidyAdvertising.csv\n",
      "-rw-r--r-- 1 jupyter jupyter     24246 Oct  7 19:56  ../data/tidyadvertising_ETT.csv\n",
      "-rw-r--r-- 1 jupyter jupyter    525187 Oct  7 19:56  ../data/water_potability.csv\n",
      "-rw-r--r-- 1 jupyter jupyter    525187 Oct  7 19:56  ../data/water_potability_ETT.csv\n"
     ]
    }
   ],
   "source": [
    "!ls -l ../data/*.csv"
   ]
  },
  {
   "cell_type": "code",
   "execution_count": 5,
   "metadata": {},
   "outputs": [
    {
     "name": "stdout",
     "output_type": "stream",
     "text": [
      "==> ../data/Advertising.csv <==\n",
      ",TV,Radio,Newspaper,Sales\n",
      "1,230.1,37.8,69.2,22.1\n",
      "2,44.5,39.3,45.1,10.4\n",
      "3,17.2,45.9,69.3,9.3\n",
      "4,151.5,41.3,58.5,18.5\n",
      "5,180.8,10.8,58.4,12.9\n",
      "6,8.7,48.9,75,7.2\n",
      "7,57.5,32.8,23.5,11.8\n",
      "8,120.2,19.6,11.6,13.2\n",
      "9,8.6,2.1,1,4.8\n",
      "\n",
      "==> ../data/USA_Housing.csv <==\n",
      "Avg_Area_Income,Avg_Area_House_Age,Avg_Area_Number_of_Rooms,Avg_Area_Number_of_Bedrooms,Area_Population,Price,Address\n",
      "79545.45857431678,5.682861321615587,7.009188142792237,4.09,23086.800502686456,1059033.5578701235,\"208 Michael Ferry Apt. 674\n",
      "Laurabury, NE 37010-5101\"\n",
      "79248.64245482568,6.0028998082752425,6.730821019094919,3.09,40173.07217364482,1505890.91484695,\"188 Johnson Views Suite 079\n",
      "Lake Kathleen, CA 48958\"\n",
      "61287.067178656784,5.865889840310001,8.512727430375099,5.13,36882.15939970458,1058987.9878760849,\"9127 Elizabeth Stravenue\n",
      "Danieltown, WI 06482-3489\"\n",
      "63345.24004622798,7.1882360945186425,5.586728664827653,3.26,34310.24283090706,1260616.8066294468,\"USS Barnett\n",
      "FPO AP 44820\"\n",
      "59982.197225708034,5.040554523106283,7.839387785120487,4.23,26354.109472103148,630943.4893385402,\"USNS Raymond\n",
      "\n",
      "==> ../data/advertising.csv <==\n",
      "Daily Time Spent on Site,Age,Area Income,Daily Internet Usage,Ad Topic Line,City,Male,Country,Timestamp,Clicked on Ad\n",
      "68.95,35,61833.9,256.09,Cloned 5thgeneration orchestration,Wrightburgh,0,Tunisia,2016-03-27 00:53:11,0\n",
      "80.23,31,68441.85,193.77,Monitored national standardization,West Jodi,1,Nauru,2016-04-04 01:39:02,0\n",
      "69.47,26,59785.94,236.5,Organic bottom-line service-desk,Davidton,0,San Marino,2016-03-13 20:35:42,0\n",
      "74.15,29,54806.18,245.89,Triple-buffered reciprocal time-frame,West Terrifurt,1,Italy,2016-01-10 02:31:19,0\n",
      "68.37,35,73889.99,225.58,Robust logistical utilization,South Manuel,0,Iceland,2016-06-03 03:36:18,0\n",
      "59.99,23,59761.56,226.74,Sharable client-driven software,Jamieberg,1,Norway,2016-05-19 14:30:17,0\n",
      "88.91,33,53852.85,208.36,Enhanced dedicated support,Brandonstad,0,Myanmar,2016-01-28 20:59:32,0\n",
      "66.0,48,24593.33,131.76,Reactive local challenge,Port Jefferybury,1,Australia,2016-03-07 01:40:15,1\n",
      "74.53,30,68862.0,221.51,Configurable coherent function,West Colin,1,Grenada,2016-04-18 09:33:42,0\n",
      "\n",
      "==> ../data/california_housing_train.csv <==\n",
      "\"longitude\",\"latitude\",\"housing_median_age\",\"total_rooms\",\"total_bedrooms\",\"population\",\"households\",\"median_income\",\"median_house_value\"\n",
      "-114.310000,34.190000,15.000000,5612.000000,1283.000000,1015.000000,472.000000,1.493600,66900.000000\n",
      "-114.470000,34.400000,19.000000,7650.000000,1901.000000,1129.000000,463.000000,1.820000,80100.000000\n",
      "-114.560000,33.690000,17.000000,720.000000,174.000000,333.000000,117.000000,1.650900,85700.000000\n",
      "-114.570000,33.640000,14.000000,1501.000000,337.000000,515.000000,226.000000,3.191700,73400.000000\n",
      "-114.570000,33.570000,20.000000,1454.000000,326.000000,624.000000,262.000000,1.925000,65500.000000\n",
      "-114.580000,33.630000,29.000000,1387.000000,236.000000,671.000000,239.000000,3.343800,74000.000000\n",
      "-114.580000,33.610000,25.000000,2907.000000,680.000000,1841.000000,633.000000,2.676800,82400.000000\n",
      "-114.590000,34.830000,41.000000,812.000000,168.000000,375.000000,158.000000,1.708300,48500.000000\n",
      "-114.590000,33.610000,34.000000,4789.000000,1175.000000,3134.000000,1056.000000,2.178200,58400.000000\n",
      "\n",
      "==> ../data/churn_data.csv <==\n",
      "customerID,tenure,PhoneService,Contract,PaperlessBilling,PaymentMethod,MonthlyCharges,TotalCharges,Churn\n",
      "7590-VHVEG,1,No,Month-to-month,Yes,Electronic check,29.85,29.85,No\n",
      "5575-GNVDE,34,Yes,One year,No,Mailed check,56.95,1889.5,No\n",
      "3668-QPYBK,2,Yes,Month-to-month,Yes,Mailed check,53.85,108.15,Yes\n",
      "7795-CFOCW,45,No,One year,No,Bank transfer (automatic),42.3,1840.75,No\n",
      "9237-HQITU,2,Yes,Month-to-month,Yes,Electronic check,70.7,151.65,Yes\n",
      "9305-CDSKC,8,Yes,Month-to-month,Yes,Electronic check,99.65,820.5,Yes\n",
      "1452-KIOVK,22,Yes,Month-to-month,Yes,Credit card (automatic),89.1,1949.4,No\n",
      "6713-OKOMC,10,No,Month-to-month,No,Mailed check,29.75,301.9,No\n",
      "7892-POOKP,28,Yes,Month-to-month,Yes,Electronic check,104.8,3046.05,Yes\n",
      "\n",
      "==> ../data/consumer_spend.csv <==\n",
      "Graduated,Profession,Work_Experience,Family_Size,Spending_Score\n",
      "No,Healthcare,1.0,4.0,Low\n",
      "Yes,Engineer,,3.0,Average\n",
      "Yes,Engineer,1.0,1.0,Low\n",
      "Yes,Lawyer,0.0,2.0,High\n",
      "Yes,Entertainment,,6.0,High\n",
      "No,Artist,0.0,2.0,Average\n",
      "Yes,Healthcare,1.0,3.0,Low\n",
      "Yes,Healthcare,1.0,3.0,Low\n",
      "Yes,Engineer,0.0,3.0,Low\n",
      "\n",
      "==> ../data/credit_risk.csv <==\n",
      "clientid,income,age,loan,default\n",
      "1,66155.9250950813,59.017015066929204,8106.53213128514,0\n",
      "2,34415.1539658196,48.11715310486029,6564.745017677379,0\n",
      "3,57317.1700630337,63.10804949188599,8020.953296386469,0\n",
      "4,42709.534200839706,45.751972352154596,6103.642260140699,0\n",
      "5,66952.68884534019,18.5843359269202,8770.09923520439,1\n",
      "6,24904.064140282597,57.4716071025468,15.498598437827198,0\n",
      "7,48430.3596126847,26.809132419060898,5722.58198121271,0\n",
      "8,24500.1419843175,32.8975483207032,2971.00330971188,1\n",
      "9,40654.8925372772,55.496852539479704,4755.8252798016,0\n",
      "\n",
      "==> ../data/customer_data.csv <==\n",
      "customerID,gender,SeniorCitizen,Partner,Dependents\n",
      "7590-VHVEG,Female,0,Yes,No\n",
      "5575-GNVDE,Male,0,No,No\n",
      "3668-QPYBK,Male,0,No,No\n",
      "7795-CFOCW,Male,0,No,No\n",
      "9237-HQITU,Female,0,No,No\n",
      "9305-CDSKC,Female,0,No,No\n",
      "1452-KIOVK,Male,0,No,Yes\n",
      "6713-OKOMC,Female,0,No,No\n",
      "7892-POOKP,Female,0,Yes,No\n",
      "\n",
      "==> ../data/data_USA_Housing.csv <==\n",
      "Avg. Area Income,Avg. Area House Age,Avg. Area Number of Rooms,Avg. Area Number of Bedrooms,Area Population,Price,Address\n",
      "79545.45857431678,5.682861321615587,7.009188142792237,4.09,23086.800502686456,1059033.5578701235,\"208 Michael Ferry Apt. 674\n",
      "Laurabury, NE 37010-5101\"\n",
      "79248.64245482568,6.0028998082752425,6.730821019094919,3.09,40173.07217364482,1505890.91484695,\"188 Johnson Views Suite 079\n",
      "Lake Kathleen, CA 48958\"\n",
      "61287.067178656784,5.865889840310001,8.512727430375099,5.13,36882.15939970458,1058987.9878760849,\"9127 Elizabeth Stravenue\n",
      "Danieltown, WI 06482-3489\"\n",
      "63345.24004622798,7.1882360945186425,5.586728664827653,3.26,34310.24283090706,1260616.8066294468,\"USS Barnett\n",
      "FPO AP 44820\"\n",
      "59982.197225708034,5.040554523106283,7.839387785120487,4.23,26354.109472103148,630943.4893385402,\"USNS Raymond\n",
      "\n",
      "==> ../data/insurance.csv <==\n",
      "age,sex,bmi,children,smoker,region,charges\n",
      "19,female,27.9,0,yes,southwest,16884.924\n",
      "18,male,33.77,1,no,southeast,1725.5523\n",
      "28,male,33,3,no,southeast,4449.462\n",
      "33,male,22.705,0,no,northwest,21984.47061\n",
      "32,male,28.88,0,no,northwest,3866.8552\n",
      "31,female,25.74,0,no,southeast,3756.6216\n",
      "46,female,33.44,1,no,southeast,8240.5896\n",
      "37,female,27.74,3,no,northwest,7281.5056\n",
      "37,male,29.83,2,no,northeast,6406.4107\n",
      "\n",
      "==> ../data/insurance_tidy.csv <==\n",
      "age,sex,bmi,children,smoker,region,charges\n",
      "19,0,27.9,0,1,3,16884.924\n",
      "18,1,33.77,1,0,2,1725.5523\n",
      "28,1,33.0,3,0,2,4449.462\n",
      "33,1,22.705,0,0,1,21984.47061\n",
      "32,1,28.88,0,0,1,3866.8552\n",
      "31,0,25.74,0,0,2,3756.6216\n",
      "46,0,33.44,1,0,2,8240.5896\n",
      "37,0,27.74,3,0,1,7281.5056\n",
      "37,1,29.83,2,0,0,6406.4107\n",
      "\n",
      "==> ../data/internet_data.csv <==\n",
      "customerID,MultipleLines,InternetService,OnlineSecurity,OnlineBackup,DeviceProtection,TechSupport,StreamingTV,StreamingMovies\n",
      "7590-VHVEG,No phone service,DSL,No,Yes,No,No,No,No\n",
      "5575-GNVDE,No,DSL,Yes,No,Yes,No,No,No\n",
      "3668-QPYBK,No,DSL,Yes,Yes,No,No,No,No\n",
      "7795-CFOCW,No phone service,DSL,Yes,No,Yes,Yes,No,No\n",
      "9237-HQITU,No,Fiber optic,No,No,No,No,No,No\n",
      "9305-CDSKC,Yes,Fiber optic,No,No,Yes,No,Yes,Yes\n",
      "1452-KIOVK,Yes,Fiber optic,No,Yes,No,No,Yes,No\n",
      "6713-OKOMC,No phone service,DSL,Yes,No,No,No,No,No\n",
      "7892-POOKP,Yes,Fiber optic,No,No,Yes,Yes,Yes,Yes\n",
      "\n",
      "==> ../data/kyphosis.csv <==\n",
      "\"\",\"Kyphosis\",\"Age\",\"Number\",\"Start\"\n",
      "\"1\",\"absent\",71,3,5\n",
      "\"2\",\"absent\",158,3,14\n",
      "\"3\",\"present\",128,4,5\n",
      "\"4\",\"absent\",2,5,1\n",
      "\"5\",\"absent\",1,4,15\n",
      "\"6\",\"absent\",1,2,16\n",
      "\"7\",\"absent\",61,2,17\n",
      "\"8\",\"absent\",37,3,16\n",
      "\"9\",\"absent\",113,2,16\n",
      "\n",
      "==> ../data/kyphosis_ETT - 10.4.2021.csv <==\n",
      "Kyphosis,Age,Number,Start\n",
      "absent,71,3,5\n",
      "absent,158,3,14\n",
      "present,128,4,5\n",
      "absent,2,5,1\n",
      "absent,1,4,15\n",
      "absent,1,2,16\n",
      "absent,61,2,17\n",
      "absent,37,3,16\n",
      "absent,113,2,16\n",
      "\n",
      "==> ../data/kyphosis_ETT.csv <==\n",
      "\"\",\"Kyphosis\",\"Age\",\"Number\",\"Start\"\n",
      "\"1\",\"absent\",71,3,5\n",
      "\"2\",\"absent\",158,3,14\n",
      "\"3\",\"present\",128,4,5\n",
      "\"4\",\"absent\",2,5,1\n",
      "\"5\",\"absent\",1,4,15\n",
      "\"6\",\"absent\",1,2,16\n",
      "\"7\",\"absent\",61,2,17\n",
      "\"8\",\"absent\",37,3,16\n",
      "\"9\",\"absent\",113,2,16\n",
      "\n",
      "==> ../data/sell_prices.csv <==\n",
      "store_id,item_id,wm_yr_wk,sell_price\n",
      "CA_1,HOBBIES_1_001,11325,9.58\n",
      "CA_1,HOBBIES_1_001,11326,9.58\n",
      "CA_1,HOBBIES_1_001,11327,8.26\n",
      "CA_1,HOBBIES_1_001,11328,8.26\n",
      "CA_1,HOBBIES_1_001,11329,8.26\n",
      "CA_1,HOBBIES_1_001,11330,8.26\n",
      "CA_1,HOBBIES_1_001,11331,8.26\n",
      "CA_1,HOBBIES_1_001,11332,8.26\n",
      "CA_1,HOBBIES_1_001,11333,8.26\n",
      "\n",
      "==> ../data/taxi-test.csv <==\n",
      "fare_amount,passenger_count,pickup_longitude,pickup_latitude,dropoff_longitude,dropoff_latitude,hourofday,dayofweek\n",
      "7.7,4,-73.987998,40.764815000000006,-73.980602,40.744547999999995,15,3\n",
      "11.5,1,-73.99378,40.75575,-73.97917,40.72579,22,4\n",
      "7.3,1,-73.97940899999999,40.781647,-73.955749,40.772529999999996,12,6\n",
      "8.5,1,-73.98869300000001,40.727032,-73.998685,40.73437,21,3\n",
      "6.5,1,-73.947773,40.790307,-73.95327900000001,40.778389000000004,23,2\n",
      "4.9,2,-74.000364,40.728729,-74.00884599999999,40.725924,11,1\n",
      "3.7,3,-73.98424,40.755512,-73.990392,40.752039,7,3\n",
      "4.9,4,-73.989798,40.762527,-73.989848,40.773913,16,2\n",
      "11.7,2,-73.990573,40.728769,-73.938254,40.720831,8,6\n",
      "\n",
      "==> ../data/taxi-train.csv <==\n",
      "fare_amount,passenger_count,pickup_longitude,pickup_latitude,dropoff_longitude,dropoff_latitude,hourofday,dayofweek\n",
      "8.1,1,-73.973731,40.791909999999994,-73.962737,40.767317999999996,14,4\n",
      "4.5,2,-73.98649499999999,40.739278000000006,-73.986083,40.730933,10,6\n",
      "2.9,1,-73.95604300000001,40.772026000000004,-73.956245,40.773934000000004,22,3\n",
      "7.0,1,-74.006557,40.705797,-73.980017,40.713617,6,3\n",
      "6.5,1,-73.98644300000001,40.741611999999996,-73.990215,40.746466999999996,10,2\n",
      "15.0,1,-73.96014404,40.7789917,-73.98536682,40.73873138,17,6\n",
      "5.5,1,-73.981625,40.74957,-73.97639000000001,40.754807,18,0\n",
      "9.0,3,-73.99884,40.734719,-73.978865,40.72422,21,1\n",
      "14.0,2,-73.986827,40.742839000000004,-73.94695899999999,40.780063,19,1\n",
      "\n",
      "==> ../data/taxi-valid.csv <==\n",
      "fare_amount,passenger_count,pickup_longitude,pickup_latitude,dropoff_longitude,dropoff_latitude,hourofday,dayofweek\n",
      "15.5,3,-73.98902199999999,40.718837,-73.974645,40.761427000000005,18,3\n",
      "7.5,1,-73.97336578,40.76422882,-73.98596954,40.75464249,20,0\n",
      "3.3,2,-73.961372,40.760443,-73.956565,40.767154999999995,2,6\n",
      "13.5,6,-73.989437,40.757082000000004,-73.98344200000001,40.725312,18,4\n",
      "7.5,2,-73.981992,40.740312,-73.965375,40.752895,13,4\n",
      "7.3,1,-73.99553,40.759465000000006,-73.978126,40.752683000000005,20,2\n",
      "13.5,5,-73.99021149,40.75678253,-73.95141602,40.7700119,7,3\n",
      "6.1,1,-74.005032,40.72971,-73.985805,40.722916999999995,19,4\n",
      "10.0,6,-73.95796800000001,40.765155,-73.960672,40.781222,12,1\n",
      "\n",
      "==> ../data/telco_customer_churn.csv <==\n",
      "customerID,gender,SeniorCitizen,Partner,Dependents,tenure,PhoneService,MultipleLines,InternetService,OnlineSecurity,OnlineBackup,DeviceProtection,TechSupport,StreamingTV,StreamingMovies,Contract,PaperlessBilling,PaymentMethod,MonthlyCharges,TotalCharges,Churn\n",
      "7590-VHVEG,Female,0,Yes,No,1,No,No phone service,DSL,No,Yes,No,No,No,No,Month-to-month,Yes,Electronic check,29.85,29.85,No\n",
      "5575-GNVDE,Male,0,No,No,34,Yes,No,DSL,Yes,No,Yes,No,No,No,One year,No,Mailed check,56.95,1889.5,No\n",
      "3668-QPYBK,Male,0,No,No,2,Yes,No,DSL,Yes,Yes,No,No,No,No,Month-to-month,Yes,Mailed check,53.85,108.15,Yes\n",
      "7795-CFOCW,Male,0,No,No,45,No,No phone service,DSL,Yes,No,Yes,Yes,No,No,One year,No,Bank transfer (automatic),42.3,1840.75,No\n",
      "9237-HQITU,Female,0,No,No,2,Yes,No,Fiber optic,No,No,No,No,No,No,Month-to-month,Yes,Electronic check,70.7,151.65,Yes\n",
      "9305-CDSKC,Female,0,No,No,8,Yes,Yes,Fiber optic,No,No,Yes,No,Yes,Yes,Month-to-month,Yes,Electronic check,99.65,820.5,Yes\n",
      "1452-KIOVK,Male,0,No,Yes,22,Yes,Yes,Fiber optic,No,Yes,No,No,Yes,No,Month-to-month,Yes,Credit card (automatic),89.1,1949.4,No\n",
      "6713-OKOMC,Female,0,No,No,10,No,No phone service,DSL,Yes,No,No,No,No,No,Month-to-month,No,Mailed check,29.75,301.9,No\n",
      "7892-POOKP,Female,0,Yes,No,28,Yes,Yes,Fiber optic,No,No,Yes,Yes,Yes,Yes,Month-to-month,Yes,Electronic check,104.8,3046.05,Yes\n",
      "\n",
      "==> ../data/tidyAdvertising.csv <==\n",
      "tv,radio,newspaper,sales\n",
      "230.1,37.8,69.2,22.1\n",
      "44.5,39.3,45.1,10.4\n",
      "17.2,45.9,69.3,9.3\n",
      "151.5,41.3,58.5,18.5\n",
      "180.8,10.8,58.4,12.9\n",
      "8.7,48.9,75,7.2\n",
      "57.5,32.8,23.5,11.8\n",
      "120.2,19.6,11.6,13.2\n",
      "8.6,2.1,1,4.8\n",
      "\n",
      "==> ../data/tidyadvertising_ETT.csv <==\n",
      "tv,radio,newspaper,sales\n",
      "230.1,37.8,69.2,22.1\n",
      "44.5,39.3,45.1,10.4\n",
      "17.2,45.9,69.3,9.3\n",
      "151.5,41.3,58.5,18.5\n",
      "180.8,10.8,58.4,12.9\n",
      "8.7,48.9,75,7.2\n",
      "57.5,32.8,23.5,11.8\n",
      "120.2,19.6,11.6,13.2\n",
      "8.6,2.1,1,4.8\n",
      "\n",
      "==> ../data/water_potability.csv <==\n",
      "ph,Hardness,Solids,Chloramines,Sulfate,Conductivity,Organic_carbon,Trihalomethanes,Turbidity,Potability\n",
      ",204.8904554713363,20791.318980747026,7.300211873184757,368.51644134980336,564.3086541722439,10.3797830780847,86.9909704615088,2.9631353806316407,0\n",
      "3.71608007538699,129.42292051494425,18630.057857970347,6.635245883862,,592.8853591348523,15.180013116357259,56.32907628451764,4.500656274942408,0\n",
      "8.099124189298397,224.23625939355776,19909.541732292393,9.275883602694089,,418.6062130644815,16.868636929550973,66.42009251176368,3.0559337496641685,0\n",
      "8.316765884214679,214.37339408562252,22018.417440775294,8.05933237743854,356.88613564305666,363.2665161642437,18.436524495493302,100.34167436508008,4.628770536837084,0\n",
      "9.092223456290965,181.10150923612525,17978.98633892625,6.546599974207941,310.13573752420444,398.41081338184466,11.558279443446395,31.997992727424737,4.075075425430034,0\n",
      "5.584086638456089,188.3133237696164,28748.68773904612,7.54486878877965,326.6783629116736,280.4679159334877,8.399734640152758,54.917861841994466,2.5597082275565217,0\n",
      "10.223862164528773,248.07173527013992,28749.716543528233,7.5134084658313025,393.66339551509645,283.6516335078445,13.789695317519886,84.60355617402357,2.672988736934779,0\n",
      "8.635848718500734,203.36152258457054,13672.091763901635,4.563008685599703,303.3097711592812,474.60764494244853,12.36381669870525,62.798308962925155,4.401424715445482,0\n",
      ",118.98857909025189,14285.583854224515,7.804173553073094,268.646940746221,389.3755658712614,12.70604896865791,53.928845767512236,3.5950171809576155,0\n",
      "\n",
      "==> ../data/water_potability_ETT.csv <==\n",
      "ph,Hardness,Solids,Chloramines,Sulfate,Conductivity,Organic_carbon,Trihalomethanes,Turbidity,Potability\n",
      ",204.8904554713363,20791.318980747026,7.300211873184757,368.51644134980336,564.3086541722439,10.3797830780847,86.9909704615088,2.9631353806316407,0\n",
      "3.71608007538699,129.42292051494425,18630.057857970347,6.635245883862,,592.8853591348523,15.180013116357259,56.32907628451764,4.500656274942408,0\n",
      "8.099124189298397,224.23625939355776,19909.541732292393,9.275883602694089,,418.6062130644815,16.868636929550973,66.42009251176368,3.0559337496641685,0\n",
      "8.316765884214679,214.37339408562252,22018.417440775294,8.05933237743854,356.88613564305666,363.2665161642437,18.436524495493302,100.34167436508008,4.628770536837084,0\n",
      "9.092223456290965,181.10150923612525,17978.98633892625,6.546599974207941,310.13573752420444,398.41081338184466,11.558279443446395,31.997992727424737,4.075075425430034,0\n",
      "5.584086638456089,188.3133237696164,28748.68773904612,7.54486878877965,326.6783629116736,280.4679159334877,8.399734640152758,54.917861841994466,2.5597082275565217,0\n",
      "10.223862164528773,248.07173527013992,28749.716543528233,7.5134084658313025,393.66339551509645,283.6516335078445,13.789695317519886,84.60355617402357,2.672988736934779,0\n",
      "8.635848718500734,203.36152258457054,13672.091763901635,4.563008685599703,303.3097711592812,474.60764494244853,12.36381669870525,62.798308962925155,4.401424715445482,0\n",
      ",118.98857909025189,14285.583854224515,7.804173553073094,268.646940746221,389.3755658712614,12.70604896865791,53.928845767512236,3.5950171809576155,0\n"
     ]
    }
   ],
   "source": [
    "!head ../data/*.csv"
   ]
  },
  {
   "cell_type": "markdown",
   "metadata": {},
   "source": [
    "## Create an input pipeline \n",
    "\n",
    "Typically, you will use a two step proces to build the pipeline. Step one is to define the columns of data; i.e., which column we're predicting for, and the default values.  Step 2 is to define two functions - a function to define the features and label you want to use and a function to load the training data.  Also, note that pickup_datetime is a string and we will need to handle this in our feature engineered model.  \n"
   ]
  },
  {
   "cell_type": "code",
   "execution_count": 6,
   "metadata": {},
   "outputs": [],
   "source": [
    "CSV_COLUMNS = [\n",
    "    'fare_amount',\n",
    "    'pickup_datetime',\n",
    "    'pickup_longitude',\n",
    "    'pickup_latitude',\n",
    "    'dropoff_longitude',\n",
    "    'dropoff_latitude',\n",
    "    'passenger_count',\n",
    "    'key',\n",
    "]\n",
    "LABEL_COLUMN = 'fare_amount'\n",
    "STRING_COLS = ['pickup_datetime']\n",
    "NUMERIC_COLS = ['pickup_longitude', 'pickup_latitude',\n",
    "                'dropoff_longitude', 'dropoff_latitude',\n",
    "                'passenger_count']\n",
    "DEFAULTS = [[0.0], ['na'], [0.0], [0.0], [0.0], [0.0], [0.0], ['na']]\n",
    "DAYS = ['Sun', 'Mon', 'Tue', 'Wed', 'Thu', 'Fri', 'Sat']"
   ]
  },
  {
   "cell_type": "code",
   "execution_count": 7,
   "metadata": {},
   "outputs": [],
   "source": [
    "# A function to define features and labesl\n",
    "def features_and_labels(row_data):\n",
    "    for unwanted_col in ['key']:\n",
    "        row_data.pop(unwanted_col)\n",
    "    label = row_data.pop(LABEL_COLUMN)\n",
    "    return row_data, label\n",
    "\n",
    "\n",
    "# A utility method to create a tf.data dataset from a Pandas Dataframe\n",
    "def load_dataset(pattern, batch_size=1, mode='eval'):\n",
    "    dataset = tf.data.experimental.make_csv_dataset(pattern,\n",
    "                                                    batch_size,\n",
    "                                                    CSV_COLUMNS,\n",
    "                                                    DEFAULTS)\n",
    "    dataset = dataset.map(features_and_labels)  # features, label\n",
    "    if mode == 'train':\n",
    "        dataset = dataset.shuffle(1000).repeat()\n",
    "        # take advantage of multi-threading; 1=AUTOTUNE\n",
    "        dataset = dataset.prefetch(1)\n",
    "    return dataset"
   ]
  },
  {
   "cell_type": "markdown",
   "metadata": {},
   "source": [
    "## Create a Baseline DNN Model in Keras\n",
    "\n",
    "Now let's build the Deep Neural Network (DNN) model in Keras using the functional API. Unlike the sequential API, we will need to specify the input and hidden layers.  Note that we are creating a linear regression baseline model with no feature engineering. Recall that a baseline model is a solution to a problem without applying any machine learning techniques."
   ]
  },
  {
   "cell_type": "code",
   "execution_count": 8,
   "metadata": {},
   "outputs": [],
   "source": [
    "# Build a simple Keras DNN using its Functional API\n",
    "def rmse(y_true, y_pred):  # Root mean square error\n",
    "    return tf.sqrt(tf.reduce_mean(tf.square(y_pred - y_true)))\n",
    "\n",
    "\n",
    "def build_dnn_model():\n",
    "    # input layer\n",
    "    inputs = {\n",
    "        colname: layers.Input(name=colname, shape=(), dtype='float32')\n",
    "        for colname in NUMERIC_COLS\n",
    "    }\n",
    "\n",
    "    # feature_columns\n",
    "    feature_columns = {\n",
    "        colname: fc.numeric_column(colname)\n",
    "        for colname in NUMERIC_COLS\n",
    "    }\n",
    "\n",
    "    # Constructor for DenseFeatures takes a list of numeric columns\n",
    "    dnn_inputs = layers.DenseFeatures(feature_columns.values())(inputs)\n",
    "\n",
    "    # two hidden layers of [32, 8] just in like the BQML DNN\n",
    "    h1 = layers.Dense(32, activation='relu', name='h1')(dnn_inputs)\n",
    "    h2 = layers.Dense(8, activation='relu', name='h2')(h1)\n",
    "\n",
    "    # final output is a linear activation because this is regression\n",
    "    output = layers.Dense(1, activation='linear', name='fare')(h2)\n",
    "    model = models.Model(inputs, output)\n",
    "\n",
    "    # compile model\n",
    "    model.compile(optimizer='adam', loss='mse', metrics=[rmse, 'mse'])\n",
    "\n",
    "    return model"
   ]
  },
  {
   "cell_type": "markdown",
   "metadata": {},
   "source": [
    "We'll build our DNN model and inspect the model architecture."
   ]
  },
  {
   "cell_type": "code",
   "execution_count": null,
   "metadata": {},
   "outputs": [
    {
     "name": "stderr",
     "output_type": "stream",
     "text": [
      "2021-10-07 20:08:32.819468: I tensorflow/core/platform/profile_utils/cpu_utils.cc:104] CPU Frequency: 2200205000 Hz\n",
      "2021-10-07 20:08:32.820894: I tensorflow/compiler/xla/service/service.cc:168] XLA service 0x555903e37860 initialized for platform Host (this does not guarantee that XLA will be used). Devices:\n",
      "2021-10-07 20:08:32.820930: I tensorflow/compiler/xla/service/service.cc:176]   StreamExecutor device (0): Host, Default Version\n",
      "2021-10-07 20:08:32.821468: I tensorflow/core/common_runtime/process_util.cc:146] Creating new thread pool with default inter op setting: 2. Tune using inter_op_parallelism_threads for best performance.\n"
     ]
    },
    {
     "data": {
      "image/png": "[encoded data removed]",
      "text/plain": [
       "<IPython.core.display.Image object>"
      ]
     },
     "execution_count": 9,
     "metadata": {},
     "output_type": "execute_result"
    }
   ],
   "source": [
    "model = build_dnn_model()\n",
    "\n",
    "tf.keras.utils.plot_model(model, 'dnn_model.png', show_shapes=False, rankdir='LR')"
   ]
  },
  {
   "cell_type": "markdown",
   "metadata": {},
   "source": [
    "## Train the model\n",
    "\n",
    "To train the model, simply call [model.fit()](https://keras.io/models/model/#fit).  Note that we should really use many more NUM_TRAIN_EXAMPLES (i.e. a larger dataset). We shouldn't make assumptions about the quality of the model based on training/evaluating it on a small sample of the full data.\n",
    "\n",
    "We start by setting up the environment variables for training, creating the input pipeline datasets, and then train our baseline DNN model."
   ]
  },
  {
   "cell_type": "code",
   "execution_count": 29,
   "metadata": {},
   "outputs": [],
   "source": [
    "TRAIN_BATCH_SIZE = 24\n",
    "NUM_TRAIN_EXAMPLES = 59621 * 5\n",
    "NUM_EVALS = 5\n",
    "NUM_EVAL_EXAMPLES = 14906"
   ]
  },
  {
   "cell_type": "code",
   "execution_count": null,
   "metadata": {},
   "outputs": [
    {
     "name": "stdout",
     "output_type": "stream",
     "text": [
      "Epoch 1/5\n"
     ]
    },
    {
     "name": "stderr",
     "output_type": "stream",
     "text": [
      "/opt/conda/lib/python3.7/site-packages/tensorflow/python/keras/engine/functional.py:543: UserWarning: Input dict contained keys ['pickup_datetime'] which did not match any model input. They will be ignored by the model.\n",
      "  [n for n in tensors.keys() if n not in ref_input_names])\n"
     ]
    },
    {
     "name": "stdout",
     "output_type": "stream",
     "text": [
      "1863/1863 [==============================] - 9s 5ms/step - loss: 105.0304 - rmse: 9.5743 - mse: 105.0304 - val_loss: 100.0006 - val_rmse: 9.9875 - val_mse: 100.0006\n",
      "Epoch 2/5\n",
      "1863/1863 [==============================] - 9s 5ms/step - loss: 103.6426 - rmse: 9.5815 - mse: 103.6426 - val_loss: 100.8088 - val_rmse: 10.0295 - val_mse: 100.8088\n",
      "Epoch 3/5\n",
      "1863/1863 [==============================] - 8s 4ms/step - loss: 101.9694 - rmse: 9.5459 - mse: 101.9694 - val_loss: 102.2001 - val_rmse: 10.0947 - val_mse: 102.2001\n",
      "Epoch 4/5\n",
      "1863/1863 [==============================] - 9s 5ms/step - loss: 99.9883 - rmse: 9.4331 - mse: 99.9883 - val_loss: 100.4945 - val_rmse: 9.9973 - val_mse: 100.4945\n",
      "Epoch 5/5\n",
      "1863/1863 [==============================] - 8s 5ms/step - loss: 103.7403 - rmse: 9.5841 - mse: 103.7403 - val_loss: 101.7387 - val_rmse: 10.0595 - val_mse: 101.7387\n"
     ]
    }
   ],
   "source": [
    "trainds = load_dataset('../data/taxi-train*',\n",
    "                       TRAIN_BATCH_SIZE,\n",
    "                       'train')\n",
    "evalds = load_dataset('../data/taxi-valid*',\n",
    "                      1000,\n",
    "                      'eval').take(NUM_EVAL_EXAMPLES//1000)\n",
    "\n",
    "steps_per_epoch = NUM_TRAIN_EXAMPLES // (TRAIN_BATCH_SIZE * NUM_EVALS)\n",
    "\n",
    "history = model.fit(trainds,\n",
    "                    validation_data=evalds,\n",
    "                    epochs=NUM_EVALS,\n",
    "                    steps_per_epoch=steps_per_epoch)"
   ]
  },
  {
   "cell_type": "markdown",
   "metadata": {},
   "source": [
    "### Visualize the model loss curve\n",
    "\n",
    "Next, we will use matplotlib to draw the model's loss curves for training and validation.  A line plot is also created showing the mean squared error loss over the training epochs for both the train (blue) and test (orange) sets."
   ]
  },
  {
   "cell_type": "code",
   "execution_count": null,
   "metadata": {},
   "outputs": [],
   "source": [
    "def plot_curves(history, metrics):\n",
    "    nrows = 1\n",
    "    ncols = 2\n",
    "    fig = plt.figure(figsize=(10, 5))\n",
    "\n",
    "    for idx, key in enumerate(metrics):  \n",
    "        ax = fig.add_subplot(nrows, ncols, idx+1)\n",
    "        plt.plot(history.history[key])\n",
    "        plt.plot(history.history['val_{}'.format(key)])\n",
    "        plt.title('model {}'.format(key))\n",
    "        plt.ylabel(key)\n",
    "        plt.xlabel('epoch')\n",
    "        plt.legend(['train', 'validation'], loc='upper left');    "
   ]
  },
  {
   "cell_type": "code",
   "execution_count": null,
   "metadata": {},
   "outputs": [
    {
     "data": {
      "image/png": "[encoded data removed]",
      "text/plain": [
       "<Figure size 720x360 with 2 Axes>"
      ]
     },
     "metadata": {
      "needs_background": "light"
     },
     "output_type": "display_data"
    }
   ],
   "source": [
    "plot_curves(history, ['loss', 'mse'])"
   ]
  },
  {
   "cell_type": "markdown",
   "metadata": {},
   "source": [
    "### Predict with the model locally\n",
    "\n",
    "To predict with Keras, you simply call [model.predict()](https://keras.io/models/model/#predict) and pass in the cab ride you want to predict the fare amount for.  Next we note the fare price at this geolocation and pickup_datetime."
   ]
  },
  {
   "cell_type": "code",
   "execution_count": null,
   "metadata": {},
   "outputs": [
    {
     "data": {
      "text/plain": [
       "array([[12.366584]], dtype=float32)"
      ]
     },
     "execution_count": 14,
     "metadata": {},
     "output_type": "execute_result"
    }
   ],
   "source": [
    "model.predict({\n",
    "    'pickup_longitude': tf.convert_to_tensor([-73.982683]),\n",
    "    'pickup_latitude': tf.convert_to_tensor([40.742104]),\n",
    "    'dropoff_longitude': tf.convert_to_tensor([-73.983766]),\n",
    "    'dropoff_latitude': tf.convert_to_tensor([40.755174]),\n",
    "    'passenger_count': tf.convert_to_tensor([3.0]),\n",
    "    'pickup_datetime': tf.convert_to_tensor(['2010-02-08 09:17:00 UTC'], dtype=tf.string),\n",
    "}, steps=1)"
   ]
  },
  {
   "cell_type": "markdown",
   "metadata": {},
   "source": [
    "## Improve Model Performance Using Feature Engineering \n",
    "\n",
    "We now improve our model's performance by creating the following feature engineering types:  Temporal, Categorical, and Geolocation. "
   ]
  },
  {
   "cell_type": "markdown",
   "metadata": {},
   "source": [
    "### Temporal Feature Columns\n",
    "\n",
    "**Exercise.** Processing temporal feature columns in Keras"
   ]
  },
  {
   "cell_type": "markdown",
   "metadata": {},
   "source": [
    "We incorporate the temporal feature pickup_datetime.  As noted earlier, pickup_datetime is a string and we will need to handle this within the model.  First, you will include the pickup_datetime as a feature and then you will need to modify the model to handle our string feature."
   ]
  },
  {
   "cell_type": "code",
   "execution_count": 16,
   "metadata": {},
   "outputs": [],
   "source": [
    "def parse_datetime(s):\n",
    "    if type(s) is not str:\n",
    "        s = s.numpy().decode('utf-8')\n",
    "    return datetime.datetime.strptime(s, \"%Y-%m-%d %H:%M:%S %Z\")\n",
    "\n",
    "\n",
    "def get_dayofweek(s):\n",
    "    ts = parse_datetime(s)\n",
    "    return DAYS[ts.weekday()]\n",
    "\n",
    "\n",
    "@tf.function\n",
    "def dayofweek(ts_in):\n",
    "    return tf.map_fn(\n",
    "        lambda s: tf.py_function(get_dayofweek, inp=[s], Tout=tf.string),\n",
    "        ts_in)"
   ]
  },
  {
   "cell_type": "markdown",
   "metadata": {},
   "source": [
    "### Geolocation/Coordinate Feature Columns\n",
    "\n",
    "The pick-up/drop-off longitude and latitude data are crucial to predicting the fare amount as fare amounts in NYC taxis are largely determined by the distance traveled. As such, we need to teach the model the Euclidean distance between the pick-up and drop-off points.\n",
    "\n",
    "Recall that latitude and longitude allows us to specify any location on Earth using a set of coordinates. In our training data set, we restricted our data points to only pickups and drop offs within NYC. New York city has an approximate longitude range of -74.05 to -73.75 and a latitude range of 40.63 to 40.85.\n",
    "\n",
    "#### Computing Euclidean distance\n",
    "The dataset contains information regarding the pickup and drop off coordinates. However, there is no information regarding the distance between the pickup and drop off points. Therefore, we create a new feature that calculates the distance between each pair of pickup and drop off points. We can do this using the Euclidean Distance, which is the straight-line distance between any two coordinate points."
   ]
  },
  {
   "cell_type": "code",
   "execution_count": 17,
   "metadata": {},
   "outputs": [],
   "source": [
    "def euclidean(params):\n",
    "    lon1, lat1, lon2, lat2 = params\n",
    "    londiff = lon2 - lon1\n",
    "    latdiff = lat2 - lat1\n",
    "    return tf.sqrt(londiff*londiff + latdiff*latdiff)"
   ]
  },
  {
   "cell_type": "markdown",
   "metadata": {},
   "source": [
    "#### Scaling latitude and longitude\n",
    "\n",
    "It is very important for numerical variables to get scaled before they are \"fed\" into the neural network. Here we use min-max scaling (also called normalization) on the geolocation fetures.  Later in our model, you will see that these values are shifted and rescaled so that they end up ranging from 0 to 1.\n",
    "\n",
    "First, we create a function named 'scale_longitude', where we pass in all the longitudinal values and add 78 to each value.  Note that our scaling longitude ranges from -70 to -78. Thus, the value 78 is the maximum longitudinal value.  The delta or difference between -70 and -78 is 8.  We add 78 to each longitidunal value and then divide by 8 to return a scaled value."
   ]
  },
  {
   "cell_type": "code",
   "execution_count": 18,
   "metadata": {},
   "outputs": [],
   "source": [
    "def scale_longitude(lon_column):\n",
    "    return (lon_column + 78)/8."
   ]
  },
  {
   "cell_type": "markdown",
   "metadata": {},
   "source": [
    "Next, we create a function named 'scale_latitude', where we pass in all the latitudinal values and subtract 37 from each value.  Note that our scaling latitude ranges from -37 to -45. Thus, the value 37 is the minimal latitudinal value.  The delta or difference between -37 and -45 is 8.  We subtract 37 from each latitudinal value and then divide by 8 to return a scaled value."
   ]
  },
  {
   "cell_type": "code",
   "execution_count": 19,
   "metadata": {},
   "outputs": [],
   "source": [
    "def scale_latitude(lat_column):\n",
    "    return (lat_column - 37)/8."
   ]
  },
  {
   "cell_type": "markdown",
   "metadata": {},
   "source": [
    "### Putting it all together\n",
    "We will create a function called \"euclidean\" to initialize our geolocation parameters. We then create a function called transform. The transform function passes our numerical and string column features as inputs to the model, scales geolocation features, then creates the Euclian distance as a transformed variable with the geolocation features. Lastly, we bucketize the latitude and longitude features."
   ]
  },
  {
   "cell_type": "markdown",
   "metadata": {},
   "source": [
    "**Exercise.**  We will use Lambda layers to create two new \"geo\" functions for our model."
   ]
  },
  {
   "cell_type": "markdown",
   "metadata": {},
   "source": [
    "**Exercise.**  Creating the bucketized and crossed feature columns"
   ]
  },
  {
   "cell_type": "code",
   "execution_count": 22,
   "metadata": {},
   "outputs": [],
   "source": [
    "def transform(inputs, numeric_cols, string_cols, nbuckets):\n",
    "    print(\"Inputs before features transformation: {}\".format(inputs.keys()))\n",
    "\n",
    "    # Pass-through columns\n",
    "    transformed = inputs.copy()\n",
    "    del transformed['pickup_datetime']\n",
    "\n",
    "    feature_columns = {\n",
    "        colname: tf.feature_column.numeric_column(colname)\n",
    "        for colname in numeric_cols\n",
    "    }\n",
    "\n",
    "    # Scaling longitude from range [-70, -78] to [0, 1]\n",
    "    for lon_col in ['pickup_longitude', 'dropoff_longitude']:\n",
    "        transformed[lon_col] = layers.Lambda(\n",
    "            scale_longitude,\n",
    "            name=\"scale_{}\".format(lon_col))(inputs[lon_col])\n",
    "\n",
    "    # Scaling latitude from range [37, 45] to [0, 1]\n",
    "    for lat_col in ['pickup_latitude', 'dropoff_latitude']:\n",
    "        transformed[lat_col] = layers.Lambda(\n",
    "            scale_latitude,\n",
    "            name='scale_{}'.format(lat_col))(inputs[lat_col])\n",
    "    \n",
    "    # add Euclidean distance\n",
    "    transformed['euclidean'] = layers.Lambda(\n",
    "        euclidean,\n",
    "        name='euclidean')([inputs['pickup_longitude'],\n",
    "                           inputs['pickup_latitude'],\n",
    "                           inputs['dropoff_longitude'],\n",
    "                           inputs['dropoff_latitude']])\n",
    "    feature_columns['euclidean'] = fc.numeric_column('euclidean')\n",
    "\n",
    "    # create bucketized features\n",
    "    latbuckets = np.linspace(0, 1, nbuckets).tolist()\n",
    "    lonbuckets = np.linspace(0, 1, nbuckets).tolist()\n",
    "    b_plat = fc.bucketized_column(\n",
    "        feature_columns['pickup_latitude'], latbuckets)\n",
    "    b_dlat = fc.bucketized_column(\n",
    "        feature_columns['dropoff_latitude'], latbuckets)\n",
    "    b_plon = fc.bucketized_column(\n",
    "        feature_columns['pickup_longitude'], lonbuckets)\n",
    "    b_dlon = fc.bucketized_column(\n",
    "        feature_columns['dropoff_longitude'], lonbuckets)\n",
    "\n",
    "    # create crossed columns\n",
    "    ploc = fc.crossed_column([b_plat, b_plon], nbuckets * nbuckets)\n",
    "    dloc = fc.crossed_column([b_dlat, b_dlon], nbuckets * nbuckets)\n",
    "    pd_pair = fc.crossed_column([ploc, dloc], nbuckets ** 4)\n",
    "        \n",
    "    # create embedding columns\n",
    "    feature_columns['pickup_and_dropoff'] = fc.embedding_column(pd_pair, 100)\n",
    "\n",
    "    print(\"Transformed features: {}\".format(transformed.keys()))\n",
    "    print(\"Feature columns: {}\".format(feature_columns.keys()))\n",
    "    return transformed, feature_columns"
   ]
  },
  {
   "cell_type": "markdown",
   "metadata": {},
   "source": [
    "Next, we'll create our DNN model now with the engineered features. We'll set `NBUCKETS = 10` to specify 10 buckets when bucketizing the latitude and longitude."
   ]
  },
  {
   "cell_type": "code",
   "execution_count": 44,
   "metadata": {},
   "outputs": [],
   "source": [
    "NBUCKETS = 10\n",
    "\n",
    "\n",
    "# DNN MODEL\n",
    "def rmse(y_true, y_pred):\n",
    "    return tf.sqrt(tf.reduce_mean(tf.square(y_pred - y_true)))\n",
    "\n",
    "\n",
    "def build_dnn_model():\n",
    "    # input layer is all float except for pickup_datetime which is a string\n",
    "    inputs = {\n",
    "        colname: layers.Input(name=colname, shape=(), dtype='float32')\n",
    "        for colname in NUMERIC_COLS\n",
    "    }\n",
    "    inputs.update({\n",
    "        colname: tf.keras.layers.Input(name=colname, shape=(), dtype='string')\n",
    "        for colname in STRING_COLS\n",
    "    })\n",
    "\n",
    "    # transforms\n",
    "    transformed, feature_columns = transform(inputs,\n",
    "                                             numeric_cols=NUMERIC_COLS,\n",
    "                                             string_cols=STRING_COLS,\n",
    "                                             nbuckets=NBUCKETS)\n",
    "    dnn_inputs = layers.DenseFeatures(feature_columns.values())(transformed)\n",
    "\n",
    "    # two hidden layers of [32, 8] just in like the BQML DNN\n",
    "    h1 = layers.Dense(48, activation='relu', name='h1')(dnn_inputs)\n",
    "    h2 = layers.Dense(8, activation='relu', name='h2')(h1)\n",
    "\n",
    "    # final output is a linear activation because this is regression\n",
    "    output = layers.Dense(1, activation='linear', name='fare')(h2)\n",
    "    model = models.Model(inputs, output)\n",
    "\n",
    "    # Compile model\n",
    "    model.compile(optimizer='adam', loss='mse', metrics=[rmse, 'mse'])\n",
    "    return model"
   ]
  },
  {
   "cell_type": "code",
   "execution_count": 45,
   "metadata": {},
   "outputs": [
    {
     "name": "stdout",
     "output_type": "stream",
     "text": [
      "Inputs before features transformation: dict_keys(['pickup_longitude', 'pickup_latitude', 'dropoff_longitude', 'dropoff_latitude', 'passenger_count', 'pickup_datetime'])\n",
      "Transformed features: dict_keys(['pickup_longitude', 'pickup_latitude', 'dropoff_longitude', 'dropoff_latitude', 'passenger_count', 'euclidean'])\n",
      "Feature columns: dict_keys(['pickup_longitude', 'pickup_latitude', 'dropoff_longitude', 'dropoff_latitude', 'passenger_count', 'euclidean', 'pickup_and_dropoff'])\n"
     ]
    }
   ],
   "source": [
    "model = build_dnn_model()"
   ]
  },
  {
   "cell_type": "markdown",
   "metadata": {},
   "source": [
    "Let's see how our model architecture has changed now."
   ]
  },
  {
   "cell_type": "code",
   "execution_count": 25,
   "metadata": {},
   "outputs": [
    {
     "data": {
      "image/png": "[encoded data removed]",
      "text/plain": [
       "<IPython.core.display.Image object>"
      ]
     },
     "execution_count": 25,
     "metadata": {},
     "output_type": "execute_result"
    }
   ],
   "source": [
    "tf.keras.utils.plot_model(model, 'dnn_model_engineered.png', show_shapes=False, rankdir='LR')"
   ]
  },
  {
   "cell_type": "code",
   "execution_count": 46,
   "metadata": {},
   "outputs": [],
   "source": [
    "TRAIN_BATCH_SIZE = 48\n",
    "NUM_TRAIN_EXAMPLES = 59621 * 5\n",
    "NUM_EVALS = 5\n",
    "NUM_EVAL_EXAMPLES = 14906"
   ]
  },
  {
   "cell_type": "code",
   "execution_count": 47,
   "metadata": {},
   "outputs": [
    {
     "name": "stdout",
     "output_type": "stream",
     "text": [
      "Epoch 1/8\n",
      "1242/1242 [==============================] - 25s 20ms/step - loss: 98.4306 - rmse: 9.5022 - mse: 98.4306 - val_loss: 84.1442 - val_rmse: 9.1506 - val_mse: 84.1442\n",
      "Epoch 2/8\n",
      "1242/1242 [==============================] - 24s 19ms/step - loss: 56.5713 - rmse: 6.9391 - mse: 56.5713 - val_loss: 32.3418 - val_rmse: 5.5897 - val_mse: 32.3418\n",
      "Epoch 3/8\n",
      "1242/1242 [==============================] - 24s 19ms/step - loss: 30.1119 - rmse: 4.6849 - mse: 30.1119 - val_loss: 25.7191 - val_rmse: 4.9986 - val_mse: 25.7191\n",
      "Epoch 4/8\n",
      "1242/1242 [==============================] - 22s 17ms/step - loss: 28.6563 - rmse: 4.4620 - mse: 28.6563 - val_loss: 24.6948 - val_rmse: 4.9370 - val_mse: 24.6948\n",
      "Epoch 5/8\n",
      "1242/1242 [==============================] - 24s 20ms/step - loss: 27.2721 - rmse: 4.4692 - mse: 27.2721 - val_loss: 26.9812 - val_rmse: 5.1293 - val_mse: 26.9812\n",
      "Epoch 6/8\n",
      "1242/1242 [==============================] - 24s 19ms/step - loss: 25.0156 - rmse: 4.3273 - mse: 25.0156 - val_loss: 23.3834 - val_rmse: 4.7630 - val_mse: 23.3834\n",
      "Epoch 7/8\n",
      "1242/1242 [==============================] - 23s 19ms/step - loss: 26.9735 - rmse: 4.4275 - mse: 26.9735 - val_loss: 25.5830 - val_rmse: 5.0073 - val_mse: 25.5830\n",
      "Epoch 8/8\n",
      "1242/1242 [==============================] - 24s 20ms/step - loss: 27.6951 - rmse: 4.4875 - mse: 27.6951 - val_loss: 28.0602 - val_rmse: 5.2272 - val_mse: 28.0602\n"
     ]
    }
   ],
   "source": [
    "trainds = load_dataset('../data/taxi-train*',\n",
    "                       TRAIN_BATCH_SIZE,\n",
    "                       'train')\n",
    "evalds = load_dataset('../data/taxi-valid*',\n",
    "                      1000,\n",
    "                      'eval').take(NUM_EVAL_EXAMPLES//1000)\n",
    "\n",
    "steps_per_epoch = NUM_TRAIN_EXAMPLES // (TRAIN_BATCH_SIZE * NUM_EVALS)\n",
    "\n",
    "history = model.fit(trainds,\n",
    "                    validation_data=evalds,\n",
    "                    epochs=NUM_EVALS+3,\n",
    "                    steps_per_epoch=steps_per_epoch)"
   ]
  },
  {
   "cell_type": "markdown",
   "metadata": {},
   "source": [
    "As before, let's visualize the DNN model layers. "
   ]
  },
  {
   "cell_type": "code",
   "execution_count": 48,
   "metadata": {},
   "outputs": [
    {
     "data": {
      "image/png": "[encoded data removed]",
      "text/plain": [
       "<Figure size 720x360 with 2 Axes>"
      ]
     },
     "metadata": {
      "needs_background": "light"
     },
     "output_type": "display_data"
    }
   ],
   "source": [
    "plot_curves(history, ['loss', 'mse'])"
   ]
  },
  {
   "cell_type": "markdown",
   "metadata": {},
   "source": [
    "Let's a prediction with this new model with engineered features on the example we had above. "
   ]
  },
  {
   "cell_type": "code",
   "execution_count": 34,
   "metadata": {},
   "outputs": [
    {
     "data": {
      "text/plain": [
       "array([[6.317338]], dtype=float32)"
      ]
     },
     "execution_count": 34,
     "metadata": {},
     "output_type": "execute_result"
    }
   ],
   "source": [
    "model.predict({\n",
    "    'pickup_longitude': tf.convert_to_tensor([-73.982683]),\n",
    "    'pickup_latitude': tf.convert_to_tensor([40.742104]),\n",
    "    'dropoff_longitude': tf.convert_to_tensor([-73.983766]),\n",
    "    'dropoff_latitude': tf.convert_to_tensor([40.755174]),\n",
    "    'passenger_count': tf.convert_to_tensor([3.0]),\n",
    "    'pickup_datetime': tf.convert_to_tensor(['2010-02-08 09:17:00 UTC'], dtype=tf.string),\n",
    "}, steps=1)"
   ]
  },
  {
   "cell_type": "markdown",
   "metadata": {},
   "source": [
    "Below we summarize our training results comparing our baseline model with our model with engineered features."
   ]
  },
  {
   "cell_type": "markdown",
   "metadata": {},
   "source": [
    "| Model              | Taxi Fare | Description                               |\n",
    "|--------------------|-----------|-------------------------------------------|\n",
    "| Baseline           | 12.366584     | Baseline model - no feature engineering |\n",
    "| Feature Engineered | 6.434309      | Feature Engineered Model                |"
   ]
  },
  {
   "cell_type": "markdown",
   "metadata": {},
   "source": [
    "Copyright 2020 Google Inc.\n",
    "Licensed under the Apache License, Version 2.0 (the \"License\"); you may not use this file except in compliance with the License. You may obtain a copy of the License at\n",
    "http://www.apache.org/licenses/LICENSE-2.0\n",
    "Unless required by applicable law or agreed to in writing, software distributed under the License is distributed on an \"AS IS\" BASIS, WITHOUT WARRANTIES OR CONDITIONS OF ANY KIND, either express or implied. See the License for the specific language governing permissions and limitations under the License."
   ]
  }
 ],
 "metadata": {
  "environment": {
   "name": "tf2-gpu.2-3.m80",
   "type": "gcloud",
   "uri": "gcr.io/deeplearning-platform-release/tf2-gpu.2-3:m80"
  },
  "kernelspec": {
   "display_name": "Python 3",
   "language": "python",
   "name": "python3"
  },
  "language_info": {
   "codemirror_mode": {
    "name": "ipython",
    "version": 3
   },
   "file_extension": ".py",
   "mimetype": "text/x-python",
   "name": "python",
   "nbconvert_exporter": "python",
   "pygments_lexer": "ipython3",
   "version": "3.7.10"
  }
 },
 "nbformat": 4,
 "nbformat_minor": 4
}
