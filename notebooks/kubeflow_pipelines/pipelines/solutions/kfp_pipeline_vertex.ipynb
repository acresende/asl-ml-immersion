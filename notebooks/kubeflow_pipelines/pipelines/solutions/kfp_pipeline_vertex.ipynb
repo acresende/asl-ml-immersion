{
 "cells": [
  {
   "cell_type": "markdown",
   "metadata": {},
   "source": [
    "# Continuous Training with Kubeflow Pipeline and Vertex AI"
   ]
  },
  {
   "cell_type": "markdown",
   "metadata": {},
   "source": [
    "**Learning Objectives:**\n",
    "1. Learn how to use KF pre-built components\n",
    "1. Learn how to use KF lightweight python components\n",
    "1. Learn how to build a KF pipeline with these components\n",
    "1. Learn how to compile, upload, and run a KF pipeline\n",
    "\n",
    "\n",
    "In this lab, you will build, deploy, and run a KFP pipeline that orchestrates the **Vertex AI** services to train, tune, and deploy a **scikit-learn** model."
   ]
  },
  {
   "cell_type": "markdown",
   "metadata": {},
   "source": [
    "## Setup"
   ]
  },
  {
   "cell_type": "code",
   "execution_count": 1,
   "metadata": {},
   "outputs": [],
   "source": [
    "from google.cloud import aiplatform"
   ]
  },
  {
   "cell_type": "code",
   "execution_count": 2,
   "metadata": {},
   "outputs": [],
   "source": [
    "REGION = 'us-central1'\n",
    "PROJECT_ID = !(gcloud config get-value project)\n",
    "PROJECT_ID = PROJECT_ID[0]"
   ]
  },
  {
   "cell_type": "code",
   "execution_count": 3,
   "metadata": {},
   "outputs": [
    {
     "name": "stdout",
     "output_type": "stream",
     "text": [
      "env: PATH=/home/jupyter/.local/bin:/usr/local/cuda/bin:/opt/conda/bin:/opt/conda/condabin:/usr/local/bin:/usr/bin:/bin:/usr/local/games:/usr/games\n"
     ]
    }
   ],
   "source": [
    "# Set `PATH` to include the directory containing KFP CLI\n",
    "PATH=%env PATH\n",
    "%env PATH=/home/jupyter/.local/bin:{PATH}"
   ]
  },
  {
   "cell_type": "markdown",
   "metadata": {},
   "source": [
    "## Understanding the pipeline design\n"
   ]
  },
  {
   "cell_type": "markdown",
   "metadata": {},
   "source": [
    "The workflow implemented by the pipeline is defined using a Python based Domain Specific Language (DSL). The pipeline's DSL is in the `pipeline_vertex/pipeline.py` file that we will generate below.\n",
    "\n",
    "The pipeline's DSL has been designed to avoid hardcoding any environment specific settings like file paths or connection strings. These settings are provided to the pipeline code through a set of environment variables.\n"
   ]
  },
  {
   "cell_type": "markdown",
   "metadata": {},
   "source": [
    "### Build the trainer image"
   ]
  },
  {
   "cell_type": "markdown",
   "metadata": {},
   "source": [
    "The training step in the pipeline will require a custom training container. The custom training image is defined in `trainer_image/Dockerfile`."
   ]
  },
  {
   "cell_type": "code",
   "execution_count": 4,
   "metadata": {},
   "outputs": [
    {
     "name": "stdout",
     "output_type": "stream",
     "text": [
      "FROM gcr.io/deeplearning-platform-release/base-cpu\n",
      "RUN pip install -U fire cloudml-hypertune scikit-learn==0.20.4 pandas==0.24.2\n",
      "WORKDIR /app\n",
      "COPY train.py .\n",
      "\n",
      "ENTRYPOINT [\"python\", \"train.py\"]\n"
     ]
    }
   ],
   "source": [
    "!cat trainer_image_vertex/Dockerfile"
   ]
  },
  {
   "cell_type": "markdown",
   "metadata": {},
   "source": [
    "Let's now build and push this trainer container to the container registry:"
   ]
  },
  {
   "cell_type": "code",
   "execution_count": 5,
   "metadata": {},
   "outputs": [
    {
     "data": {
      "text/plain": [
       "'gcr.io/qwiklabs-gcp-00-eeb852ce8ccb/trainer_image_covertype_vertex:latest'"
      ]
     },
     "execution_count": 5,
     "metadata": {},
     "output_type": "execute_result"
    }
   ],
   "source": [
    "IMAGE_NAME='trainer_image_covertype_vertex'\n",
    "TAG='latest'\n",
    "TRAINING_CONTAINER_IMAGE_URI=f'gcr.io/{PROJECT_ID}/{IMAGE_NAME}:{TAG}'\n",
    "TRAINING_CONTAINER_IMAGE_URI"
   ]
  },
  {
   "cell_type": "code",
   "execution_count": 6,
   "metadata": {},
   "outputs": [
    {
     "name": "stdout",
     "output_type": "stream",
     "text": [
      "Creating temporary tarball archive of 2 file(s) totalling 3.4 KiB before compression.\n",
      "Uploading tarball of [trainer_image_vertex] to [gs://qwiklabs-gcp-00-eeb852ce8ccb_cloudbuild/source/1634329299.067384-7f9301774c944fd381bb446bf4b21116.tgz]\n",
      "Created [https://cloudbuild.googleapis.com/v1/projects/qwiklabs-gcp-00-eeb852ce8ccb/locations/global/builds/eb73c31b-0e67-4ee2-b812-08b27fdf4307].\n",
      "Logs are available at [https://console.cloud.google.com/cloud-build/builds/eb73c31b-0e67-4ee2-b812-08b27fdf4307?project=432069008306].\n",
      "----------------------------- REMOTE BUILD OUTPUT ------------------------------\n",
      "starting build \"eb73c31b-0e67-4ee2-b812-08b27fdf4307\"\n",
      "\n",
      "FETCHSOURCE\n",
      "Fetching storage object: gs://qwiklabs-gcp-00-eeb852ce8ccb_cloudbuild/source/1634329299.067384-7f9301774c944fd381bb446bf4b21116.tgz#1634329299393573\n",
      "Copying gs://qwiklabs-gcp-00-eeb852ce8ccb_cloudbuild/source/1634329299.067384-7f9301774c944fd381bb446bf4b21116.tgz#1634329299393573...\n",
      "/ [1 files][  1.6 KiB/  1.6 KiB]                                                \n",
      "Operation completed over 1 objects/1.6 KiB.\n",
      "BUILD\n",
      "Already have image (with digest): gcr.io/cloud-builders/docker\n",
      "Sending build context to Docker daemon  6.144kB\n",
      "Step 1/5 : FROM gcr.io/deeplearning-platform-release/base-cpu\n",
      "latest: Pulling from deeplearning-platform-release/base-cpu\n",
      "284055322776: Pulling fs layer\n",
      "7fb8f1c4c1a1: Pulling fs layer\n",
      "a76d4d20d139: Pulling fs layer\n",
      "0b21e6315b88: Pulling fs layer\n",
      "4f4fb700ef54: Pulling fs layer\n",
      "f20cf01c7ad4: Pulling fs layer\n",
      "1b7343e814c0: Pulling fs layer\n",
      "60a9c997c4ea: Pulling fs layer\n",
      "a697b94b728d: Pulling fs layer\n",
      "742c7aa077c0: Pulling fs layer\n",
      "32785b1c9c12: Pulling fs layer\n",
      "4853207b454b: Pulling fs layer\n",
      "b9d1b08c1bab: Pulling fs layer\n",
      "1bb1e9e50f0e: Pulling fs layer\n",
      "2f28472901e5: Pulling fs layer\n",
      "d62168f40eab: Pulling fs layer\n",
      "d3e0c8453e12: Pulling fs layer\n",
      "0220041f8fd4: Pulling fs layer\n",
      "0b21e6315b88: Waiting\n",
      "4f4fb700ef54: Waiting\n",
      "f20cf01c7ad4: Waiting\n",
      "1b7343e814c0: Waiting\n",
      "60a9c997c4ea: Waiting\n",
      "a697b94b728d: Waiting\n",
      "742c7aa077c0: Waiting\n",
      "32785b1c9c12: Waiting\n",
      "b9d1b08c1bab: Waiting\n",
      "1bb1e9e50f0e: Waiting\n",
      "2f28472901e5: Waiting\n",
      "d62168f40eab: Waiting\n",
      "d3e0c8453e12: Waiting\n",
      "0220041f8fd4: Waiting\n",
      "4853207b454b: Waiting\n",
      "7fb8f1c4c1a1: Verifying Checksum\n",
      "7fb8f1c4c1a1: Download complete\n",
      "284055322776: Verifying Checksum\n",
      "284055322776: Download complete\n",
      "4f4fb700ef54: Verifying Checksum\n",
      "4f4fb700ef54: Download complete\n",
      "f20cf01c7ad4: Verifying Checksum\n",
      "f20cf01c7ad4: Download complete\n",
      "0b21e6315b88: Verifying Checksum\n",
      "0b21e6315b88: Download complete\n",
      "60a9c997c4ea: Verifying Checksum\n",
      "60a9c997c4ea: Download complete\n",
      "a697b94b728d: Verifying Checksum\n",
      "a697b94b728d: Download complete\n",
      "742c7aa077c0: Download complete\n",
      "32785b1c9c12: Verifying Checksum\n",
      "32785b1c9c12: Download complete\n",
      "4853207b454b: Verifying Checksum\n",
      "4853207b454b: Download complete\n",
      "b9d1b08c1bab: Verifying Checksum\n",
      "b9d1b08c1bab: Download complete\n",
      "1bb1e9e50f0e: Verifying Checksum\n",
      "1bb1e9e50f0e: Download complete\n",
      "1b7343e814c0: Verifying Checksum\n",
      "1b7343e814c0: Download complete\n",
      "d62168f40eab: Verifying Checksum\n",
      "d62168f40eab: Download complete\n",
      "2f28472901e5: Verifying Checksum\n",
      "2f28472901e5: Download complete\n",
      "0220041f8fd4: Verifying Checksum\n",
      "0220041f8fd4: Download complete\n",
      "a76d4d20d139: Verifying Checksum\n",
      "a76d4d20d139: Download complete\n",
      "284055322776: Pull complete\n",
      "7fb8f1c4c1a1: Pull complete\n",
      "d3e0c8453e12: Verifying Checksum\n",
      "d3e0c8453e12: Download complete\n",
      "a76d4d20d139: Pull complete\n",
      "0b21e6315b88: Pull complete\n",
      "4f4fb700ef54: Pull complete\n",
      "f20cf01c7ad4: Pull complete\n",
      "1b7343e814c0: Pull complete\n",
      "60a9c997c4ea: Pull complete\n",
      "a697b94b728d: Pull complete\n",
      "742c7aa077c0: Pull complete\n",
      "32785b1c9c12: Pull complete\n",
      "4853207b454b: Pull complete\n",
      "b9d1b08c1bab: Pull complete\n",
      "1bb1e9e50f0e: Pull complete\n",
      "2f28472901e5: Pull complete\n",
      "d62168f40eab: Pull complete\n",
      "d3e0c8453e12: Pull complete\n",
      "0220041f8fd4: Pull complete\n",
      "Digest: sha256:5625223382682dfadea17adb2536c6e90e4349c02e8938fe46ca71a8ee65978a\n",
      "Status: Downloaded newer image for gcr.io/deeplearning-platform-release/base-cpu:latest\n",
      " ---> 3336e1db68a5\n",
      "Step 2/5 : RUN pip install -U fire cloudml-hypertune scikit-learn==0.20.4 pandas==0.24.2\n",
      " ---> Running in dec897fc50f8\n",
      "Collecting fire\n",
      "  Downloading fire-0.4.0.tar.gz (87 kB)\n",
      "Collecting cloudml-hypertune\n",
      "  Downloading cloudml-hypertune-0.1.0.dev6.tar.gz (3.2 kB)\n",
      "Collecting scikit-learn==0.20.4\n",
      "  Downloading scikit_learn-0.20.4-cp37-cp37m-manylinux1_x86_64.whl (5.4 MB)\n",
      "Collecting pandas==0.24.2\n",
      "  Downloading pandas-0.24.2-cp37-cp37m-manylinux1_x86_64.whl (10.1 MB)\n",
      "Requirement already satisfied: numpy>=1.8.2 in /opt/conda/lib/python3.7/site-packages (from scikit-learn==0.20.4) (1.19.5)\n",
      "Requirement already satisfied: scipy>=0.13.3 in /opt/conda/lib/python3.7/site-packages (from scikit-learn==0.20.4) (1.7.1)\n",
      "Requirement already satisfied: python-dateutil>=2.5.0 in /opt/conda/lib/python3.7/site-packages (from pandas==0.24.2) (2.8.2)\n",
      "Requirement already satisfied: pytz>=2011k in /opt/conda/lib/python3.7/site-packages (from pandas==0.24.2) (2021.3)\n",
      "Requirement already satisfied: six in /opt/conda/lib/python3.7/site-packages (from fire) (1.16.0)\n",
      "Collecting termcolor\n",
      "  Downloading termcolor-1.1.0.tar.gz (3.9 kB)\n",
      "Building wheels for collected packages: fire, cloudml-hypertune, termcolor\n",
      "  Building wheel for fire (setup.py): started\n",
      "  Building wheel for fire (setup.py): finished with status 'done'\n",
      "  Created wheel for fire: filename=fire-0.4.0-py2.py3-none-any.whl size=115943 sha256=2ae67b4265086631cff03b32f699db48c09e061f012039a364bc4b2aee22f0a8\n",
      "  Stored in directory: /root/.cache/pip/wheels/8a/67/fb/2e8a12fa16661b9d5af1f654bd199366799740a85c64981226\n",
      "  Building wheel for cloudml-hypertune (setup.py): started\n",
      "  Building wheel for cloudml-hypertune (setup.py): finished with status 'done'\n",
      "  Created wheel for cloudml-hypertune: filename=cloudml_hypertune-0.1.0.dev6-py2.py3-none-any.whl size=3987 sha256=c0e8a37a19513dd3215e305dbe73b6290f9407c8fbc7e96830e697113a340e3a\n",
      "  Stored in directory: /root/.cache/pip/wheels/a7/ff/87/e7bed0c2741fe219b3d6da67c2431d7f7fedb183032e00f81e\n",
      "  Building wheel for termcolor (setup.py): started\n",
      "  Building wheel for termcolor (setup.py): finished with status 'done'\n",
      "  Created wheel for termcolor: filename=termcolor-1.1.0-py3-none-any.whl size=4847 sha256=254b75c05fec989f723a33940c3545353da18cf32ff149644b0e8446c9688968\n",
      "  Stored in directory: /root/.cache/pip/wheels/3f/e3/ec/8a8336ff196023622fbcb36de0c5a5c218cbb24111d1d4c7f2\n",
      "Successfully built fire cloudml-hypertune termcolor\n",
      "Installing collected packages: termcolor, scikit-learn, pandas, fire, cloudml-hypertune\n",
      "  Attempting uninstall: scikit-learn\n",
      "    Found existing installation: scikit-learn 1.0\n",
      "    Uninstalling scikit-learn-1.0:\n",
      "      Successfully uninstalled scikit-learn-1.0\n",
      "  Attempting uninstall: pandas\n",
      "    Found existing installation: pandas 1.3.3\n",
      "    Uninstalling pandas-1.3.3:\n",
      "      Successfully uninstalled pandas-1.3.3\n",
      "\u001b[91mERROR: pip's dependency resolver does not currently take into account all the packages that are installed. This behaviour is the source of the following dependency conflicts.\n",
      "visions 0.7.4 requires pandas>=0.25.3, but you have pandas 0.24.2 which is incompatible.\n",
      "statsmodels 0.13.0 requires pandas>=0.25, but you have pandas 0.24.2 which is incompatible.\n",
      "phik 0.11.2 requires pandas>=0.25.1, but you have pandas 0.24.2 which is incompatible.\n",
      "pandas-profiling 3.1.0 requires pandas!=1.0.0,!=1.0.1,!=1.0.2,!=1.1.0,>=0.25.3, but you have pandas 0.24.2 which is incompatible.\n",
      "\u001b[0mSuccessfully installed cloudml-hypertune-0.1.0.dev6 fire-0.4.0 pandas-0.24.2 scikit-learn-0.20.4 termcolor-1.1.0\n",
      "\u001b[91mWARNING: Running pip as the 'root' user can result in broken permissions and conflicting behaviour with the system package manager. It is recommended to use a virtual environment instead: https://pip.pypa.io/warnings/venv\n",
      "\u001b[0mRemoving intermediate container dec897fc50f8\n",
      " ---> 12382e0c29df\n",
      "Step 3/5 : WORKDIR /app\n",
      " ---> Running in 2e69a082a813\n",
      "Removing intermediate container 2e69a082a813\n",
      " ---> 2266fd327afd\n",
      "Step 4/5 : COPY train.py .\n",
      " ---> cfd0d6dbd99d\n",
      "Step 5/5 : ENTRYPOINT [\"python\", \"train.py\"]\n",
      " ---> Running in d3d53e16b3f1\n",
      "Removing intermediate container d3d53e16b3f1\n",
      " ---> ad81ef953259\n",
      "Successfully built ad81ef953259\n",
      "Successfully tagged gcr.io/qwiklabs-gcp-00-eeb852ce8ccb/trainer_image_covertype_vertex:latest\n",
      "PUSH\n",
      "Pushing gcr.io/qwiklabs-gcp-00-eeb852ce8ccb/trainer_image_covertype_vertex:latest\n",
      "The push refers to repository [gcr.io/qwiklabs-gcp-00-eeb852ce8ccb/trainer_image_covertype_vertex]\n",
      "275839fba98f: Preparing\n",
      "eaa9cbd0018d: Preparing\n",
      "c094f0af14e8: Preparing\n",
      "36452ee8c539: Preparing\n",
      "14da8ed3cd11: Preparing\n",
      "c0b791673ed4: Preparing\n",
      "30b70207e11d: Preparing\n",
      "cefbe2063c4d: Preparing\n",
      "13aae071416e: Preparing\n",
      "6905e12d5606: Preparing\n",
      "6d80f75a021b: Preparing\n",
      "bd325cd68ba0: Preparing\n",
      "41b0c4cd943a: Preparing\n",
      "45f84ed3ae7e: Preparing\n",
      "7a827fd16c0d: Preparing\n",
      "0df2e122bf51: Preparing\n",
      "5f70bf18a086: Preparing\n",
      "7ea0939ee63b: Preparing\n",
      "379ac210e2ce: Preparing\n",
      "ea39a5660b36: Preparing\n",
      "824bf068fd3d: Preparing\n",
      "bd325cd68ba0: Waiting\n",
      "41b0c4cd943a: Waiting\n",
      "45f84ed3ae7e: Waiting\n",
      "7a827fd16c0d: Waiting\n",
      "0df2e122bf51: Waiting\n",
      "5f70bf18a086: Waiting\n",
      "7ea0939ee63b: Waiting\n",
      "379ac210e2ce: Waiting\n",
      "ea39a5660b36: Waiting\n",
      "824bf068fd3d: Waiting\n",
      "c0b791673ed4: Waiting\n",
      "30b70207e11d: Waiting\n",
      "cefbe2063c4d: Waiting\n",
      "13aae071416e: Waiting\n",
      "6905e12d5606: Waiting\n",
      "6d80f75a021b: Waiting\n",
      "14da8ed3cd11: Layer already exists\n",
      "36452ee8c539: Layer already exists\n",
      "c0b791673ed4: Layer already exists\n",
      "30b70207e11d: Layer already exists\n",
      "cefbe2063c4d: Layer already exists\n",
      "13aae071416e: Layer already exists\n",
      "6905e12d5606: Layer already exists\n",
      "6d80f75a021b: Layer already exists\n",
      "bd325cd68ba0: Layer already exists\n",
      "41b0c4cd943a: Layer already exists\n",
      "7a827fd16c0d: Layer already exists\n",
      "45f84ed3ae7e: Layer already exists\n",
      "0df2e122bf51: Layer already exists\n",
      "5f70bf18a086: Layer already exists\n",
      "7ea0939ee63b: Layer already exists\n",
      "379ac210e2ce: Layer already exists\n",
      "ea39a5660b36: Layer already exists\n",
      "824bf068fd3d: Layer already exists\n",
      "275839fba98f: Pushed\n",
      "eaa9cbd0018d: Pushed\n",
      "c094f0af14e8: Pushed\n",
      "latest: digest: sha256:c5a9871e21bd199c6be00199c712187834382a0acadbac381f67927e0253c141 size: 4707\n",
      "DONE\n",
      "--------------------------------------------------------------------------------\n",
      "ID                                    CREATE_TIME                DURATION  SOURCE                                                                                                      IMAGES                                                                        STATUS\n",
      "eb73c31b-0e67-4ee2-b812-08b27fdf4307  2021-10-15T20:21:39+00:00  2M24S     gs://qwiklabs-gcp-00-eeb852ce8ccb_cloudbuild/source/1634329299.067384-7f9301774c944fd381bb446bf4b21116.tgz  gcr.io/qwiklabs-gcp-00-eeb852ce8ccb/trainer_image_covertype_vertex (+1 more)  SUCCESS\n"
     ]
    }
   ],
   "source": [
    "!gcloud builds submit --timeout 15m --tag $TRAINING_CONTAINER_IMAGE_URI trainer_image_vertex"
   ]
  },
  {
   "cell_type": "markdown",
   "metadata": {},
   "source": [
    "To match the ml framework version we use at training time while serving the model, we will have to supply the following serving container to the pipeline:"
   ]
  },
  {
   "cell_type": "code",
   "execution_count": 7,
   "metadata": {},
   "outputs": [],
   "source": [
    "SERVING_CONTAINER_IMAGE_URI = 'us-docker.pkg.dev/vertex-ai/prediction/sklearn-cpu.0-20:latest'"
   ]
  },
  {
   "cell_type": "markdown",
   "metadata": {},
   "source": [
    "**Note:** If you change the version of the training ml framework you'll have to supply a serving container with matchin version (see [pre-built containers for prediction](https://cloud.google.com/vertex-ai/docs/predictions/pre-built-containers))."
   ]
  },
  {
   "cell_type": "markdown",
   "metadata": {},
   "source": [
    "## Building and deploying the pipeline"
   ]
  },
  {
   "cell_type": "markdown",
   "metadata": {},
   "source": [
    "Let us write the pipeline to disk:"
   ]
  },
  {
   "cell_type": "code",
   "execution_count": 8,
   "metadata": {},
   "outputs": [
    {
     "name": "stdout",
     "output_type": "stream",
     "text": [
      "Overwriting ./pipeline_vertex/pipeline.py\n"
     ]
    }
   ],
   "source": [
    "%%writefile ./pipeline_vertex/pipeline.py\n",
    "# Copyright 2021 Google LLC\n",
    "\n",
    "# Licensed under the Apache License, Version 2.0 (the \"License\"); you may not use this\n",
    "# file except in compliance with the License. You may obtain a copy of the License at\n",
    "\n",
    "# https://www.apache.org/licenses/LICENSE-2.0\n",
    "    \n",
    "# Unless required by applicable law or agreed to in writing, software \n",
    "# distributed under the License is distributed on an \"AS IS\"\n",
    "# BASIS, WITHOUT WARRANTIES OR CONDITIONS OF ANY KIND, either \n",
    "# express or implied. See the License for the specific language governing \n",
    "# permissions and limitations under the License.\n",
    "\"\"\"Kubeflow Covertype Pipeline.\"\"\"\n",
    "import os\n",
    "\n",
    "from kfp import dsl\n",
    "from kfp.components import create_component_from_func_v2\n",
    "\n",
    "from tuning_lightweight_component import tune_hyperparameters\n",
    "from training_lightweight_component import train_and_deploy\n",
    "\n",
    "\n",
    "PIPELINE_ROOT = os.getenv('PIPELINE_ROOT')\n",
    "PROJECT_ID = os.getenv('PROJECT_ID')\n",
    "REGION = os.getenv('REGION')\n",
    "\n",
    "TRAINING_CONTAINER_IMAGE_URI = os.getenv('TRAINING_CONTAINER_IMAGE_URI')\n",
    "SERVING_CONTAINER_IMAGE_URI = os.getenv('SERVING_CONTAINER_IMAGE_URI')\n",
    "\n",
    "TRAINING_FILE_PATH = os.getenv('TRAINING_FILE_PATH')\n",
    "VALIDATION_FILE_PATH = os.getenv('VALIDATION_FILE_PATH')\n",
    "\n",
    "MAX_TRIAL_COUNT = os.getenv('MAX_TRIAL_COUNT', 5)\n",
    "PARALLEL_TRIAL_COUNT = os.getenv('PARALLEL_TRIAL_COUNT', 5)\n",
    "THRESHOLD = os.getenv('THRESHOLD', 0.6)\n",
    "\n",
    "\n",
    "tune_hyperparameters_component = create_component_from_func_v2(\n",
    "    tune_hyperparameters,\n",
    "    base_image='python:3.8',\n",
    "    output_component_file='covertype_kfp_tune_hyperparameters.yaml',\n",
    "    packages_to_install=['google-cloud-aiplatform'],\n",
    ")\n",
    "\n",
    "\n",
    "train_and_deploy_component = create_component_from_func_v2(\n",
    "    train_and_deploy,\n",
    "    base_image='python:3.8',\n",
    "    output_component_file='covertype_kfp_train_and_deploy.yaml',\n",
    "    packages_to_install=['google-cloud-aiplatform'],\n",
    "\n",
    ")\n",
    "\n",
    "\n",
    "@dsl.pipeline(\n",
    "    name=\"covertype-kfp-pipeline\",\n",
    "    description=\"The pipeline training and deploying the Covertype classifier\",\n",
    "    pipeline_root=PIPELINE_ROOT,\n",
    ")\n",
    "def covertype_train(\n",
    "    training_container_uri: str = TRAINING_CONTAINER_IMAGE_URI,\n",
    "    serving_container_uri: str = SERVING_CONTAINER_IMAGE_URI,\n",
    "    training_file_path: str = TRAINING_FILE_PATH,\n",
    "    validation_file_path: str = VALIDATION_FILE_PATH,\n",
    "    accuracy_deployment_threshold: float = THRESHOLD,\n",
    "    max_trial_count: int = MAX_TRIAL_COUNT,\n",
    "    parallel_trial_count: int = PARALLEL_TRIAL_COUNT,\n",
    "    pipeline_root: str = PIPELINE_ROOT,\n",
    "):\n",
    "    staging_bucket = f'{pipeline_root}/staging'\n",
    "    \n",
    "    tuning_op = tune_hyperparameters_component(\n",
    "        project=PROJECT_ID,\n",
    "        location=REGION,\n",
    "        container_uri=training_container_uri,\n",
    "        training_file_path=training_file_path,\n",
    "        validation_file_path=validation_file_path,\n",
    "        staging_bucket=staging_bucket,\n",
    "        max_trial_count=max_trial_count,\n",
    "        parallel_trial_count=parallel_trial_count,\n",
    "    )\n",
    "    \n",
    "    accuracy = tuning_op.outputs['best_accuracy']\n",
    "    \n",
    "    with dsl.Condition(accuracy >= accuracy_deployment_threshold, name=\"deploy_decision\"):    \n",
    "        train_and_deploy_op = train_and_deploy_component(\n",
    "            project=PROJECT_ID,\n",
    "            location=REGION,\n",
    "            container_uri=training_container_uri,\n",
    "            serving_container_uri=serving_container_uri,\n",
    "            training_file_path=training_file_path,\n",
    "            validation_file_path=validation_file_path,\n",
    "            staging_bucket=staging_bucket,\n",
    "            alpha=tuning_op.outputs['best_alpha'], \n",
    "            max_iter=tuning_op.outputs['best_max_iter'],            \n",
    "        )"
   ]
  },
  {
   "cell_type": "markdown",
   "metadata": {},
   "source": [
    "### Compile the pipeline"
   ]
  },
  {
   "cell_type": "markdown",
   "metadata": {},
   "source": [
    "Let stat by defining the environment variables that will be passed to the pipeline compiler:"
   ]
  },
  {
   "cell_type": "code",
   "execution_count": 9,
   "metadata": {},
   "outputs": [
    {
     "name": "stdout",
     "output_type": "stream",
     "text": [
      "env: PIPELINE_ROOT=gs://qwiklabs-gcp-00-eeb852ce8ccb-vertex/pipeline\n",
      "env: PROJECT_ID=qwiklabs-gcp-00-eeb852ce8ccb\n",
      "env: REGION=us-central1\n",
      "env: SERVING_CONTAINER_IMAGE_URI=us-docker.pkg.dev/vertex-ai/prediction/sklearn-cpu.0-20:latest\n",
      "env: TRAINING_CONTAINER_IMAGE_URI=gcr.io/qwiklabs-gcp-00-eeb852ce8ccb/trainer_image_covertype_vertex:latest\n",
      "env: TRAINING_FILE_PATH=gs://qwiklabs-gcp-00-eeb852ce8ccb-vertex/data/training/dataset.csv\n",
      "env: VALIDATION_FILE_PATH=gs://qwiklabs-gcp-00-eeb852ce8ccb-vertex/data/validation/dataset.csv\n"
     ]
    }
   ],
   "source": [
    "ARTIFACT_STORE = f'gs://{PROJECT_ID}-vertex'\n",
    "PIPELINE_ROOT = f'{ARTIFACT_STORE}/pipeline'\n",
    "DATA_ROOT = f'{ARTIFACT_STORE}/data'\n",
    "\n",
    "TRAINING_FILE_PATH = f'{DATA_ROOT}/training/dataset.csv'\n",
    "VALIDATION_FILE_PATH = f'{DATA_ROOT}/validation/dataset.csv'\n",
    "\n",
    "%env PIPELINE_ROOT={PIPELINE_ROOT}\n",
    "%env PROJECT_ID={PROJECT_ID}\n",
    "%env REGION={REGION}\n",
    "%env SERVING_CONTAINER_IMAGE_URI={SERVING_CONTAINER_IMAGE_URI}\n",
    "%env TRAINING_CONTAINER_IMAGE_URI={TRAINING_CONTAINER_IMAGE_URI}\n",
    "%env TRAINING_FILE_PATH={TRAINING_FILE_PATH}\n",
    "%env VALIDATION_FILE_PATH={VALIDATION_FILE_PATH}"
   ]
  },
  {
   "cell_type": "markdown",
   "metadata": {},
   "source": [
    "Let us make sure that the `ARTIFACT_STORE` has been created, and let us create it if not:"
   ]
  },
  {
   "cell_type": "code",
   "execution_count": 10,
   "metadata": {},
   "outputs": [
    {
     "name": "stdout",
     "output_type": "stream",
     "text": [
      "gs://qwiklabs-gcp-00-eeb852ce8ccb-vertex/\n"
     ]
    }
   ],
   "source": [
    "!gsutil ls | grep ^{ARTIFACT_STORE}/$ || gsutil mb -l {REGION} {ARTIFACT_STORE}"
   ]
  },
  {
   "cell_type": "markdown",
   "metadata": {},
   "source": [
    "**Note:** In case the artifact store was not created and properly set before hand, you may need\n",
    "to run in **CloudShell** the following command to allow Vertex AI to access it:\n",
    "\n",
    "```\n",
    "PROJECT_ID=$(gcloud config get-value project)\n",
    "PROJECT_NUMBER=$(gcloud projects list --filter=\"name=$PROJECT_ID\" --format=\"value(PROJECT_NUMBER)\")\n",
    "gcloud projects add-iam-policy-binding $PROJECT_ID \\\n",
    "    --member=\"serviceAccount:$PROJECT_NUMBER-compute@developer.gserviceaccount.com\" \\\n",
    "    --role=\"roles/storage.objectAdmin\"\n",
    "```"
   ]
  },
  {
   "cell_type": "markdown",
   "metadata": {},
   "source": [
    "#### Use the CLI compiler to compile the pipeline"
   ]
  },
  {
   "cell_type": "markdown",
   "metadata": {},
   "source": [
    "We compile the pipeline from the Python file we generated into a JSON description using the following command:"
   ]
  },
  {
   "cell_type": "code",
   "execution_count": 11,
   "metadata": {},
   "outputs": [],
   "source": [
    "PIPELINE_JSON = 'covertype_kfp_pipeline.json'"
   ]
  },
  {
   "cell_type": "code",
   "execution_count": 14,
   "metadata": {},
   "outputs": [
    {
     "ename": "SyntaxError",
     "evalue": "invalid syntax (2635817507.py, line 1)",
     "output_type": "error",
     "traceback": [
      "\u001b[0;36m  File \u001b[0;32m\"/tmp/ipykernel_11080/2635817507.py\"\u001b[0;36m, line \u001b[0;32m1\u001b[0m\n\u001b[0;31m    dsl-compile-v2 --py pipeline_vertex/pipeline.py --output $PIPELINE_JSON\u001b[0m\n\u001b[0m                                      ^\u001b[0m\n\u001b[0;31mSyntaxError\u001b[0m\u001b[0;31m:\u001b[0m invalid syntax\n"
     ]
    }
   ],
   "source": [
    "!dsl-compile-v2 --py pipeline_vertex/pipeline.py --output $PIPELINE_JSON"
   ]
  },
  {
   "cell_type": "markdown",
   "metadata": {},
   "source": [
    "**Note:** You can also use the Python SDK to compile the pipeline from its python function\n",
    "\n",
    "```python\n",
    "compiler.Compiler().compile(\n",
    "    pipeline_func=covertype_train, \n",
    "    package_path=PIPELINE_JSON,\n",
    ")\n",
    "\n",
    "```"
   ]
  },
  {
   "cell_type": "markdown",
   "metadata": {},
   "source": [
    "The result is the pipeline file. "
   ]
  },
  {
   "cell_type": "code",
   "execution_count": null,
   "metadata": {},
   "outputs": [],
   "source": [
    "!head {PIPELINE_JSON}"
   ]
  },
  {
   "cell_type": "markdown",
   "metadata": {},
   "source": [
    "### Deploy the pipeline package"
   ]
  },
  {
   "cell_type": "code",
   "execution_count": null,
   "metadata": {},
   "outputs": [],
   "source": [
    "aiplatform.init(project=PROJECT_ID, location=REGION)\n",
    "\n",
    "pipeline = aiplatform.PipelineJob(\n",
    "    display_name='covertype_kfp_pipeline', \n",
    "    template_path=PIPELINE_JSON, \n",
    "    enable_caching=False,\n",
    ")\n",
    "\n",
    "pipeline.run()"
   ]
  },
  {
   "cell_type": "markdown",
   "metadata": {},
   "source": [
    "Copyright 2021 Google LLC\n",
    "\n",
    "Licensed under the Apache License, Version 2.0 (the \"License\");\n",
    "you may not use this file except in compliance with the License.\n",
    "You may obtain a copy of the License at\n",
    "\n",
    "    https://www.apache.org/licenses/LICENSE-2.0\n",
    "\n",
    "Unless required by applicable law or agreed to in writing, software\n",
    "distributed under the License is distributed on an \"AS IS\" BASIS,\n",
    "WITHOUT WARRANTIES OR CONDITIONS OF ANY KIND, either express or implied.\n",
    "See the License for the specific language governing permissions and\n",
    "limitations under the License."
   ]
  }
 ],
 "metadata": {
  "environment": {
   "name": "tf2-gpu.2-3.m80",
   "type": "gcloud",
   "uri": "gcr.io/deeplearning-platform-release/tf2-gpu.2-3:m80"
  },
  "kernelspec": {
   "display_name": "Python 3",
   "language": "python",
   "name": "python3"
  },
  "language_info": {
   "codemirror_mode": {
    "name": "ipython",
    "version": 3
   },
   "file_extension": ".py",
   "mimetype": "text/x-python",
   "name": "python",
   "nbconvert_exporter": "python",
   "pygments_lexer": "ipython3",
   "version": "3.7.10"
  }
 },
 "nbformat": 4,
 "nbformat_minor": 4
}
